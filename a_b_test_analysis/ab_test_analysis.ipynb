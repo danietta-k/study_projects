{
 "cells": [
  {
   "cell_type": "markdown",
   "metadata": {
    "toc": true
   },
   "source": [
    "<h1>Содержание<span class=\"tocSkip\"></span></h1>\n",
    "<div class=\"toc\"><ul class=\"toc-item\"><li><span><a href=\"#Анализ-результатов-A/B-теста-интернет-магазина\" data-toc-modified-id=\"Анализ-результатов-A/B-теста-интернет-магазина-1\">Анализ результатов A/B теста интернет-магазина</a></span><ul class=\"toc-item\"><li><span><a href=\"#Открытие-файла-и-изучение-общей-информации\" data-toc-modified-id=\"Открытие-файла-и-изучение-общей-информации-1.1\">Открытие файла и изучение общей информации</a></span><ul class=\"toc-item\"><li><span><a href=\"#Общая-информация\" data-toc-modified-id=\"Общая-информация-1.1.1\">Общая информация</a></span></li><li><span><a href=\"#Проверка-дубликатов\" data-toc-modified-id=\"Проверка-дубликатов-1.1.2\">Проверка дубликатов</a></span></li><li><span><a href=\"#Проверка-пропусков\" data-toc-modified-id=\"Проверка-пропусков-1.1.3\">Проверка пропусков</a></span></li><li><span><a href=\"#Типы-данных\" data-toc-modified-id=\"Типы-данных-1.1.4\">Типы данных</a></span></li><li><span><a href=\"#Неявные-дубликаты\" data-toc-modified-id=\"Неявные-дубликаты-1.1.5\">Неявные дубликаты</a></span></li><li><span><a href=\"#Проверка-значений-и-гистограммы\" data-toc-modified-id=\"Проверка-значений-и-гистограммы-1.1.6\">Проверка значений и гистограммы</a></span><ul class=\"toc-item\"><li><span><a href=\"#Посещения\" data-toc-modified-id=\"Посещения-1.1.6.1\">Посещения</a></span></li><li><span><a href=\"#Заказы\" data-toc-modified-id=\"Заказы-1.1.6.2\">Заказы</a></span></li></ul></li><li><span><a href=\"#Вывод\" data-toc-modified-id=\"Вывод-1.1.7\">Вывод</a></span></li></ul></li><li><span><a href=\"#Приоритизация-гипотез\" data-toc-modified-id=\"Приоритизация-гипотез-1.2\">Приоритизация гипотез</a></span><ul class=\"toc-item\"><li><span><a href=\"#Приоритизация-гипотез-с-помощью-фреймворка-ICE\" data-toc-modified-id=\"Приоритизация-гипотез-с-помощью-фреймворка-ICE-1.2.1\">Приоритизация гипотез с помощью фреймворка ICE</a></span></li><li><span><a href=\"#Приоритизация-гипотез-с-помощью-фреймворка-RICE\" data-toc-modified-id=\"Приоритизация-гипотез-с-помощью-фреймворка-RICE-1.2.2\">Приоритизация гипотез с помощью фреймворка RICE</a></span></li><li><span><a href=\"#Вывод\" data-toc-modified-id=\"Вывод-1.2.3\">Вывод</a></span></li></ul></li><li><span><a href=\"#Анализ-A/B-теста\" data-toc-modified-id=\"Анализ-A/B-теста-1.3\">Анализ A/B теста</a></span><ul class=\"toc-item\"><li><span><a href=\"#Кумулятивные-метрики\" data-toc-modified-id=\"Кумулятивные-метрики-1.3.1\">Кумулятивные метрики</a></span><ul class=\"toc-item\"><li><span><a href=\"#График-кумулятивной-выручки-по-группам\" data-toc-modified-id=\"График-кумулятивной-выручки-по-группам-1.3.1.1\">График кумулятивной выручки по группам</a></span></li><li><span><a href=\"#График-кумулятивного-среднего-чека-по-группам\" data-toc-modified-id=\"График-кумулятивного-среднего-чека-по-группам-1.3.1.2\">График кумулятивного среднего чека по группам</a></span></li><li><span><a href=\"#График-относительного-изменения-кумулятивного-среднего-чека-группы-B-к-группе-A\" data-toc-modified-id=\"График-относительного-изменения-кумулятивного-среднего-чека-группы-B-к-группе-A-1.3.1.3\">График относительного изменения кумулятивного среднего чека группы B к группе A</a></span></li><li><span><a href=\"#График-кумулятивного-среднего-количества-заказов-на-посетителя-по-группам\" data-toc-modified-id=\"График-кумулятивного-среднего-количества-заказов-на-посетителя-по-группам-1.3.1.4\">График кумулятивного среднего количества заказов на посетителя по группам</a></span></li><li><span><a href=\"#График-относительного-изменения-кумулятивного-среднего-количества-заказов-на-посетителя-группы-B-к-группе-A\" data-toc-modified-id=\"График-относительного-изменения-кумулятивного-среднего-количества-заказов-на-посетителя-группы-B-к-группе-A-1.3.1.5\">График относительного изменения кумулятивного среднего количества заказов на посетителя группы B к группе A</a></span></li></ul></li><li><span><a href=\"#Анализ-выбросов\" data-toc-modified-id=\"Анализ-выбросов-1.3.2\">Анализ выбросов</a></span><ul class=\"toc-item\"><li><span><a href=\"#Количество-заказов-по-пользователям\" data-toc-modified-id=\"Количество-заказов-по-пользователям-1.3.2.1\">Количество заказов по пользователям</a></span></li><li><span><a href=\"#Поиск-аномального-количества-заказов-на-пользователя\" data-toc-modified-id=\"Поиск-аномального-количества-заказов-на-пользователя-1.3.2.2\">Поиск аномального количества заказов на пользователя</a></span></li><li><span><a href=\"#Выручка-с-заказов-по-пользователям\" data-toc-modified-id=\"Выручка-с-заказов-по-пользователям-1.3.2.3\">Выручка с заказов по пользователям</a></span></li><li><span><a href=\"#Поиск-аномальной-стоимости-заказов-на-пользователя\" data-toc-modified-id=\"Поиск-аномальной-стоимости-заказов-на-пользователя-1.3.2.4\">Поиск аномальной стоимости заказов на пользователя</a></span></li></ul></li><li><span><a href=\"#Анализ-результатов-A/B-теста\" data-toc-modified-id=\"Анализ-результатов-A/B-теста-1.3.3\">Анализ результатов A/B теста</a></span><ul class=\"toc-item\"><li><span><a href=\"#Различия-в-среднем-количестве-заказов-на-посетителя-между-группами-A-и-B-по-«сырым»-данным\" data-toc-modified-id=\"Различия-в-среднем-количестве-заказов-на-посетителя-между-группами-A-и-B-по-«сырым»-данным-1.3.3.1\">Различия в среднем количестве заказов на посетителя между группами A и B по «сырым» данным</a></span></li><li><span><a href=\"#Различия-в-среднем-чеке-между-группами-A-и-B-по-«сырым»-данным\" data-toc-modified-id=\"Различия-в-среднем-чеке-между-группами-A-и-B-по-«сырым»-данным-1.3.3.2\">Различия в среднем чеке между группами A и B по «сырым» данным</a></span></li><li><span><a href=\"#Различия-в-среднем-количестве-заказов-на-посетителя-между-группами-A-и-B-по-«очищенным»-данным\" data-toc-modified-id=\"Различия-в-среднем-количестве-заказов-на-посетителя-между-группами-A-и-B-по-«очищенным»-данным-1.3.3.3\">Различия в среднем количестве заказов на посетителя между группами A и B по «очищенным» данным</a></span></li><li><span><a href=\"#Различия-в-среднем-чеке-между-группами-A-и-B-по-«очищенным»-данным\" data-toc-modified-id=\"Различия-в-среднем-чеке-между-группами-A-и-B-по-«очищенным»-данным-1.3.3.4\">Различия в среднем чеке между группами A и B по «очищенным» данным</a></span></li></ul></li><li><span><a href=\"#Вывод\" data-toc-modified-id=\"Вывод-1.3.4\">Вывод</a></span><ul class=\"toc-item\"><li><span><a href=\"#Решение-по-результатам-A/B-теста\" data-toc-modified-id=\"Решение-по-результатам-A/B-теста-1.3.4.1\">Решение по результатам A/B теста</a></span></li></ul></li></ul></li><li><span><a href=\"#Выводы\" data-toc-modified-id=\"Выводы-1.4\">Выводы</a></span></li></ul></li></ul></div>"
   ]
  },
  {
   "cell_type": "markdown",
   "metadata": {},
   "source": [
    "# Анализ результатов A/B теста интернет-магазина"
   ]
  },
  {
   "cell_type": "markdown",
   "metadata": {},
   "source": [
    "Существует крупный интернет-магазин. Вместе с отделом маркетинга был подготовлен список гипотез для увеличения выручки.\n",
    "Необходимо приоритизировать гипотезы, запустить A/B тест и проанализировать его результаты. "
   ]
  },
  {
   "cell_type": "markdown",
   "metadata": {},
   "source": [
    "## Открытие файла и изучение общей информации"
   ]
  },
  {
   "cell_type": "code",
   "execution_count": 1,
   "metadata": {},
   "outputs": [],
   "source": [
    "import pandas as pd\n",
    "import os\n",
    "import datetime as dt\n",
    "import matplotlib.pyplot as plt\n",
    "import numpy as np\n",
    "import matplotlib.pyplot as plt\n",
    "import scipy.stats as stats\n",
    "\n",
    "import warnings\n",
    "warnings.filterwarnings('ignore')"
   ]
  },
  {
   "cell_type": "code",
   "execution_count": 2,
   "metadata": {},
   "outputs": [],
   "source": [
    "pd.set_option('display.max_colwidth', None)"
   ]
  },
  {
   "cell_type": "markdown",
   "metadata": {},
   "source": [
    "Функция для открытия файла:"
   ]
  },
  {
   "cell_type": "code",
   "execution_count": 3,
   "metadata": {},
   "outputs": [],
   "source": [
    "def read_file(file_name):\n",
    "    path1 = os.path.join('/datasets', file_name)\n",
    "    path2 = os.path.join(file_name)\n",
    "    if os.path.exists(path1):\n",
    "        df = pd.read_csv(path1)\n",
    "        return df\n",
    "    elif os.path.exists(path2):\n",
    "        df = pd.read_csv(path2)\n",
    "        return df\n",
    "    else:\n",
    "        print('Файл не найден :(')"
   ]
  },
  {
   "cell_type": "code",
   "execution_count": 4,
   "metadata": {},
   "outputs": [],
   "source": [
    "hypothesis = read_file('hypothesis.csv')"
   ]
  },
  {
   "cell_type": "code",
   "execution_count": 5,
   "metadata": {},
   "outputs": [],
   "source": [
    "orders = read_file('orders.csv')"
   ]
  },
  {
   "cell_type": "code",
   "execution_count": 6,
   "metadata": {},
   "outputs": [],
   "source": [
    "visitors = read_file('visitors.csv')"
   ]
  },
  {
   "cell_type": "markdown",
   "metadata": {},
   "source": [
    "### Общая информация"
   ]
  },
  {
   "cell_type": "code",
   "execution_count": 7,
   "metadata": {},
   "outputs": [
    {
     "data": {
      "text/html": [
       "<div>\n",
       "<style scoped>\n",
       "    .dataframe tbody tr th:only-of-type {\n",
       "        vertical-align: middle;\n",
       "    }\n",
       "\n",
       "    .dataframe tbody tr th {\n",
       "        vertical-align: top;\n",
       "    }\n",
       "\n",
       "    .dataframe thead th {\n",
       "        text-align: right;\n",
       "    }\n",
       "</style>\n",
       "<table border=\"1\" class=\"dataframe\">\n",
       "  <thead>\n",
       "    <tr style=\"text-align: right;\">\n",
       "      <th></th>\n",
       "      <th>Hypothesis</th>\n",
       "      <th>Reach</th>\n",
       "      <th>Impact</th>\n",
       "      <th>Confidence</th>\n",
       "      <th>Efforts</th>\n",
       "    </tr>\n",
       "  </thead>\n",
       "  <tbody>\n",
       "    <tr>\n",
       "      <th>0</th>\n",
       "      <td>Добавить два новых канала привлечения трафика, что позволит привлекать на 30% больше пользователей</td>\n",
       "      <td>3</td>\n",
       "      <td>10</td>\n",
       "      <td>8</td>\n",
       "      <td>6</td>\n",
       "    </tr>\n",
       "    <tr>\n",
       "      <th>1</th>\n",
       "      <td>Запустить собственную службу доставки, что сократит срок доставки заказов</td>\n",
       "      <td>2</td>\n",
       "      <td>5</td>\n",
       "      <td>4</td>\n",
       "      <td>10</td>\n",
       "    </tr>\n",
       "    <tr>\n",
       "      <th>2</th>\n",
       "      <td>Добавить блоки рекомендаций товаров на сайт интернет магазина, чтобы повысить конверсию и средний чек заказа</td>\n",
       "      <td>8</td>\n",
       "      <td>3</td>\n",
       "      <td>7</td>\n",
       "      <td>3</td>\n",
       "    </tr>\n",
       "    <tr>\n",
       "      <th>3</th>\n",
       "      <td>Изменить структура категорий, что увеличит конверсию, т.к. пользователи быстрее найдут нужный товар</td>\n",
       "      <td>8</td>\n",
       "      <td>3</td>\n",
       "      <td>3</td>\n",
       "      <td>8</td>\n",
       "    </tr>\n",
       "    <tr>\n",
       "      <th>4</th>\n",
       "      <td>Изменить цвет фона главной страницы, чтобы увеличить вовлеченность пользователей</td>\n",
       "      <td>3</td>\n",
       "      <td>1</td>\n",
       "      <td>1</td>\n",
       "      <td>1</td>\n",
       "    </tr>\n",
       "  </tbody>\n",
       "</table>\n",
       "</div>"
      ],
      "text/plain": [
       "                                                                                                     Hypothesis  \\\n",
       "0            Добавить два новых канала привлечения трафика, что позволит привлекать на 30% больше пользователей   \n",
       "1                                     Запустить собственную службу доставки, что сократит срок доставки заказов   \n",
       "2  Добавить блоки рекомендаций товаров на сайт интернет магазина, чтобы повысить конверсию и средний чек заказа   \n",
       "3           Изменить структура категорий, что увеличит конверсию, т.к. пользователи быстрее найдут нужный товар   \n",
       "4                              Изменить цвет фона главной страницы, чтобы увеличить вовлеченность пользователей   \n",
       "\n",
       "   Reach  Impact  Confidence  Efforts  \n",
       "0      3      10           8        6  \n",
       "1      2       5           4       10  \n",
       "2      8       3           7        3  \n",
       "3      8       3           3        8  \n",
       "4      3       1           1        1  "
      ]
     },
     "execution_count": 7,
     "metadata": {},
     "output_type": "execute_result"
    }
   ],
   "source": [
    "hypothesis.head()"
   ]
  },
  {
   "cell_type": "code",
   "execution_count": 8,
   "metadata": {},
   "outputs": [
    {
     "name": "stdout",
     "output_type": "stream",
     "text": [
      "<class 'pandas.core.frame.DataFrame'>\n",
      "RangeIndex: 9 entries, 0 to 8\n",
      "Data columns (total 5 columns):\n",
      " #   Column      Non-Null Count  Dtype \n",
      "---  ------      --------------  ----- \n",
      " 0   Hypothesis  9 non-null      object\n",
      " 1   Reach       9 non-null      int64 \n",
      " 2   Impact      9 non-null      int64 \n",
      " 3   Confidence  9 non-null      int64 \n",
      " 4   Efforts     9 non-null      int64 \n",
      "dtypes: int64(4), object(1)\n",
      "memory usage: 488.0+ bytes\n"
     ]
    }
   ],
   "source": [
    "hypothesis.info()"
   ]
  },
  {
   "cell_type": "markdown",
   "metadata": {},
   "source": [
    "Описание колонок:\n",
    "- `Hypothesis` - краткое описание гипотезы\n",
    "- `Reach` - охват пользователей по 10-балльной шкале\n",
    "- `Impact` - влияние на пользователей по 10-балльной шкале\n",
    "- `Confidence` - уверенность в гипотезе по 10-балльной шкале\n",
    "- `Efforts` - затраты ресурсов на проверку гипотезы по 10-балльной шкале"
   ]
  },
  {
   "cell_type": "code",
   "execution_count": 9,
   "metadata": {},
   "outputs": [
    {
     "data": {
      "text/html": [
       "<div>\n",
       "<style scoped>\n",
       "    .dataframe tbody tr th:only-of-type {\n",
       "        vertical-align: middle;\n",
       "    }\n",
       "\n",
       "    .dataframe tbody tr th {\n",
       "        vertical-align: top;\n",
       "    }\n",
       "\n",
       "    .dataframe thead th {\n",
       "        text-align: right;\n",
       "    }\n",
       "</style>\n",
       "<table border=\"1\" class=\"dataframe\">\n",
       "  <thead>\n",
       "    <tr style=\"text-align: right;\">\n",
       "      <th></th>\n",
       "      <th>transactionId</th>\n",
       "      <th>visitorId</th>\n",
       "      <th>date</th>\n",
       "      <th>revenue</th>\n",
       "      <th>group</th>\n",
       "    </tr>\n",
       "  </thead>\n",
       "  <tbody>\n",
       "    <tr>\n",
       "      <th>0</th>\n",
       "      <td>3667963787</td>\n",
       "      <td>3312258926</td>\n",
       "      <td>2019-08-15</td>\n",
       "      <td>1650</td>\n",
       "      <td>B</td>\n",
       "    </tr>\n",
       "    <tr>\n",
       "      <th>1</th>\n",
       "      <td>2804400009</td>\n",
       "      <td>3642806036</td>\n",
       "      <td>2019-08-15</td>\n",
       "      <td>730</td>\n",
       "      <td>B</td>\n",
       "    </tr>\n",
       "    <tr>\n",
       "      <th>2</th>\n",
       "      <td>2961555356</td>\n",
       "      <td>4069496402</td>\n",
       "      <td>2019-08-15</td>\n",
       "      <td>400</td>\n",
       "      <td>A</td>\n",
       "    </tr>\n",
       "    <tr>\n",
       "      <th>3</th>\n",
       "      <td>3797467345</td>\n",
       "      <td>1196621759</td>\n",
       "      <td>2019-08-15</td>\n",
       "      <td>9759</td>\n",
       "      <td>B</td>\n",
       "    </tr>\n",
       "    <tr>\n",
       "      <th>4</th>\n",
       "      <td>2282983706</td>\n",
       "      <td>2322279887</td>\n",
       "      <td>2019-08-15</td>\n",
       "      <td>2308</td>\n",
       "      <td>B</td>\n",
       "    </tr>\n",
       "  </tbody>\n",
       "</table>\n",
       "</div>"
      ],
      "text/plain": [
       "   transactionId   visitorId        date  revenue group\n",
       "0     3667963787  3312258926  2019-08-15     1650     B\n",
       "1     2804400009  3642806036  2019-08-15      730     B\n",
       "2     2961555356  4069496402  2019-08-15      400     A\n",
       "3     3797467345  1196621759  2019-08-15     9759     B\n",
       "4     2282983706  2322279887  2019-08-15     2308     B"
      ]
     },
     "execution_count": 9,
     "metadata": {},
     "output_type": "execute_result"
    }
   ],
   "source": [
    "orders.head()"
   ]
  },
  {
   "cell_type": "code",
   "execution_count": 10,
   "metadata": {},
   "outputs": [
    {
     "name": "stdout",
     "output_type": "stream",
     "text": [
      "<class 'pandas.core.frame.DataFrame'>\n",
      "RangeIndex: 1197 entries, 0 to 1196\n",
      "Data columns (total 5 columns):\n",
      " #   Column         Non-Null Count  Dtype \n",
      "---  ------         --------------  ----- \n",
      " 0   transactionId  1197 non-null   int64 \n",
      " 1   visitorId      1197 non-null   int64 \n",
      " 2   date           1197 non-null   object\n",
      " 3   revenue        1197 non-null   int64 \n",
      " 4   group          1197 non-null   object\n",
      "dtypes: int64(3), object(2)\n",
      "memory usage: 46.9+ KB\n"
     ]
    }
   ],
   "source": [
    "orders.info()"
   ]
  },
  {
   "cell_type": "markdown",
   "metadata": {},
   "source": [
    "Описание колонок:\n",
    "- `transactionId` - идентификатор заказа\n",
    "- `visitorId` - идентификатор пользователя, совершившего заказ\n",
    "- `date` - дата заказа\n",
    "- `revenue` - выручка заказа\n",
    "- `group` - группа A/B-теста, в которую попал заказ"
   ]
  },
  {
   "cell_type": "code",
   "execution_count": 11,
   "metadata": {},
   "outputs": [
    {
     "data": {
      "text/html": [
       "<div>\n",
       "<style scoped>\n",
       "    .dataframe tbody tr th:only-of-type {\n",
       "        vertical-align: middle;\n",
       "    }\n",
       "\n",
       "    .dataframe tbody tr th {\n",
       "        vertical-align: top;\n",
       "    }\n",
       "\n",
       "    .dataframe thead th {\n",
       "        text-align: right;\n",
       "    }\n",
       "</style>\n",
       "<table border=\"1\" class=\"dataframe\">\n",
       "  <thead>\n",
       "    <tr style=\"text-align: right;\">\n",
       "      <th></th>\n",
       "      <th>date</th>\n",
       "      <th>group</th>\n",
       "      <th>visitors</th>\n",
       "    </tr>\n",
       "  </thead>\n",
       "  <tbody>\n",
       "    <tr>\n",
       "      <th>0</th>\n",
       "      <td>2019-08-01</td>\n",
       "      <td>A</td>\n",
       "      <td>719</td>\n",
       "    </tr>\n",
       "    <tr>\n",
       "      <th>1</th>\n",
       "      <td>2019-08-02</td>\n",
       "      <td>A</td>\n",
       "      <td>619</td>\n",
       "    </tr>\n",
       "    <tr>\n",
       "      <th>2</th>\n",
       "      <td>2019-08-03</td>\n",
       "      <td>A</td>\n",
       "      <td>507</td>\n",
       "    </tr>\n",
       "    <tr>\n",
       "      <th>3</th>\n",
       "      <td>2019-08-04</td>\n",
       "      <td>A</td>\n",
       "      <td>717</td>\n",
       "    </tr>\n",
       "    <tr>\n",
       "      <th>4</th>\n",
       "      <td>2019-08-05</td>\n",
       "      <td>A</td>\n",
       "      <td>756</td>\n",
       "    </tr>\n",
       "  </tbody>\n",
       "</table>\n",
       "</div>"
      ],
      "text/plain": [
       "         date group  visitors\n",
       "0  2019-08-01     A       719\n",
       "1  2019-08-02     A       619\n",
       "2  2019-08-03     A       507\n",
       "3  2019-08-04     A       717\n",
       "4  2019-08-05     A       756"
      ]
     },
     "execution_count": 11,
     "metadata": {},
     "output_type": "execute_result"
    }
   ],
   "source": [
    "visitors.head()"
   ]
  },
  {
   "cell_type": "code",
   "execution_count": 12,
   "metadata": {},
   "outputs": [
    {
     "name": "stdout",
     "output_type": "stream",
     "text": [
      "<class 'pandas.core.frame.DataFrame'>\n",
      "RangeIndex: 62 entries, 0 to 61\n",
      "Data columns (total 3 columns):\n",
      " #   Column    Non-Null Count  Dtype \n",
      "---  ------    --------------  ----- \n",
      " 0   date      62 non-null     object\n",
      " 1   group     62 non-null     object\n",
      " 2   visitors  62 non-null     int64 \n",
      "dtypes: int64(1), object(2)\n",
      "memory usage: 1.6+ KB\n"
     ]
    }
   ],
   "source": [
    "visitors.info()"
   ]
  },
  {
   "cell_type": "markdown",
   "metadata": {},
   "source": [
    "Описание колонок:\n",
    "- `date` - дата\n",
    "- `group` - группа A/B-теста\n",
    "- `visitors` - количество пользователей в указанную дату в указанной группе A/B-теста"
   ]
  },
  {
   "cell_type": "markdown",
   "metadata": {},
   "source": [
    "### Проверка дубликатов"
   ]
  },
  {
   "cell_type": "markdown",
   "metadata": {},
   "source": [
    "Проверим количество дубликатов:"
   ]
  },
  {
   "cell_type": "code",
   "execution_count": 13,
   "metadata": {},
   "outputs": [
    {
     "data": {
      "text/plain": [
       "0"
      ]
     },
     "execution_count": 13,
     "metadata": {},
     "output_type": "execute_result"
    }
   ],
   "source": [
    "hypothesis.duplicated().sum()"
   ]
  },
  {
   "cell_type": "code",
   "execution_count": 14,
   "metadata": {},
   "outputs": [
    {
     "data": {
      "text/plain": [
       "0"
      ]
     },
     "execution_count": 14,
     "metadata": {},
     "output_type": "execute_result"
    }
   ],
   "source": [
    "orders.duplicated().sum()"
   ]
  },
  {
   "cell_type": "code",
   "execution_count": 15,
   "metadata": {},
   "outputs": [
    {
     "data": {
      "text/plain": [
       "0"
      ]
     },
     "execution_count": 15,
     "metadata": {},
     "output_type": "execute_result"
    }
   ],
   "source": [
    "visitors.duplicated().sum()"
   ]
  },
  {
   "cell_type": "markdown",
   "metadata": {},
   "source": [
    "Явные дубликаты отсутствуют"
   ]
  },
  {
   "cell_type": "markdown",
   "metadata": {},
   "source": [
    "### Проверка пропусков"
   ]
  },
  {
   "cell_type": "markdown",
   "metadata": {},
   "source": [
    "Проверим пропуски в датасетах:"
   ]
  },
  {
   "cell_type": "code",
   "execution_count": 16,
   "metadata": {},
   "outputs": [
    {
     "data": {
      "text/plain": [
       "Hypothesis    0\n",
       "Reach         0\n",
       "Impact        0\n",
       "Confidence    0\n",
       "Efforts       0\n",
       "dtype: int64"
      ]
     },
     "execution_count": 16,
     "metadata": {},
     "output_type": "execute_result"
    }
   ],
   "source": [
    "hypothesis.isna().sum()"
   ]
  },
  {
   "cell_type": "code",
   "execution_count": 17,
   "metadata": {},
   "outputs": [
    {
     "data": {
      "text/plain": [
       "transactionId    0\n",
       "visitorId        0\n",
       "date             0\n",
       "revenue          0\n",
       "group            0\n",
       "dtype: int64"
      ]
     },
     "execution_count": 17,
     "metadata": {},
     "output_type": "execute_result"
    }
   ],
   "source": [
    "orders.isna().sum()"
   ]
  },
  {
   "cell_type": "code",
   "execution_count": 18,
   "metadata": {},
   "outputs": [
    {
     "data": {
      "text/plain": [
       "date        0\n",
       "group       0\n",
       "visitors    0\n",
       "dtype: int64"
      ]
     },
     "execution_count": 18,
     "metadata": {},
     "output_type": "execute_result"
    }
   ],
   "source": [
    "visitors.isna().sum()"
   ]
  },
  {
   "cell_type": "markdown",
   "metadata": {},
   "source": [
    "Пропуски отсутствуют"
   ]
  },
  {
   "cell_type": "markdown",
   "metadata": {},
   "source": [
    "Приведем названия колонок в датасете `hypothesis` к нижнему регистру:"
   ]
  },
  {
   "cell_type": "code",
   "execution_count": 19,
   "metadata": {},
   "outputs": [],
   "source": [
    "hypothesis.columns = [col.lower() for col in hypothesis.columns]"
   ]
  },
  {
   "cell_type": "markdown",
   "metadata": {},
   "source": [
    "### Типы данных"
   ]
  },
  {
   "cell_type": "markdown",
   "metadata": {},
   "source": [
    "Рассмотрим типы данных в колонках и поменяем их при необходимости:"
   ]
  },
  {
   "cell_type": "code",
   "execution_count": 20,
   "metadata": {},
   "outputs": [
    {
     "data": {
      "text/plain": [
       "hypothesis    object\n",
       "reach          int64\n",
       "impact         int64\n",
       "confidence     int64\n",
       "efforts        int64\n",
       "dtype: object"
      ]
     },
     "execution_count": 20,
     "metadata": {},
     "output_type": "execute_result"
    }
   ],
   "source": [
    "hypothesis.dtypes"
   ]
  },
  {
   "cell_type": "code",
   "execution_count": 21,
   "metadata": {},
   "outputs": [
    {
     "data": {
      "text/plain": [
       "transactionId     int64\n",
       "visitorId         int64\n",
       "date             object\n",
       "revenue           int64\n",
       "group            object\n",
       "dtype: object"
      ]
     },
     "execution_count": 21,
     "metadata": {},
     "output_type": "execute_result"
    }
   ],
   "source": [
    "orders.dtypes"
   ]
  },
  {
   "cell_type": "code",
   "execution_count": 22,
   "metadata": {},
   "outputs": [],
   "source": [
    "orders['date'] = pd.to_datetime(orders['date'])"
   ]
  },
  {
   "cell_type": "code",
   "execution_count": 23,
   "metadata": {},
   "outputs": [
    {
     "data": {
      "text/plain": [
       "date        object\n",
       "group       object\n",
       "visitors     int64\n",
       "dtype: object"
      ]
     },
     "execution_count": 23,
     "metadata": {},
     "output_type": "execute_result"
    }
   ],
   "source": [
    "visitors.dtypes"
   ]
  },
  {
   "cell_type": "code",
   "execution_count": 24,
   "metadata": {},
   "outputs": [],
   "source": [
    "visitors['date'] = pd.to_datetime(visitors['date'])"
   ]
  },
  {
   "cell_type": "markdown",
   "metadata": {},
   "source": [
    "### Неявные дубликаты"
   ]
  },
  {
   "cell_type": "markdown",
   "metadata": {},
   "source": [
    "Проверим наличие неявных дубликатов:"
   ]
  },
  {
   "cell_type": "code",
   "execution_count": 25,
   "metadata": {},
   "outputs": [
    {
     "data": {
      "text/plain": [
       "0"
      ]
     },
     "execution_count": 25,
     "metadata": {},
     "output_type": "execute_result"
    }
   ],
   "source": [
    "visitors.duplicated(subset=['date', 'group']).sum()"
   ]
  },
  {
   "cell_type": "code",
   "execution_count": 26,
   "metadata": {},
   "outputs": [
    {
     "data": {
      "text/plain": [
       "0"
      ]
     },
     "execution_count": 26,
     "metadata": {},
     "output_type": "execute_result"
    }
   ],
   "source": [
    "orders.duplicated(subset=['transactionId', 'visitorId', 'date']).sum()"
   ]
  },
  {
   "cell_type": "code",
   "execution_count": 27,
   "metadata": {},
   "outputs": [
    {
     "data": {
      "text/plain": [
       "0"
      ]
     },
     "execution_count": 27,
     "metadata": {},
     "output_type": "execute_result"
    }
   ],
   "source": [
    "orders.duplicated(subset=['transactionId']).sum()"
   ]
  },
  {
   "cell_type": "markdown",
   "metadata": {},
   "source": [
    "### Проверка значений и гистограммы"
   ]
  },
  {
   "cell_type": "markdown",
   "metadata": {},
   "source": [
    "#### Посещения"
   ]
  },
  {
   "cell_type": "code",
   "execution_count": 28,
   "metadata": {},
   "outputs": [
    {
     "data": {
      "text/plain": [
       "count     62.000000\n",
       "mean     607.290323\n",
       "std      114.400560\n",
       "min      361.000000\n",
       "25%      534.000000\n",
       "50%      624.500000\n",
       "75%      710.500000\n",
       "max      770.000000\n",
       "Name: visitors, dtype: float64"
      ]
     },
     "execution_count": 28,
     "metadata": {},
     "output_type": "execute_result"
    }
   ],
   "source": [
    "visitors.visitors.describe()"
   ]
  },
  {
   "cell_type": "code",
   "execution_count": 29,
   "metadata": {},
   "outputs": [
    {
     "data": {
      "text/plain": [
       "Text(0.5, 1.0, 'visitors')"
      ]
     },
     "execution_count": 29,
     "metadata": {},
     "output_type": "execute_result"
    },
    {
     "data": {
      "image/png": "[encoded data removed]",
      "text/plain": [
       "<Figure size 640x480 with 1 Axes>"
      ]
     },
     "metadata": {},
     "output_type": "display_data"
    }
   ],
   "source": [
    "visitors['visitors'].hist(xlabelsize=8, ylabelsize=10)\n",
    "plt.title('visitors')"
   ]
  },
  {
   "cell_type": "markdown",
   "metadata": {},
   "source": [
    "- Минимальное число пользователей: 361\n",
    "- Среднее число пользователей: ~ 607\n",
    "- Чаще всего пользователей было менее 710\n",
    "- Максимальное число пользователей: 700"
   ]
  },
  {
   "cell_type": "markdown",
   "metadata": {},
   "source": [
    "#### Заказы"
   ]
  },
  {
   "cell_type": "code",
   "execution_count": 30,
   "metadata": {},
   "outputs": [
    {
     "data": {
      "text/plain": [
       "count                    1197\n",
       "unique                     31\n",
       "top       2019-08-05 00:00:00\n",
       "freq                       48\n",
       "first     2019-08-01 00:00:00\n",
       "last      2019-08-31 00:00:00\n",
       "Name: date, dtype: object"
      ]
     },
     "execution_count": 30,
     "metadata": {},
     "output_type": "execute_result"
    }
   ],
   "source": [
    "orders.date.describe()"
   ]
  },
  {
   "cell_type": "code",
   "execution_count": 31,
   "metadata": {},
   "outputs": [
    {
     "data": {
      "text/plain": [
       "count       1197.000000\n",
       "mean        8348.005848\n",
       "std        39191.131774\n",
       "min           50.000000\n",
       "25%         1220.000000\n",
       "50%         2978.000000\n",
       "75%         8290.000000\n",
       "max      1294500.000000\n",
       "Name: revenue, dtype: object"
      ]
     },
     "execution_count": 31,
     "metadata": {},
     "output_type": "execute_result"
    }
   ],
   "source": [
    "orders.revenue.describe().apply(lambda x: format(x, 'f'))"
   ]
  },
  {
   "cell_type": "code",
   "execution_count": 32,
   "metadata": {},
   "outputs": [
    {
     "data": {
      "image/png": "[encoded data removed]",
      "text/plain": [
       "<Figure size 1200x400 with 2 Axes>"
      ]
     },
     "metadata": {},
     "output_type": "display_data"
    }
   ],
   "source": [
    "orders[['date', 'revenue']].hist(figsize=(12, 4), xlabelsize=6, ylabelsize=10)\n",
    "plt.ticklabel_format(style='plain')"
   ]
  },
  {
   "cell_type": "markdown",
   "metadata": {},
   "source": [
    "<a id='1_6_2'></a>\n",
    "- Пик заказов пришелся на **5 августа 2018**\n",
    "- Первый заказ (в данных) был совершен **1 августа 2018**\n",
    "- Последний заказ (в данных) был совершен **31 августа 2018**\n",
    "- В среднем стоимость заказа составляла ~ 8348 у.е.\n",
    "- Минимальная стоимость заказа 50 у.е.\n",
    "- Максимальная стоимость заказа **1294500 у.е.**\n",
    "- Чаще всего стоимость заказа не превышала ~ 8290 у.е."
   ]
  },
  {
   "cell_type": "code",
   "execution_count": 33,
   "metadata": {
    "scrolled": true
   },
   "outputs": [
    {
     "name": "stdout",
     "output_type": "stream",
     "text": [
      "Количество уникальных покупателей в группе A: 503\n",
      "Количество уникальных покупателей в группе B: 586\n"
     ]
    }
   ],
   "source": [
    "print('Количество уникальных покупателей в группе A:', orders[orders['group']=='A']['visitorId'].nunique())\n",
    "print('Количество уникальных покупателей в группе B:', orders[orders['group']=='B']['visitorId'].nunique())"
   ]
  },
  {
   "cell_type": "markdown",
   "metadata": {},
   "source": [
    "Проверим, нет ли пользователей, которые попали в две группы одновременно:"
   ]
  },
  {
   "cell_type": "code",
   "execution_count": 34,
   "metadata": {},
   "outputs": [
    {
     "data": {
      "text/plain": [
       "58"
      ]
     },
     "execution_count": 34,
     "metadata": {},
     "output_type": "execute_result"
    }
   ],
   "source": [
    "orders.groupby('visitorId').agg({'group' : 'nunique'}).reset_index().query('group>1')['visitorId'].count()"
   ]
  },
  {
   "cell_type": "markdown",
   "metadata": {},
   "source": [
    "58 пользователей попали и в группу A, и в группу B. Скорее всего удалять их не стоит"
   ]
  },
  {
   "cell_type": "markdown",
   "metadata": {},
   "source": [
    "### Вывод"
   ]
  },
  {
   "cell_type": "markdown",
   "metadata": {},
   "source": [
    "В данной части были прочитаны файлы с данными и просмотрены основные сведения о датесетах. Далее необходимо перейти к приоритизации гипотез и анализу результатов A/B теста"
   ]
  },
  {
   "cell_type": "markdown",
   "metadata": {},
   "source": [
    "## Приоритизация гипотез"
   ]
  },
  {
   "cell_type": "markdown",
   "metadata": {},
   "source": [
    "Скопируем датасет с гипотезами в новую переменную:"
   ]
  },
  {
   "cell_type": "code",
   "execution_count": 35,
   "metadata": {},
   "outputs": [],
   "source": [
    "hypothesis_fram = hypothesis.copy(deep=True)"
   ]
  },
  {
   "cell_type": "markdown",
   "metadata": {},
   "source": [
    "### Приоритизация гипотез с помощью фреймворка ICE"
   ]
  },
  {
   "cell_type": "markdown",
   "metadata": {},
   "source": [
    "Применим фреймворк ICE для приоритизации гипотез:"
   ]
  },
  {
   "cell_type": "code",
   "execution_count": 36,
   "metadata": {},
   "outputs": [
    {
     "data": {
      "text/html": [
       "<div>\n",
       "<style scoped>\n",
       "    .dataframe tbody tr th:only-of-type {\n",
       "        vertical-align: middle;\n",
       "    }\n",
       "\n",
       "    .dataframe tbody tr th {\n",
       "        vertical-align: top;\n",
       "    }\n",
       "\n",
       "    .dataframe thead th {\n",
       "        text-align: right;\n",
       "    }\n",
       "</style>\n",
       "<table border=\"1\" class=\"dataframe\">\n",
       "  <thead>\n",
       "    <tr style=\"text-align: right;\">\n",
       "      <th></th>\n",
       "      <th>hypothesis</th>\n",
       "      <th>ICE</th>\n",
       "    </tr>\n",
       "  </thead>\n",
       "  <tbody>\n",
       "    <tr>\n",
       "      <th>8</th>\n",
       "      <td>Запустить акцию, дающую скидку на товар в день рождения</td>\n",
       "      <td>16.20</td>\n",
       "    </tr>\n",
       "    <tr>\n",
       "      <th>0</th>\n",
       "      <td>Добавить два новых канала привлечения трафика, что позволит привлекать на 30% больше пользователей</td>\n",
       "      <td>13.33</td>\n",
       "    </tr>\n",
       "    <tr>\n",
       "      <th>7</th>\n",
       "      <td>Добавить форму подписки на все основные страницы, чтобы собрать базу клиентов для email-рассылок</td>\n",
       "      <td>11.20</td>\n",
       "    </tr>\n",
       "    <tr>\n",
       "      <th>6</th>\n",
       "      <td>Показать на главной странице баннеры с актуальными акциями и распродажами, чтобы увеличить конверсию</td>\n",
       "      <td>8.00</td>\n",
       "    </tr>\n",
       "    <tr>\n",
       "      <th>2</th>\n",
       "      <td>Добавить блоки рекомендаций товаров на сайт интернет магазина, чтобы повысить конверсию и средний чек заказа</td>\n",
       "      <td>7.00</td>\n",
       "    </tr>\n",
       "    <tr>\n",
       "      <th>1</th>\n",
       "      <td>Запустить собственную службу доставки, что сократит срок доставки заказов</td>\n",
       "      <td>2.00</td>\n",
       "    </tr>\n",
       "    <tr>\n",
       "      <th>5</th>\n",
       "      <td>Добавить страницу отзывов клиентов о магазине, что позволит увеличить количество заказов</td>\n",
       "      <td>1.33</td>\n",
       "    </tr>\n",
       "    <tr>\n",
       "      <th>3</th>\n",
       "      <td>Изменить структура категорий, что увеличит конверсию, т.к. пользователи быстрее найдут нужный товар</td>\n",
       "      <td>1.12</td>\n",
       "    </tr>\n",
       "    <tr>\n",
       "      <th>4</th>\n",
       "      <td>Изменить цвет фона главной страницы, чтобы увеличить вовлеченность пользователей</td>\n",
       "      <td>1.00</td>\n",
       "    </tr>\n",
       "  </tbody>\n",
       "</table>\n",
       "</div>"
      ],
      "text/plain": [
       "                                                                                                     hypothesis  \\\n",
       "8                                                       Запустить акцию, дающую скидку на товар в день рождения   \n",
       "0            Добавить два новых канала привлечения трафика, что позволит привлекать на 30% больше пользователей   \n",
       "7              Добавить форму подписки на все основные страницы, чтобы собрать базу клиентов для email-рассылок   \n",
       "6          Показать на главной странице баннеры с актуальными акциями и распродажами, чтобы увеличить конверсию   \n",
       "2  Добавить блоки рекомендаций товаров на сайт интернет магазина, чтобы повысить конверсию и средний чек заказа   \n",
       "1                                     Запустить собственную службу доставки, что сократит срок доставки заказов   \n",
       "5                      Добавить страницу отзывов клиентов о магазине, что позволит увеличить количество заказов   \n",
       "3           Изменить структура категорий, что увеличит конверсию, т.к. пользователи быстрее найдут нужный товар   \n",
       "4                              Изменить цвет фона главной страницы, чтобы увеличить вовлеченность пользователей   \n",
       "\n",
       "     ICE  \n",
       "8  16.20  \n",
       "0  13.33  \n",
       "7  11.20  \n",
       "6   8.00  \n",
       "2   7.00  \n",
       "1   2.00  \n",
       "5   1.33  \n",
       "3   1.12  \n",
       "4   1.00  "
      ]
     },
     "execution_count": 36,
     "metadata": {},
     "output_type": "execute_result"
    }
   ],
   "source": [
    "hypothesis_fram['ICE'] = round(hypothesis_fram.impact * hypothesis_fram.confidence / hypothesis_fram.efforts, 2)\n",
    "hypothesis_fram[['hypothesis', 'ICE']].sort_values('ICE', ascending=False)"
   ]
  },
  {
   "cell_type": "markdown",
   "metadata": {},
   "source": [
    "На первых местах гипотезы:\n",
    "- **8** - Запустить акцию, дающую скидку на товар в день рождения\t\n",
    "- **0** - Добавить два новых канала привлечения трафика, что позволит привлекать на 30% больше пользователей\n",
    "- **7** - Добавить форму подписки на все основные страницы, чтобы собрать базу клиентов для email-рассылок\n",
    "- **6** - Показать на главной странице баннеры с актуальными акциями и распродажами, чтобы увеличить конверсию\t"
   ]
  },
  {
   "cell_type": "markdown",
   "metadata": {},
   "source": [
    "Применим фреймворк RICE для приоритизации гипотез:"
   ]
  },
  {
   "cell_type": "markdown",
   "metadata": {},
   "source": [
    "### Приоритизация гипотез с помощью фреймворка RICE"
   ]
  },
  {
   "cell_type": "code",
   "execution_count": 37,
   "metadata": {},
   "outputs": [
    {
     "data": {
      "text/html": [
       "<div>\n",
       "<style scoped>\n",
       "    .dataframe tbody tr th:only-of-type {\n",
       "        vertical-align: middle;\n",
       "    }\n",
       "\n",
       "    .dataframe tbody tr th {\n",
       "        vertical-align: top;\n",
       "    }\n",
       "\n",
       "    .dataframe thead th {\n",
       "        text-align: right;\n",
       "    }\n",
       "</style>\n",
       "<table border=\"1\" class=\"dataframe\">\n",
       "  <thead>\n",
       "    <tr style=\"text-align: right;\">\n",
       "      <th></th>\n",
       "      <th>hypothesis</th>\n",
       "      <th>RICE</th>\n",
       "    </tr>\n",
       "  </thead>\n",
       "  <tbody>\n",
       "    <tr>\n",
       "      <th>7</th>\n",
       "      <td>Добавить форму подписки на все основные страницы, чтобы собрать базу клиентов для email-рассылок</td>\n",
       "      <td>112.0</td>\n",
       "    </tr>\n",
       "    <tr>\n",
       "      <th>2</th>\n",
       "      <td>Добавить блоки рекомендаций товаров на сайт интернет магазина, чтобы повысить конверсию и средний чек заказа</td>\n",
       "      <td>56.0</td>\n",
       "    </tr>\n",
       "    <tr>\n",
       "      <th>0</th>\n",
       "      <td>Добавить два новых канала привлечения трафика, что позволит привлекать на 30% больше пользователей</td>\n",
       "      <td>40.0</td>\n",
       "    </tr>\n",
       "    <tr>\n",
       "      <th>6</th>\n",
       "      <td>Показать на главной странице баннеры с актуальными акциями и распродажами, чтобы увеличить конверсию</td>\n",
       "      <td>40.0</td>\n",
       "    </tr>\n",
       "    <tr>\n",
       "      <th>8</th>\n",
       "      <td>Запустить акцию, дающую скидку на товар в день рождения</td>\n",
       "      <td>16.2</td>\n",
       "    </tr>\n",
       "    <tr>\n",
       "      <th>3</th>\n",
       "      <td>Изменить структура категорий, что увеличит конверсию, т.к. пользователи быстрее найдут нужный товар</td>\n",
       "      <td>9.0</td>\n",
       "    </tr>\n",
       "    <tr>\n",
       "      <th>1</th>\n",
       "      <td>Запустить собственную службу доставки, что сократит срок доставки заказов</td>\n",
       "      <td>4.0</td>\n",
       "    </tr>\n",
       "    <tr>\n",
       "      <th>5</th>\n",
       "      <td>Добавить страницу отзывов клиентов о магазине, что позволит увеличить количество заказов</td>\n",
       "      <td>4.0</td>\n",
       "    </tr>\n",
       "    <tr>\n",
       "      <th>4</th>\n",
       "      <td>Изменить цвет фона главной страницы, чтобы увеличить вовлеченность пользователей</td>\n",
       "      <td>3.0</td>\n",
       "    </tr>\n",
       "  </tbody>\n",
       "</table>\n",
       "</div>"
      ],
      "text/plain": [
       "                                                                                                     hypothesis  \\\n",
       "7              Добавить форму подписки на все основные страницы, чтобы собрать базу клиентов для email-рассылок   \n",
       "2  Добавить блоки рекомендаций товаров на сайт интернет магазина, чтобы повысить конверсию и средний чек заказа   \n",
       "0            Добавить два новых канала привлечения трафика, что позволит привлекать на 30% больше пользователей   \n",
       "6          Показать на главной странице баннеры с актуальными акциями и распродажами, чтобы увеличить конверсию   \n",
       "8                                                       Запустить акцию, дающую скидку на товар в день рождения   \n",
       "3           Изменить структура категорий, что увеличит конверсию, т.к. пользователи быстрее найдут нужный товар   \n",
       "1                                     Запустить собственную службу доставки, что сократит срок доставки заказов   \n",
       "5                      Добавить страницу отзывов клиентов о магазине, что позволит увеличить количество заказов   \n",
       "4                              Изменить цвет фона главной страницы, чтобы увеличить вовлеченность пользователей   \n",
       "\n",
       "    RICE  \n",
       "7  112.0  \n",
       "2   56.0  \n",
       "0   40.0  \n",
       "6   40.0  \n",
       "8   16.2  \n",
       "3    9.0  \n",
       "1    4.0  \n",
       "5    4.0  \n",
       "4    3.0  "
      ]
     },
     "execution_count": 37,
     "metadata": {},
     "output_type": "execute_result"
    }
   ],
   "source": [
    "hypothesis_fram['RICE'] = (hypothesis_fram.reach \n",
    "                           * hypothesis_fram.impact \n",
    "                           * hypothesis_fram.confidence \n",
    "                           / hypothesis_fram.efforts)\n",
    "\n",
    "hypothesis_fram[['hypothesis', 'RICE']].sort_values('RICE', ascending=False)"
   ]
  },
  {
   "cell_type": "markdown",
   "metadata": {},
   "source": [
    "При применении фреймворка **RICE** на первых местах оказались гипотезы:\n",
    "- **7** - Добавить форму подписки на все основные страницы, чтобы собрать базу клиентов для email-рассылок\n",
    "- **2** - Добавить блоки рекомендаций товаров на сайт интернет магазина, чтобы повысить конверсию и средний чек заказа\n",
    "- **0** - Добавить два новых канала привлечения трафика, что позволит привлекать на 30% больше пользователей\n",
    "- **6** - Показать на главной странице баннеры с актуальными акциями и распродажами, чтобы увеличить конверсию"
   ]
  },
  {
   "cell_type": "markdown",
   "metadata": {},
   "source": [
    "### Вывод"
   ]
  },
  {
   "cell_type": "markdown",
   "metadata": {},
   "source": [
    "Различия в приоритетных гипотезах получаются из-за того, что в фреймворке **RICE** используется параметр **Reach** (*охват*). Если посмотреть на гипотезы, которые попали в топ 4 в **RICE**, то можно заметить, что все они влияют на большее число клиентов, чем гипотеза **8** - *Запустить акцию, дающую скидку на товар в день рождения* (оказавшаяся на 1 месте в фреймворке **ICE**), т.к. дни рождения - понятие довольно растяжимое, поэтому охват всегда будет низким (день рождения только раз в году).\n",
    "\n",
    "А вот гипотеза **7** - \"*Добавить форму подписки на все основные страницы, чтобы собрать базу клиентов для email-рассылок*\" или гипотеза **2** - \"*Добавить блоки рекомендаций товаров на сайт интернет магазина, чтобы повысить конверсию и средний чек заказа*\" охватит всех пользователей, посещающих интернет-магазин, что и выводит эти гипотезы в топ по приоритету."
   ]
  },
  {
   "cell_type": "markdown",
   "metadata": {},
   "source": [
    "## Анализ A/B теста"
   ]
  },
  {
   "cell_type": "markdown",
   "metadata": {},
   "source": [
    "Был проведен A/B тест и получены результаты. Проведем анализ A/B теста:"
   ]
  },
  {
   "cell_type": "markdown",
   "metadata": {},
   "source": [
    "### Кумулятивные метрики"
   ]
  },
  {
   "cell_type": "markdown",
   "metadata": {},
   "source": [
    "#### График кумулятивной выручки по группам"
   ]
  },
  {
   "cell_type": "markdown",
   "metadata": {},
   "source": [
    "Для начала создадим массив уникальных пар дат и групп теста:"
   ]
  },
  {
   "cell_type": "code",
   "execution_count": 38,
   "metadata": {},
   "outputs": [],
   "source": [
    "dates_groups = orders[['date', 'group']].drop_duplicates()"
   ]
  },
  {
   "cell_type": "markdown",
   "metadata": {},
   "source": [
    "Получим агрегированные кумулятивные по дням данные о заказах и посетителях:"
   ]
  },
  {
   "cell_type": "code",
   "execution_count": 39,
   "metadata": {},
   "outputs": [],
   "source": [
    "orders_aggragated = (dates_groups\n",
    "                     .apply(lambda x: orders[np.logical_and(orders.date <= x.date, orders.group == x.group)]\n",
    "                            .agg({'date': 'max', 'group': 'max',\n",
    "                                  'transactionId': 'nunique', 'visitorId': 'nunique',\n",
    "                                  'revenue': 'sum'}), axis=1)\n",
    "                     .sort_values(by=['date', 'group']))"
   ]
  },
  {
   "cell_type": "code",
   "execution_count": 40,
   "metadata": {},
   "outputs": [],
   "source": [
    "visitors_aggragated = (dates_groups\n",
    "                       .apply(lambda x: visitors[np.logical_and(visitors.date <= x.date, visitors.group == x.group)]\n",
    "                              .agg({'date': 'max', 'group': 'max', 'visitors': 'sum'}), axis=1)\n",
    "                       .sort_values(by=['date', 'group']))"
   ]
  },
  {
   "cell_type": "markdown",
   "metadata": {},
   "source": [
    "Объединим таблицы:"
   ]
  },
  {
   "cell_type": "code",
   "execution_count": 41,
   "metadata": {},
   "outputs": [],
   "source": [
    "cumulative_data = orders_aggragated.merge(visitors_aggragated, left_on=['date', 'group'], right_on=['date', 'group'])\n",
    "cumulative_data.columns = ['date', 'group', 'orders', 'buyers', 'revenue', 'visitors']"
   ]
  },
  {
   "cell_type": "code",
   "execution_count": 42,
   "metadata": {},
   "outputs": [
    {
     "data": {
      "text/html": [
       "<div>\n",
       "<style scoped>\n",
       "    .dataframe tbody tr th:only-of-type {\n",
       "        vertical-align: middle;\n",
       "    }\n",
       "\n",
       "    .dataframe tbody tr th {\n",
       "        vertical-align: top;\n",
       "    }\n",
       "\n",
       "    .dataframe thead th {\n",
       "        text-align: right;\n",
       "    }\n",
       "</style>\n",
       "<table border=\"1\" class=\"dataframe\">\n",
       "  <thead>\n",
       "    <tr style=\"text-align: right;\">\n",
       "      <th></th>\n",
       "      <th>date</th>\n",
       "      <th>group</th>\n",
       "      <th>orders</th>\n",
       "      <th>buyers</th>\n",
       "      <th>revenue</th>\n",
       "      <th>visitors</th>\n",
       "    </tr>\n",
       "  </thead>\n",
       "  <tbody>\n",
       "    <tr>\n",
       "      <th>0</th>\n",
       "      <td>2019-08-01</td>\n",
       "      <td>A</td>\n",
       "      <td>24</td>\n",
       "      <td>20</td>\n",
       "      <td>148579</td>\n",
       "      <td>719</td>\n",
       "    </tr>\n",
       "    <tr>\n",
       "      <th>1</th>\n",
       "      <td>2019-08-01</td>\n",
       "      <td>B</td>\n",
       "      <td>21</td>\n",
       "      <td>20</td>\n",
       "      <td>101217</td>\n",
       "      <td>713</td>\n",
       "    </tr>\n",
       "    <tr>\n",
       "      <th>2</th>\n",
       "      <td>2019-08-02</td>\n",
       "      <td>A</td>\n",
       "      <td>44</td>\n",
       "      <td>38</td>\n",
       "      <td>242401</td>\n",
       "      <td>1338</td>\n",
       "    </tr>\n",
       "    <tr>\n",
       "      <th>3</th>\n",
       "      <td>2019-08-02</td>\n",
       "      <td>B</td>\n",
       "      <td>45</td>\n",
       "      <td>43</td>\n",
       "      <td>266748</td>\n",
       "      <td>1294</td>\n",
       "    </tr>\n",
       "    <tr>\n",
       "      <th>4</th>\n",
       "      <td>2019-08-03</td>\n",
       "      <td>A</td>\n",
       "      <td>68</td>\n",
       "      <td>62</td>\n",
       "      <td>354874</td>\n",
       "      <td>1845</td>\n",
       "    </tr>\n",
       "  </tbody>\n",
       "</table>\n",
       "</div>"
      ],
      "text/plain": [
       "        date group  orders  buyers  revenue  visitors\n",
       "0 2019-08-01     A      24      20   148579       719\n",
       "1 2019-08-01     B      21      20   101217       713\n",
       "2 2019-08-02     A      44      38   242401      1338\n",
       "3 2019-08-02     B      45      43   266748      1294\n",
       "4 2019-08-03     A      68      62   354874      1845"
      ]
     },
     "execution_count": 42,
     "metadata": {},
     "output_type": "execute_result"
    }
   ],
   "source": [
    "cumulative_data.head()"
   ]
  },
  {
   "cell_type": "markdown",
   "metadata": {},
   "source": [
    "Построим графики кумулятивной выручки по дням и группам:"
   ]
  },
  {
   "cell_type": "code",
   "execution_count": 43,
   "metadata": {},
   "outputs": [
    {
     "data": {
      "image/png": "[encoded data removed]",
      "text/plain": [
       "<Figure size 800x600 with 1 Axes>"
      ]
     },
     "metadata": {},
     "output_type": "display_data"
    }
   ],
   "source": [
    "cumulative_revenue_A = cumulative_data.query('group ==\"A\"')[['date', 'revenue', 'orders']]\n",
    "cumulative_revenue_B = cumulative_data.query('group ==\"B\"')[['date', 'revenue', 'orders']]\n",
    "\n",
    "plt.figure(figsize=(8,6))\n",
    "plt.ticklabel_format(style='plain')\n",
    "\n",
    "#строим графики для 2-х групп\n",
    "plt.plot(cumulative_revenue_A.date, cumulative_revenue_A.revenue, label='A')\n",
    "plt.plot(cumulative_revenue_B.date, cumulative_revenue_B.revenue, label='B')\n",
    "\n",
    "plt.legend(title=\"Группа\")\n",
    "plt.xlabel('Дата', fontsize=12)\n",
    "plt.ylabel('Выручка\\n', fontsize=12)\n",
    "plt.xticks(fontsize=8)\n",
    "plt.title('Кумулятивная выручка по дням и группам A/B-тестирования\\n')\n",
    "plt.grid(visible=True)\n",
    "plt.show()"
   ]
  },
  {
   "cell_type": "markdown",
   "metadata": {},
   "source": [
    "Графики растут относительно плавно, хотя в группе **B** в середине наблюдается резкий скачок вверх, после чего группа **B** начинает опережать группу **A** примерно на 50%. Возможно в дальнейшем стоит подробнее изучить аномальный заказ с выручкой в *1294500 у.е.* ([см. пункт 1.6.2](#1_6_2)). Скорее всего именно он мог повлиять на резкий рост выручки в группе **B**. Либо же в этот день могло аномально возрасти число заказов."
   ]
  },
  {
   "cell_type": "markdown",
   "metadata": {},
   "source": [
    "#### График кумулятивного среднего чека по группам"
   ]
  },
  {
   "cell_type": "markdown",
   "metadata": {},
   "source": [
    "<a id=\"cumulative_revenue\"></a>\n",
    "Построим графики кумулятивного среднего чека по группам:"
   ]
  },
  {
   "cell_type": "code",
   "execution_count": 44,
   "metadata": {},
   "outputs": [
    {
     "data": {
      "image/png": "[encoded data removed]",
      "text/plain": [
       "<Figure size 800x600 with 1 Axes>"
      ]
     },
     "metadata": {},
     "output_type": "display_data"
    }
   ],
   "source": [
    "plt.figure(figsize=(8,6))\n",
    "\n",
    "plt.plot(cumulative_revenue_A.date, cumulative_revenue_A.revenue/cumulative_revenue_A.orders, label=\"A\")\n",
    "plt.plot(cumulative_revenue_B.date, cumulative_revenue_B.revenue/cumulative_revenue_B.orders, label=\"B\")\n",
    "\n",
    "plt.legend(title=\"Группа\")\n",
    "plt.xlabel('Дата', fontsize=12)\n",
    "plt.ylabel('Средний чек\\n', fontsize=12)\n",
    "plt.xticks(fontsize=8)\n",
    "plt.title('Кумулятивный средний чек по дням и группам A/B-тестирования\\n')\n",
    "plt.grid(visible=True)\n",
    "plt.show()"
   ]
  },
  {
   "cell_type": "markdown",
   "metadata": {},
   "source": [
    "Графики средних чеков продолжают колебаться. Нужно подробнее посмотреть на аномалии в данных."
   ]
  },
  {
   "cell_type": "markdown",
   "metadata": {},
   "source": [
    "#### График относительного изменения кумулятивного среднего чека группы B к группе A"
   ]
  },
  {
   "cell_type": "markdown",
   "metadata": {},
   "source": [
    "Построим график относительного различия в среднем чеке между группами:"
   ]
  },
  {
   "cell_type": "code",
   "execution_count": 45,
   "metadata": {},
   "outputs": [],
   "source": [
    "merged_cumulative_revenue = cumulative_revenue_A.merge(cumulative_revenue_B, \n",
    "                                                      left_on='date',\n",
    "                                                      right_on='date',\n",
    "                                                      how='left',\n",
    "                                                      suffixes=['_A', '_B'])"
   ]
  },
  {
   "cell_type": "code",
   "execution_count": 46,
   "metadata": {},
   "outputs": [
    {
     "data": {
      "image/png": "[encoded data removed]",
      "text/plain": [
       "<Figure size 800x400 with 1 Axes>"
      ]
     },
     "metadata": {},
     "output_type": "display_data"
    }
   ],
   "source": [
    "plt.figure(figsize=(8,4))\n",
    "plt.plot(merged_cumulative_revenue['date'], \n",
    "         (merged_cumulative_revenue['revenue_B']/merged_cumulative_revenue['orders_B'])\n",
    "         /(merged_cumulative_revenue['revenue_A']/merged_cumulative_revenue['orders_A'])-1)\n",
    "\n",
    "plt.axhline(y=0, color='red', linestyle='--')\n",
    "\n",
    "plt.xlabel('Дата', fontsize=10)\n",
    "plt.ylabel('Отношение средних чеков\\n', fontsize=10)\n",
    "plt.xticks(fontsize=7)\n",
    "plt.title('Относительное различие для среднего чека группы B к группе А\\n')\n",
    "plt.grid(visible=True)\n",
    "plt.show()"
   ]
  },
  {
   "cell_type": "markdown",
   "metadata": {},
   "source": [
    "В нескольких точках график сильно колеблется. Нужно чистить данные"
   ]
  },
  {
   "cell_type": "markdown",
   "metadata": {},
   "source": [
    "#### График кумулятивного среднего количества заказов на посетителя по группам"
   ]
  },
  {
   "cell_type": "markdown",
   "metadata": {},
   "source": [
    "Построим график кумулятивного среднего количества заказов на посетителя по группам:"
   ]
  },
  {
   "cell_type": "code",
   "execution_count": 47,
   "metadata": {},
   "outputs": [],
   "source": [
    "cumulative_data['conversion'] = cumulative_data.orders / cumulative_data.visitors"
   ]
  },
  {
   "cell_type": "code",
   "execution_count": 48,
   "metadata": {},
   "outputs": [],
   "source": [
    "cumulative_data_A = cumulative_data.query('group == \"A\"')\n",
    "cumulative_data_B = cumulative_data.query('group == \"B\"')"
   ]
  },
  {
   "cell_type": "code",
   "execution_count": 49,
   "metadata": {},
   "outputs": [
    {
     "data": {
      "image/png": "[encoded data removed]",
      "text/plain": [
       "<Figure size 800x600 with 1 Axes>"
      ]
     },
     "metadata": {},
     "output_type": "display_data"
    }
   ],
   "source": [
    "plt.figure(figsize=(8,6))\n",
    "\n",
    "plt.plot(cumulative_data_A.date, cumulative_data_A.conversion, label=\"A\")\n",
    "plt.plot(cumulative_data_B.date, cumulative_data_B.conversion, label=\"B\")\n",
    "\n",
    "plt.legend(title=\"Группа\")\n",
    "plt.xlabel('Дата', fontsize=12)\n",
    "plt.ylabel('Среднее количество заказов на посетителя\\n', fontsize=12)\n",
    "plt.xticks(fontsize=8)\n",
    "plt.title('Кумулятивное среднее количество заказов на посетителя по группам A/B-тестирования\\n')\n",
    "plt.grid(visible=True)\n",
    "plt.axis([dt.datetime(2019, 8, 1), dt.datetime(2019, 8, 31), 0, 0.05])\n",
    "plt.show()"
   ]
  },
  {
   "cell_type": "markdown",
   "metadata": {},
   "source": [
    "В начале теста в группе **A** наблюдалась б**о**льшее количество заказов на посетителя. Постепенно оно выровнялась. \n",
    "\n",
    "Однако примерно **5 августа 2019** количество заказов на посетителя в группе **B** выросло и также зафиксировалось"
   ]
  },
  {
   "cell_type": "markdown",
   "metadata": {},
   "source": [
    "####  График относительного изменения кумулятивного среднего количества заказов на посетителя группы B к группе A"
   ]
  },
  {
   "cell_type": "markdown",
   "metadata": {},
   "source": [
    "<a id='cumulative_conversion'></a>\n",
    "Построим график относительного изменения кумулятивного среднего количества заказов на посетителя группы B к группе A:"
   ]
  },
  {
   "cell_type": "code",
   "execution_count": 50,
   "metadata": {},
   "outputs": [],
   "source": [
    "merged_cumulative_conversion = (cumulative_data_A[['date', 'conversion']]\n",
    "                                .merge(cumulative_data_B[['date', 'conversion']], \n",
    "                                       left_on='date', right_on='date', \n",
    "                                       how='left', suffixes=['_A', '_B']))"
   ]
  },
  {
   "cell_type": "code",
   "execution_count": 51,
   "metadata": {},
   "outputs": [
    {
     "data": {
      "image/png": "[encoded data removed]",
      "text/plain": [
       "<Figure size 800x600 with 1 Axes>"
      ]
     },
     "metadata": {},
     "output_type": "display_data"
    }
   ],
   "source": [
    "plt.figure(figsize=(8,6))\n",
    "plt.plot(merged_cumulative_conversion.date,\n",
    "         merged_cumulative_conversion.conversion_B/merged_cumulative_conversion.conversion_A-1)\n",
    "plt.axis([dt.datetime(2019, 8, 1), dt.datetime(2019, 8, 31), -0.6, 0.6])\n",
    "plt.xlabel('Дата', fontsize=12)\n",
    "plt.ylabel('Относительный прирост среднего количества заказов\\n', fontsize=12)\n",
    "plt.xticks(fontsize=8)\n",
    "plt.title('Относительное различие среднее количество заказов группы B к группе A\\n')\n",
    "plt.grid(visible=True)\n",
    "plt.axis([dt.datetime(2019, 8, 1), dt.datetime(2019, 8, 31), -0.6, 0.6])\n",
    "plt.axhline(y=0, color='black', linestyle='--')\n",
    "plt.axhline(y=0.1, color='lightgrey', linestyle='--')\n",
    "plt.axhline(y=0.14, color='grey', linestyle='--')\n",
    "plt.show()"
   ]
  },
  {
   "cell_type": "markdown",
   "metadata": {},
   "source": [
    "Почти с самого начала теста группа **B** лидирует по среднему количеству заказов. Под конец она зафиксировалась на уровне **14%** относительно группы **A**\n",
    "\n",
    "На протяжении почти всего теста число заказов **группы B было выше более чем на 10%**"
   ]
  },
  {
   "cell_type": "markdown",
   "metadata": {},
   "source": [
    "### Анализ выбросов"
   ]
  },
  {
   "cell_type": "markdown",
   "metadata": {},
   "source": [
    "#### Количество заказов по пользователям"
   ]
  },
  {
   "cell_type": "markdown",
   "metadata": {},
   "source": [
    "Построим гистограмму распределения количества заказов по пользователям:"
   ]
  },
  {
   "cell_type": "code",
   "execution_count": 52,
   "metadata": {},
   "outputs": [],
   "source": [
    "orders_by_visitors = (\n",
    "    orders.groupby('visitorId', as_index=False)\n",
    "    .agg({'transactionId': 'nunique'})\n",
    ")\n",
    "orders_by_visitors.columns = ['visitor_id', 'orders']"
   ]
  },
  {
   "cell_type": "code",
   "execution_count": 53,
   "metadata": {},
   "outputs": [
    {
     "data": {
      "image/png": "[encoded data removed]",
      "text/plain": [
       "<Figure size 640x480 with 1 Axes>"
      ]
     },
     "metadata": {},
     "output_type": "display_data"
    }
   ],
   "source": [
    "plt.hist(orders_by_visitors.orders)\n",
    "\n",
    "plt.xlabel('Количество заказов', fontsize=12)\n",
    "plt.ylabel('Частота\\n', fontsize=12)\n",
    "plt.xticks(fontsize=8)\n",
    "plt.title('Распределение количества заказов по пользователям\\n')\n",
    "plt.grid(visible=True)\n",
    "plt.show()"
   ]
  },
  {
   "cell_type": "markdown",
   "metadata": {},
   "source": [
    "Чаще всего пользователи совершали 1 заказ."
   ]
  },
  {
   "cell_type": "markdown",
   "metadata": {},
   "source": [
    "Построим точечный график количества заказов по пользователям:"
   ]
  },
  {
   "cell_type": "code",
   "execution_count": 54,
   "metadata": {},
   "outputs": [
    {
     "data": {
      "image/png": "[encoded data removed]",
      "text/plain": [
       "<Figure size 640x480 with 1 Axes>"
      ]
     },
     "metadata": {},
     "output_type": "display_data"
    }
   ],
   "source": [
    "x_values = pd.Series(range(0, len(orders_by_visitors)))\n",
    "\n",
    "plt.scatter(x_values, orders_by_visitors.orders)\n",
    "plt.xlabel('Пользователь', fontsize=12)\n",
    "plt.ylabel('Количество заказов\\n', fontsize=12)\n",
    "plt.xticks(fontsize=8)\n",
    "plt.title('Точечный график количества заказов по пользователям\\n')\n",
    "plt.show()"
   ]
  },
  {
   "cell_type": "markdown",
   "metadata": {},
   "source": [
    "Пользователей, сделавших заказ более двух раз, достаточно мало"
   ]
  },
  {
   "cell_type": "markdown",
   "metadata": {},
   "source": [
    "#### Поиск аномального количества заказов на пользователя"
   ]
  },
  {
   "cell_type": "markdown",
   "metadata": {},
   "source": [
    "Посчитаем 95-й и 99-й перцентили количества заказов на пользователя:"
   ]
  },
  {
   "cell_type": "code",
   "execution_count": 55,
   "metadata": {},
   "outputs": [
    {
     "name": "stdout",
     "output_type": "stream",
     "text": [
      "95-й перцентиль: 2.0\n",
      "99-й перцентиль: 4.0\n"
     ]
    }
   ],
   "source": [
    "percentiles = np.percentile(orders_by_visitors.orders, [95, 99])\n",
    "print('95-й перцентиль: {0}\\n99-й перцентиль: {1}'.format(percentiles[0],percentiles[1]))"
   ]
  },
  {
   "cell_type": "markdown",
   "metadata": {},
   "source": [
    "**Не более 5%** пользователей совершили **больше двух заказов**.\n",
    "\n",
    "И **не более 1%** пользователей - **больше четырех заказов**"
   ]
  },
  {
   "cell_type": "markdown",
   "metadata": {},
   "source": [
    "#### Выручка с заказов по пользователям"
   ]
  },
  {
   "cell_type": "markdown",
   "metadata": {},
   "source": [
    "Построим гистограмму распределения выручек с заказов по пользователям:"
   ]
  },
  {
   "cell_type": "code",
   "execution_count": 56,
   "metadata": {
    "scrolled": false
   },
   "outputs": [
    {
     "data": {
      "image/png": "[encoded data removed]",
      "text/plain": [
       "<Figure size 640x480 with 1 Axes>"
      ]
     },
     "metadata": {},
     "output_type": "display_data"
    }
   ],
   "source": [
    "plt.hist(orders.revenue, bins=30)\n",
    "\n",
    "plt.ticklabel_format(style='plain')\n",
    "plt.xlabel('Выручка с заказа', fontsize=12)\n",
    "plt.ylabel('Частота\\n', fontsize=12)\n",
    "plt.xticks(fontsize=8)\n",
    "plt.title('Распределение выручек с заказов по пользователям\\n')\n",
    "plt.grid(visible=True)\n",
    "plt.show()"
   ]
  },
  {
   "cell_type": "markdown",
   "metadata": {},
   "source": [
    "Сумма большинства заказов меньше **100000 у.е.**"
   ]
  },
  {
   "cell_type": "markdown",
   "metadata": {},
   "source": [
    "Построим точечный график стоимостей заказов:"
   ]
  },
  {
   "cell_type": "code",
   "execution_count": 57,
   "metadata": {},
   "outputs": [
    {
     "data": {
      "image/png": "[encoded data removed]",
      "text/plain": [
       "<Figure size 640x480 with 1 Axes>"
      ]
     },
     "metadata": {},
     "output_type": "display_data"
    }
   ],
   "source": [
    "x_values = pd.Series(range(0, len(orders.revenue)))\n",
    "\n",
    "plt.ticklabel_format(style='plain')\n",
    "plt.scatter(x_values, orders.revenue)\n",
    "plt.xlabel('Заказ', fontsize=12)\n",
    "plt.ylabel('Выручка с заказа\\n', fontsize=12)\n",
    "plt.xticks(fontsize=8)\n",
    "plt.title('Точечный график стоимостей заказов по пользователям\\n')\n",
    "plt.show()"
   ]
  },
  {
   "cell_type": "markdown",
   "metadata": {},
   "source": [
    "Из-за одного явного выброса (выручка = 1294500) все значения слились в одну прямую, построим график:"
   ]
  },
  {
   "cell_type": "code",
   "execution_count": 58,
   "metadata": {},
   "outputs": [
    {
     "data": {
      "image/png": "[encoded data removed]",
      "text/plain": [
       "<Figure size 640x480 with 1 Axes>"
      ]
     },
     "metadata": {},
     "output_type": "display_data"
    }
   ],
   "source": [
    "x_values = pd.Series(range(0, len(orders.query('revenue < 1294500').revenue)))\n",
    "plt.ticklabel_format(style='plain')\n",
    "plt.scatter(x_values, orders.query('revenue < 1294500').revenue)\n",
    "plt.xlabel('Заказ', fontsize=12)\n",
    "plt.ylabel('Выручка с заказа\\n', fontsize=12)\n",
    "plt.xticks(fontsize=8)\n",
    "plt.title('Точечный график стоимостей заказов по пользователям\\n')\n",
    "plt.show()"
   ]
  },
  {
   "cell_type": "markdown",
   "metadata": {},
   "source": [
    "Заказов стоимостью превышающей **~ 25000 у.е.** очень мало"
   ]
  },
  {
   "cell_type": "markdown",
   "metadata": {},
   "source": [
    "#### Поиск аномальной стоимости заказов на пользователя"
   ]
  },
  {
   "cell_type": "markdown",
   "metadata": {},
   "source": [
    "Посчитаем 95-й и 99-й перцентили стоимости заказов:"
   ]
  },
  {
   "cell_type": "code",
   "execution_count": 59,
   "metadata": {},
   "outputs": [
    {
     "name": "stdout",
     "output_type": "stream",
     "text": [
      "95-й перцентиль: 28000.000000000004\n",
      "99-й перцентиль: 58233.19999999999\n"
     ]
    }
   ],
   "source": [
    "percentiles = np.percentile(orders.revenue, [95, 99])\n",
    "print('95-й перцентиль: {0}\\n99-й перцентиль: {1}'.format(percentiles[0],percentiles[1]))"
   ]
  },
  {
   "cell_type": "markdown",
   "metadata": {},
   "source": [
    "**Не более 5%** заказов по стоимости **превышали 28000 у.е.**.\n",
    "\n",
    "И **не более 1%** заказов **превышали 58233 у.е.**"
   ]
  },
  {
   "cell_type": "markdown",
   "metadata": {},
   "source": [
    "Стоит в дальнейшем **не рассматривать данные**, где **стоимость заказа превышает 28000 у.е.** или **число покупок пользователя превышает 2**"
   ]
  },
  {
   "cell_type": "markdown",
   "metadata": {},
   "source": [
    "### Анализ результатов A/B теста"
   ]
  },
  {
   "cell_type": "markdown",
   "metadata": {},
   "source": [
    "Составим сводную таблицу в данными по пользователям по датам:"
   ]
  },
  {
   "cell_type": "code",
   "execution_count": 60,
   "metadata": {},
   "outputs": [],
   "source": [
    "visitors_per_date_A = visitors.query('group == \"A\"')[['date', 'visitors']]\n",
    "visitors_per_date_B = visitors.query('group == \"B\"')[['date', 'visitors']]\n",
    "\n",
    "\n",
    "data = visitors_per_date_A.merge(visitors_per_date_B, left_on='date', right_on='date', how='left', suffixes=['_A', '_B'])"
   ]
  },
  {
   "cell_type": "code",
   "execution_count": 61,
   "metadata": {},
   "outputs": [],
   "source": [
    "orders_by_visitors_A = (\n",
    "    orders.query('group == \"A\"')\n",
    "    .groupby('visitorId', as_index=False)\n",
    "    .agg({'transactionId': pd.Series.nunique})\n",
    ")\n",
    "orders_by_visitors_A.columns = ['visitorId', 'orders']\n",
    "\n",
    "orders_by_visitors_B = (\n",
    "    orders.query('group == \"B\"')\n",
    "    .groupby('visitorId', as_index=False)\n",
    "    .agg({'transactionId': pd.Series.nunique})\n",
    ")\n",
    "orders_by_visitors_B.columns = ['visitorId', 'orders'] "
   ]
  },
  {
   "cell_type": "markdown",
   "metadata": {},
   "source": []
  },
  {
   "cell_type": "markdown",
   "metadata": {},
   "source": [
    "#### Различия в среднем количестве заказов на посетителя между группами A и B по «сырым» данным"
   ]
  },
  {
   "cell_type": "markdown",
   "metadata": {},
   "source": [
    "Сформулируем нулевую и альтернативную гипотезы:\n",
    "\n",
    "```\n",
    "H_0: Среднее количество заказов на посетителя в группе A = Среднее количество заказов на посетителя в группе B\n",
    "H_1: Среднее количество заказов на посетителя в группе A ≠ Среднее количество заказов на посетителя в группе B\n",
    "alpha = 0.05\n",
    "```"
   ]
  },
  {
   "cell_type": "markdown",
   "metadata": {},
   "source": [
    "Посчитаем статистическую значимость различий в среднем количестве заказов на посетителя между группами по «сырым» данным:"
   ]
  },
  {
   "cell_type": "markdown",
   "metadata": {},
   "source": [
    "Объявим переменные `sample_A` и `sample_B`, в которых пользователям из разных групп будет соответствовать количество заказов. Тем, кто ничего не заказал, будут соответствовать нули."
   ]
  },
  {
   "cell_type": "code",
   "execution_count": 62,
   "metadata": {},
   "outputs": [],
   "source": [
    "sample_A = pd.concat([orders_by_visitors_A['orders'],\n",
    "                     pd.Series(0, index=np.arange(data['visitors_A']\n",
    "                                                  .sum() - len(orders_by_visitors_A['orders'])), \n",
    "                               name='orders')],axis=0)\n",
    "\n",
    "sample_B = pd.concat([orders_by_visitors_B['orders'],\n",
    "                      pd.Series(0, index=np.arange(data['visitors_B']\n",
    "                                                   .sum() - len(orders_by_visitors_B['orders'])), \n",
    "                                name='orders')],axis=0)"
   ]
  },
  {
   "cell_type": "code",
   "execution_count": 63,
   "metadata": {},
   "outputs": [
    {
     "name": "stdout",
     "output_type": "stream",
     "text": [
      "Относительный прирост среднего числа заказов группы B по отношению к группе A: 0.138\n",
      "p-value: 0.017\n",
      "По \"сырым\" данным различия в среднем числе заказов между группами статистически значимы\n"
     ]
    }
   ],
   "source": [
    "up_orders = sample_B.mean()/sample_A.mean() - 1\n",
    "\n",
    "print('Относительный прирост среднего числа заказов группы B по отношению к группе A: {:.3f}'\n",
    "      .format(up_orders))\n",
    "alpha = 0.05\n",
    "results = stats.mannwhitneyu(sample_A, sample_B)\n",
    "print('p-value: {:.3f}'.format(results.pvalue))\n",
    "if results.pvalue < alpha:\n",
    "    print('По \"сырым\" данным различия в среднем числе заказов между группами статистически значимы')\n",
    "else:\n",
    "    print('По \"сырым\" различия в среднем числе заказов между группами статистически НЕ значимы')"
   ]
  },
  {
   "cell_type": "markdown",
   "metadata": {},
   "source": [
    "#### Различия в среднем чеке между группами A и B по «сырым» данным"
   ]
  },
  {
   "cell_type": "markdown",
   "metadata": {},
   "source": [
    "Сформулируем нулевую и альтернативную гипотезы:\n",
    "\n",
    "```\n",
    "H_0: Средний чек в группе A = Средний чек в группе B\n",
    "H_1: Средний чек в группе A ≠ Средний чек в группе B\n",
    "alpha = 0.05\n",
    "```"
   ]
  },
  {
   "cell_type": "code",
   "execution_count": 64,
   "metadata": {},
   "outputs": [
    {
     "name": "stdout",
     "output_type": "stream",
     "text": [
      "Относительное изменение среднего чека в группе B по отношению группы A: 0.259\n",
      "p-value: 0.729\n",
      "По \"сырым\" данным разница в средних чеках в группах A и B статистически НЕ значима\n"
     ]
    }
   ],
   "source": [
    "up_revenue = orders[orders['group']=='B']['revenue'].mean() / orders[orders['group']=='A']['revenue'].mean() - 1\n",
    "print('Относительное изменение среднего чека в группе B по отношению группы A: {:.3f}'.format(up_revenue))\n",
    "results = stats.mannwhitneyu(orders[orders['group']=='A']['revenue'], orders[orders['group']=='B']['revenue'])\n",
    "print('p-value: {:.3f}'.format(results.pvalue))\n",
    "if results.pvalue < alpha:\n",
    "    print('По \"сырым\" данным разница в средних чеках в группах A и B статистически значима')\n",
    "else:\n",
    "    print('По \"сырым\" данным разница в средних чеках в группах A и B статистически НЕ значима')"
   ]
  },
  {
   "cell_type": "markdown",
   "metadata": {},
   "source": [
    "Существенная относительная разница при отсутствии статистической значимости указывает на влияние выбросов на метрику:\n",
    "\n",
    "`Относительное изменение среднего чека в группе B по отношению группы A: 0.259`"
   ]
  },
  {
   "cell_type": "markdown",
   "metadata": {},
   "source": [
    "#### Различия в среднем количестве заказов на посетителя между группами A и B по «очищенным» данным"
   ]
  },
  {
   "cell_type": "markdown",
   "metadata": {},
   "source": [
    "Ранее было выяснено, что большинство пользователей делают **меньше двух заказов**, а выручка с заказа чаще всего **не превышает 28000 у.е.**"
   ]
  },
  {
   "cell_type": "code",
   "execution_count": 65,
   "metadata": {},
   "outputs": [],
   "source": [
    "max_orders = np.percentile(orders_by_visitors.orders, 95)\n",
    "max_revenue = np.percentile(orders.revenue, 95)"
   ]
  },
  {
   "cell_type": "markdown",
   "metadata": {},
   "source": [
    "Найдем количество аномальных пользователей:"
   ]
  },
  {
   "cell_type": "code",
   "execution_count": 66,
   "metadata": {},
   "outputs": [
    {
     "name": "stdout",
     "output_type": "stream",
     "text": [
      "Количество аномальных пользователей: 74\n",
      "Процент аномальных пользователей: 7.177\n"
     ]
    }
   ],
   "source": [
    "visitors_with_many_orders = pd.concat(\n",
    "    [\n",
    "        orders_by_visitors_A[orders_by_visitors_A['orders'] > max_orders]['visitorId'],\n",
    "        orders_by_visitors_B[orders_by_visitors_B['orders'] > max_orders]['visitorId'],\n",
    "    ],\n",
    "    axis=0,\n",
    ")\n",
    "visitors_with_expensive_orders = orders[orders['revenue'] > max_revenue]['visitorId']\n",
    "abnormal_visitors = (\n",
    "    pd.concat([visitors_with_many_orders, visitors_with_expensive_orders], axis=0)\n",
    "    .drop_duplicates()\n",
    "    .sort_values()\n",
    ")\n",
    "print('Количество аномальных пользователей:', abnormal_visitors.shape[0])\n",
    "print('Процент аномальных пользователей: {:.3f}'.format(abnormal_visitors.shape[0] * 100 / orders.visitorId.nunique()))"
   ]
  },
  {
   "cell_type": "markdown",
   "metadata": {},
   "source": [
    "Фильтруем данные:"
   ]
  },
  {
   "cell_type": "code",
   "execution_count": 67,
   "metadata": {},
   "outputs": [],
   "source": [
    "sample_A_filtered = (pd\n",
    "                     .concat([orders_by_visitors_A[np.logical_not(orders_by_visitors_A['visitorId']\n",
    "                                                                  .isin(abnormal_visitors))]['orders'],\n",
    "                              pd.Series(0,index=np.arange(data['visitors_A']\n",
    "                                                          .sum() - len(orders_by_visitors_A['orders'])),\n",
    "                                        name='orders')],\n",
    "                             axis=0))\n",
    "\n",
    "sample_B_filtered = (pd\n",
    "                     .concat([orders_by_visitors_B[np.logical_not(orders_by_visitors_B['visitorId']\n",
    "                                                                  .isin(abnormal_visitors))]['orders'],\n",
    "                              pd.Series(0,index=np.arange(data['visitors_A']\n",
    "                                                          .sum() - len(orders_by_visitors_B['orders'])),\n",
    "                                        name='orders')],\n",
    "                             axis=0))"
   ]
  },
  {
   "cell_type": "markdown",
   "metadata": {},
   "source": [
    "Сформулируем нулевую и альтернативную гипотезы:\n",
    "\n",
    "```\n",
    "H_0: Среднее количество заказов на посетителя в группе A = Среднее количество заказов на посетителя в группе B\n",
    "H_1: Среднее количество заказов на посетителя в группе A ≠ Среднее количество заказов на посетителя в группе B\n",
    "alpha = 0.05\n",
    "```"
   ]
  },
  {
   "cell_type": "code",
   "execution_count": 68,
   "metadata": {},
   "outputs": [
    {
     "name": "stdout",
     "output_type": "stream",
     "text": [
      "\n",
      "Относительный прирост среднего числа заказов группы B по отношению к группе A после очистки данных: 0.184\n",
      "p-value: 0.729\n",
      "По \"чистым\" данным различия в среднем числе заказов между группами статистически НЕ значимы\n"
     ]
    }
   ],
   "source": [
    "up_orders_new = sample_B_filtered.mean()/sample_A_filtered.mean() - 1\n",
    "print('\\nОтносительный прирост среднего числа заказов группы B по отношению к группе A после очистки данных: {:.3f}'\n",
    "      .format(up_orders_new))\n",
    "results_new = stats.mannwhitneyu(sample_A_filtered, sample_B_filtered)\n",
    "print('p-value: {:.3f}'.format(results.pvalue))\n",
    "if results.pvalue < alpha:\n",
    "    print('По \"чистым\" данным различия в среднем числе заказов между группами статистически значимы')\n",
    "else:\n",
    "    print('По \"чистым\" данным различия в среднем числе заказов между группами статистически НЕ значимы')"
   ]
  },
  {
   "cell_type": "code",
   "execution_count": 69,
   "metadata": {},
   "outputs": [
    {
     "name": "stdout",
     "output_type": "stream",
     "text": [
      "Изменение прироста среднего числа заказов группы B по отношению к группе A после очистки данных: 33.254 %\n"
     ]
    }
   ],
   "source": [
    "print('Изменение прироста среднего числа заказов группы B по отношению к группе A после очистки данных: {:.3f} %'.\n",
    "      format((up_orders_new - up_orders)/up_orders * 100))"
   ]
  },
  {
   "cell_type": "markdown",
   "metadata": {},
   "source": [
    "#### Различия в среднем чеке между группами A и B по «очищенным» данным"
   ]
  },
  {
   "cell_type": "markdown",
   "metadata": {},
   "source": [
    "Сформулируем нулевую и альтернативную гипотезы:\n",
    "\n",
    "```\n",
    "H_0: Средний чек в группе A = Средний чек в группе B\n",
    "H_1: Средний чек в группе A ≠ Средний чек в группе B\n",
    "alpha = 0.05\n",
    "```"
   ]
  },
  {
   "cell_type": "markdown",
   "metadata": {},
   "source": [
    "Посчитаем статистическую значимость различия средних чеков после удаления аномальных пользователей:"
   ]
  },
  {
   "cell_type": "code",
   "execution_count": 70,
   "metadata": {},
   "outputs": [
    {
     "name": "stdout",
     "output_type": "stream",
     "text": [
      "Относительный прирост среднего чека очищенной группы B: -0.020\n",
      "p-value: 0.729\n",
      "По \"чистым\" данным разница в средних чеках в группах A и B статистически НЕ значима\n"
     ]
    }
   ],
   "source": [
    "up_revenue_new = (orders[np.logical_and(orders['group'] == 'B',\n",
    "                                       np.logical_not(orders['visitorId']\n",
    "                                                      .isin(abnormal_visitors)))]['revenue'].mean()\n",
    "                  / orders[np.logical_and(orders['group'] == 'A',\n",
    "                                          np.logical_not(orders['visitorId']\n",
    "                                                         .isin(abnormal_visitors)))]['revenue'].mean() - 1)\n",
    "print(\"Относительный прирост среднего чека очищенной группы B: {0:.3f}\"\n",
    "      .format(up_revenue_new))\n",
    "\n",
    "results_new = stats.mannwhitneyu(orders[np.logical_and(orders['group'] == 'A', \n",
    "                                                   np.logical_not(orders['visitorId']\n",
    "                                                                  .isin(abnormal_visitors)))]['revenue'], \n",
    "                             orders[np.logical_and(orders['group'] == 'B', \n",
    "                                                   np.logical_not(orders['visitorId']\n",
    "                                                                  .isin(abnormal_visitors)))]['revenue'])\n",
    "print('p-value: {:.3f}'.format(results.pvalue))\n",
    "if results.pvalue < alpha:\n",
    "    print('По \"чистым\" данным разница в средних чеках в группах A и B статистически значима')\n",
    "else:\n",
    "    print('По \"чистым\" данным разница в средних чеках в группах A и B статистически НЕ значима')"
   ]
  },
  {
   "cell_type": "code",
   "execution_count": 71,
   "metadata": {},
   "outputs": [
    {
     "name": "stdout",
     "output_type": "stream",
     "text": [
      "Изменение прироста среднего чека в группе B по отношению группы A после очистки данных: -107.585 %\n"
     ]
    }
   ],
   "source": [
    "print('Изменение прироста среднего чека в группе B по отношению группы A после очистки данных: {:.3f} %'.\n",
    "      format((up_revenue_new - up_revenue)/up_revenue * 100))"
   ]
  },
  {
   "cell_type": "markdown",
   "metadata": {},
   "source": [
    "### Вывод"
   ]
  },
  {
   "cell_type": "markdown",
   "metadata": {},
   "source": [
    "#### Решение по результатам A/B теста"
   ]
  },
  {
   "cell_type": "markdown",
   "metadata": {},
   "source": [
    "Результаты A/B теста говорят о следующем:\n",
    "- Есть статистически значимое различие среднего количества заказов между группами как по сырым данным, так и после фильтрации аномалий\n",
    "- Статистически значимое различие по среднему чеку между группами как по сырым данным, так и после фильтрации аномалий отсутствует\n",
    "- [График различия среднего количества заказов между группами](#cumulative_conversion) сообщает, что результаты группы B лучше группы A: имеют тенденцию к росту, либо зафиксировались около среднего значения\n",
    "- [График различия среднего чека](#cumulative_revenue) колеблется. Сделать из этого графика определённые выводы нельзя"
   ]
  },
  {
   "cell_type": "markdown",
   "metadata": {},
   "source": [
    "Из фактов выше следует остановить тест и зафиксировать победу группы **B**"
   ]
  },
  {
   "cell_type": "markdown",
   "metadata": {},
   "source": [
    "## Выводы"
   ]
  },
  {
   "cell_type": "markdown",
   "metadata": {},
   "source": [
    "В ходе работы были приоритизированы гипотезы с помощью фреймворков **ICE** и **RICE**. Также были проанализированы результаты A/B теста.\n",
    "\n",
    "При приоритизации гипотез с помощью **ICE** в топ попали следующие гипотезы:\n",
    "- Запустить акцию, дающую скидку на товар в день рождения\n",
    "- Добавить два новых канала привлечения трафика, что позволит привлекать на 30% больше пользователей\n",
    "- Добавить форму подписки на все основные страницы, чтобы собрать базу клиентов для email-рассылок\n",
    "- Показать на главной странице баннеры с актуальными акциями и распродажами, чтобы увеличить конверсию\n",
    "\n",
    "При приоритизации гипотез с помощью **RICE** в топ попали следующие гипотезы:\n",
    "- Добавить форму подписки на все основные страницы, чтобы собрать базу клиентов для email-рассылок\n",
    "- Добавить блоки рекомендаций товаров на сайт интернет магазина, чтобы повысить конверсию и средний чек заказа\n",
    "- Добавить два новых канала привлечения трафика, что позволит привлекать на 30% больше пользователей\n",
    "- Показать на главной странице баннеры с актуальными акциями и распродажами, чтобы увеличить конверсию\n",
    "\n",
    "Различие в полученных гипотезах обусловлено тем, что в **RICE** используется параметр **Reach** (*охват изменений*), что является важной составляющей в оценке гипотезы и сильно влияет на ее оценку"
   ]
  },
  {
   "cell_type": "markdown",
   "metadata": {},
   "source": [
    "В ходе A/B теста были получены следующие результаты:\n",
    "- **Есть статистически значимое различие среднего количества заказов** между группами как по сырым данным, так и после фильтрации аномалий\n",
    "- **Статистически значимое различие по среднему чеку** между группами как по сырым данным, так и после фильтрации аномалий **отсутствует**\n",
    "- **[График различия среднего количества заказов между группами](#cumulative_conversion)** сообщает, что **результаты группы B лучше** группы A: имеют тенденцию к росту, либо зафиксировались около среднего значения\n",
    "- **[График различия среднего чека](#cumulative_revenue) колеблется**. Сделать из этого графика определённые **выводы нельзя**"
   ]
  },
  {
   "cell_type": "markdown",
   "metadata": {},
   "source": [
    "Из фактов выше следует остановить тест и зафиксировать победу группы **B**"
   ]
  }
 ],
 "metadata": {
  "ExecuteTimeLog": [
   {
    "duration": 1123,
    "start_time": "2022-12-28T21:46:37.136Z"
   },
   {
    "duration": 3,
    "start_time": "2022-12-28T21:46:38.260Z"
   },
   {
    "duration": 6,
    "start_time": "2022-12-28T21:46:38.265Z"
   },
   {
    "duration": 31,
    "start_time": "2022-12-28T21:46:38.272Z"
   },
   {
    "duration": 37,
    "start_time": "2022-12-28T21:46:38.305Z"
   },
   {
    "duration": 15,
    "start_time": "2022-12-28T21:46:38.344Z"
   },
   {
    "duration": 13,
    "start_time": "2022-12-28T21:46:38.360Z"
   },
   {
    "duration": 11,
    "start_time": "2022-12-28T21:46:38.374Z"
   },
   {
    "duration": 9,
    "start_time": "2022-12-28T21:46:38.387Z"
   },
   {
    "duration": 11,
    "start_time": "2022-12-28T21:46:38.397Z"
   },
   {
    "duration": 9,
    "start_time": "2022-12-28T21:46:38.410Z"
   },
   {
    "duration": 12,
    "start_time": "2022-12-28T21:46:38.420Z"
   },
   {
    "duration": 7,
    "start_time": "2022-12-28T21:46:38.434Z"
   },
   {
    "duration": 7,
    "start_time": "2022-12-28T21:46:38.443Z"
   },
   {
    "duration": 6,
    "start_time": "2022-12-28T21:46:38.452Z"
   },
   {
    "duration": 7,
    "start_time": "2022-12-28T21:46:38.460Z"
   },
   {
    "duration": 8,
    "start_time": "2022-12-28T21:46:38.468Z"
   },
   {
    "duration": 6,
    "start_time": "2022-12-28T21:46:38.477Z"
   },
   {
    "duration": 3,
    "start_time": "2022-12-28T21:46:38.513Z"
   },
   {
    "duration": 9,
    "start_time": "2022-12-28T21:46:38.518Z"
   },
   {
    "duration": 9,
    "start_time": "2022-12-28T21:46:38.528Z"
   },
   {
    "duration": 6,
    "start_time": "2022-12-28T21:46:38.539Z"
   },
   {
    "duration": 7,
    "start_time": "2022-12-28T21:46:38.547Z"
   },
   {
    "duration": 6,
    "start_time": "2022-12-28T21:46:38.555Z"
   },
   {
    "duration": 8,
    "start_time": "2022-12-28T21:46:38.562Z"
   },
   {
    "duration": 8,
    "start_time": "2022-12-28T21:46:38.571Z"
   },
   {
    "duration": 34,
    "start_time": "2022-12-28T21:46:38.580Z"
   },
   {
    "duration": 153,
    "start_time": "2022-12-28T21:46:38.616Z"
   },
   {
    "duration": 9,
    "start_time": "2022-12-28T21:46:38.771Z"
   },
   {
    "duration": 12,
    "start_time": "2022-12-28T21:46:38.782Z"
   },
   {
    "duration": 367,
    "start_time": "2022-12-28T21:46:38.796Z"
   },
   {
    "duration": 3,
    "start_time": "2022-12-28T21:46:39.165Z"
   },
   {
    "duration": 13,
    "start_time": "2022-12-28T21:46:39.170Z"
   },
   {
    "duration": 29,
    "start_time": "2022-12-28T21:46:39.185Z"
   },
   {
    "duration": 5,
    "start_time": "2022-12-28T21:46:39.216Z"
   },
   {
    "duration": 161,
    "start_time": "2022-12-28T21:46:39.223Z"
   },
   {
    "duration": 130,
    "start_time": "2022-12-28T21:46:39.386Z"
   },
   {
    "duration": 6,
    "start_time": "2022-12-28T21:46:39.518Z"
   },
   {
    "duration": 11,
    "start_time": "2022-12-28T21:46:39.526Z"
   },
   {
    "duration": 227,
    "start_time": "2022-12-28T21:46:39.539Z"
   },
   {
    "duration": 208,
    "start_time": "2022-12-28T21:46:39.770Z"
   },
   {
    "duration": 6,
    "start_time": "2022-12-28T21:46:39.980Z"
   },
   {
    "duration": 341,
    "start_time": "2022-12-28T21:46:39.988Z"
   },
   {
    "duration": 4,
    "start_time": "2022-12-28T21:46:40.331Z"
   },
   {
    "duration": 16,
    "start_time": "2022-12-28T21:46:40.337Z"
   },
   {
    "duration": 202,
    "start_time": "2022-12-28T21:46:40.355Z"
   },
   {
    "duration": 8,
    "start_time": "2022-12-28T21:46:40.558Z"
   },
   {
    "duration": 323,
    "start_time": "2022-12-28T21:46:40.568Z"
   },
   {
    "duration": 7,
    "start_time": "2022-12-28T21:46:40.892Z"
   },
   {
    "duration": 221,
    "start_time": "2022-12-28T21:46:40.900Z"
   },
   {
    "duration": 132,
    "start_time": "2022-12-28T21:46:41.122Z"
   },
   {
    "duration": 4,
    "start_time": "2022-12-28T21:46:41.255Z"
   },
   {
    "duration": 170,
    "start_time": "2022-12-28T21:46:41.260Z"
   },
   {
    "duration": 150,
    "start_time": "2022-12-28T21:46:41.432Z"
   },
   {
    "duration": 4,
    "start_time": "2022-12-28T21:46:41.583Z"
   },
   {
    "duration": 223,
    "start_time": "2022-12-28T21:46:41.589Z"
   },
   {
    "duration": 155,
    "start_time": "2022-12-28T21:46:41.814Z"
   },
   {
    "duration": 6,
    "start_time": "2022-12-28T21:46:41.970Z"
   },
   {
    "duration": 24,
    "start_time": "2022-12-28T21:46:41.977Z"
   },
   {
    "duration": 10,
    "start_time": "2022-12-28T21:46:42.012Z"
   },
   {
    "duration": 9,
    "start_time": "2022-12-28T21:46:42.024Z"
   },
   {
    "duration": 10,
    "start_time": "2022-12-28T21:46:42.034Z"
   },
   {
    "duration": 19,
    "start_time": "2022-12-28T21:46:42.046Z"
   },
   {
    "duration": 51,
    "start_time": "2022-12-28T21:46:42.067Z"
   },
   {
    "duration": 51,
    "start_time": "2022-12-29T03:30:25.246Z"
   },
   {
    "duration": 1441,
    "start_time": "2022-12-29T03:30:30.200Z"
   },
   {
    "duration": 3,
    "start_time": "2022-12-29T03:30:31.643Z"
   },
   {
    "duration": 9,
    "start_time": "2022-12-29T03:30:31.648Z"
   },
   {
    "duration": 93,
    "start_time": "2022-12-29T03:30:31.659Z"
   },
   {
    "duration": 78,
    "start_time": "2022-12-29T03:30:31.753Z"
   },
   {
    "duration": 84,
    "start_time": "2022-12-29T03:30:31.833Z"
   },
   {
    "duration": 13,
    "start_time": "2022-12-29T03:30:31.919Z"
   },
   {
    "duration": 26,
    "start_time": "2022-12-29T03:30:31.933Z"
   },
   {
    "duration": 20,
    "start_time": "2022-12-29T03:30:31.961Z"
   },
   {
    "duration": 16,
    "start_time": "2022-12-29T03:30:31.983Z"
   },
   {
    "duration": 14,
    "start_time": "2022-12-29T03:30:32.001Z"
   },
   {
    "duration": 17,
    "start_time": "2022-12-29T03:30:32.017Z"
   },
   {
    "duration": 16,
    "start_time": "2022-12-29T03:30:32.036Z"
   },
   {
    "duration": 17,
    "start_time": "2022-12-29T03:30:32.053Z"
   },
   {
    "duration": 10,
    "start_time": "2022-12-29T03:30:32.072Z"
   },
   {
    "duration": 14,
    "start_time": "2022-12-29T03:30:32.084Z"
   },
   {
    "duration": 14,
    "start_time": "2022-12-29T03:30:32.100Z"
   },
   {
    "duration": 11,
    "start_time": "2022-12-29T03:30:32.116Z"
   },
   {
    "duration": 6,
    "start_time": "2022-12-29T03:30:32.129Z"
   },
   {
    "duration": 19,
    "start_time": "2022-12-29T03:30:32.136Z"
   },
   {
    "duration": 15,
    "start_time": "2022-12-29T03:30:32.157Z"
   },
   {
    "duration": 18,
    "start_time": "2022-12-29T03:30:32.175Z"
   },
   {
    "duration": 12,
    "start_time": "2022-12-29T03:30:32.195Z"
   },
   {
    "duration": 8,
    "start_time": "2022-12-29T03:30:32.209Z"
   },
   {
    "duration": 12,
    "start_time": "2022-12-29T03:30:32.219Z"
   },
   {
    "duration": 16,
    "start_time": "2022-12-29T03:30:32.234Z"
   },
   {
    "duration": 9,
    "start_time": "2022-12-29T03:30:32.252Z"
   },
   {
    "duration": 17,
    "start_time": "2022-12-29T03:30:32.265Z"
   },
   {
    "duration": 182,
    "start_time": "2022-12-29T03:30:32.284Z"
   },
   {
    "duration": 10,
    "start_time": "2022-12-29T03:30:32.468Z"
   },
   {
    "duration": 17,
    "start_time": "2022-12-29T03:30:32.480Z"
   },
   {
    "duration": 435,
    "start_time": "2022-12-29T03:30:32.499Z"
   },
   {
    "duration": 3,
    "start_time": "2022-12-29T03:30:32.936Z"
   },
   {
    "duration": 19,
    "start_time": "2022-12-29T03:30:32.940Z"
   },
   {
    "duration": 19,
    "start_time": "2022-12-29T03:30:32.961Z"
   },
   {
    "duration": 6,
    "start_time": "2022-12-29T03:30:32.982Z"
   },
   {
    "duration": 188,
    "start_time": "2022-12-29T03:30:32.990Z"
   },
   {
    "duration": 131,
    "start_time": "2022-12-29T03:30:33.180Z"
   },
   {
    "duration": 7,
    "start_time": "2022-12-29T03:30:33.313Z"
   },
   {
    "duration": 13,
    "start_time": "2022-12-29T03:30:33.321Z"
   },
   {
    "duration": 243,
    "start_time": "2022-12-29T03:30:33.351Z"
   },
   {
    "duration": 231,
    "start_time": "2022-12-29T03:30:33.596Z"
   },
   {
    "duration": 8,
    "start_time": "2022-12-29T03:30:33.829Z"
   },
   {
    "duration": 378,
    "start_time": "2022-12-29T03:30:33.838Z"
   },
   {
    "duration": 4,
    "start_time": "2022-12-29T03:30:34.218Z"
   },
   {
    "duration": 9,
    "start_time": "2022-12-29T03:30:34.224Z"
   },
   {
    "duration": 223,
    "start_time": "2022-12-29T03:30:34.235Z"
   },
   {
    "duration": 7,
    "start_time": "2022-12-29T03:30:34.460Z"
   },
   {
    "duration": 299,
    "start_time": "2022-12-29T03:30:34.469Z"
   },
   {
    "duration": 7,
    "start_time": "2022-12-29T03:30:34.769Z"
   },
   {
    "duration": 241,
    "start_time": "2022-12-29T03:30:34.778Z"
   },
   {
    "duration": 147,
    "start_time": "2022-12-29T03:30:35.021Z"
   },
   {
    "duration": 5,
    "start_time": "2022-12-29T03:30:35.171Z"
   },
   {
    "duration": 207,
    "start_time": "2022-12-29T03:30:35.178Z"
   },
   {
    "duration": 167,
    "start_time": "2022-12-29T03:30:35.386Z"
   },
   {
    "duration": 5,
    "start_time": "2022-12-29T03:30:35.555Z"
   },
   {
    "duration": 246,
    "start_time": "2022-12-29T03:30:35.561Z"
   },
   {
    "duration": 171,
    "start_time": "2022-12-29T03:30:35.809Z"
   },
   {
    "duration": 7,
    "start_time": "2022-12-29T03:30:35.982Z"
   },
   {
    "duration": 42,
    "start_time": "2022-12-29T03:30:35.991Z"
   },
   {
    "duration": 16,
    "start_time": "2022-12-29T03:30:36.034Z"
   },
   {
    "duration": 11,
    "start_time": "2022-12-29T03:30:36.053Z"
   },
   {
    "duration": 19,
    "start_time": "2022-12-29T03:30:36.066Z"
   },
   {
    "duration": 32,
    "start_time": "2022-12-29T03:30:36.087Z"
   },
   {
    "duration": 15,
    "start_time": "2022-12-29T03:30:36.121Z"
   },
   {
    "duration": 218,
    "start_time": "2022-12-29T03:37:06.200Z"
   },
   {
    "duration": 298,
    "start_time": "2022-12-29T03:38:33.193Z"
   },
   {
    "duration": 203,
    "start_time": "2022-12-29T03:41:35.465Z"
   },
   {
    "duration": 124,
    "start_time": "2022-12-29T03:41:41.840Z"
   },
   {
    "duration": 176,
    "start_time": "2022-12-29T03:42:14.675Z"
   },
   {
    "duration": 3,
    "start_time": "2022-12-29T03:50:25.625Z"
   },
   {
    "duration": 12,
    "start_time": "2022-12-29T03:50:40.155Z"
   },
   {
    "duration": 35,
    "start_time": "2022-12-29T03:54:56.562Z"
   },
   {
    "duration": 12,
    "start_time": "2022-12-29T03:55:03.031Z"
   },
   {
    "duration": 31,
    "start_time": "2022-12-29T03:55:33.394Z"
   },
   {
    "duration": 9,
    "start_time": "2022-12-29T03:55:35.849Z"
   },
   {
    "duration": 42,
    "start_time": "2022-12-29T03:55:48.946Z"
   },
   {
    "duration": 13,
    "start_time": "2022-12-29T03:55:49.632Z"
   },
   {
    "duration": 33,
    "start_time": "2022-12-29T03:55:56.614Z"
   },
   {
    "duration": 10,
    "start_time": "2022-12-29T03:55:57.328Z"
   },
   {
    "duration": 30,
    "start_time": "2022-12-29T03:56:06.940Z"
   },
   {
    "duration": 10,
    "start_time": "2022-12-29T03:56:09.504Z"
   },
   {
    "duration": 175,
    "start_time": "2022-12-29T03:56:26.576Z"
   },
   {
    "duration": 7,
    "start_time": "2022-12-29T03:56:28.427Z"
   },
   {
    "duration": 29,
    "start_time": "2022-12-29T03:56:31.937Z"
   },
   {
    "duration": 11,
    "start_time": "2022-12-29T03:57:27.745Z"
   },
   {
    "duration": 38,
    "start_time": "2022-12-29T03:57:30.442Z"
   },
   {
    "duration": 1131,
    "start_time": "2022-12-29T03:58:16.215Z"
   },
   {
    "duration": 4,
    "start_time": "2022-12-29T03:58:17.348Z"
   },
   {
    "duration": 13,
    "start_time": "2022-12-29T03:58:17.354Z"
   },
   {
    "duration": 39,
    "start_time": "2022-12-29T03:58:17.369Z"
   },
   {
    "duration": 38,
    "start_time": "2022-12-29T03:58:17.410Z"
   },
   {
    "duration": 28,
    "start_time": "2022-12-29T03:58:17.450Z"
   },
   {
    "duration": 11,
    "start_time": "2022-12-29T03:58:17.480Z"
   },
   {
    "duration": 12,
    "start_time": "2022-12-29T03:58:17.493Z"
   },
   {
    "duration": 11,
    "start_time": "2022-12-29T03:58:17.507Z"
   },
   {
    "duration": 13,
    "start_time": "2022-12-29T03:58:17.519Z"
   },
   {
    "duration": 19,
    "start_time": "2022-12-29T03:58:17.534Z"
   },
   {
    "duration": 22,
    "start_time": "2022-12-29T03:58:17.556Z"
   },
   {
    "duration": 11,
    "start_time": "2022-12-29T03:58:17.580Z"
   },
   {
    "duration": 11,
    "start_time": "2022-12-29T03:58:17.594Z"
   },
   {
    "duration": 8,
    "start_time": "2022-12-29T03:58:17.606Z"
   },
   {
    "duration": 11,
    "start_time": "2022-12-29T03:58:17.615Z"
   },
   {
    "duration": 25,
    "start_time": "2022-12-29T03:58:17.628Z"
   },
   {
    "duration": 9,
    "start_time": "2022-12-29T03:58:17.656Z"
   },
   {
    "duration": 9,
    "start_time": "2022-12-29T03:58:17.668Z"
   },
   {
    "duration": 7,
    "start_time": "2022-12-29T03:58:17.679Z"
   },
   {
    "duration": 9,
    "start_time": "2022-12-29T03:58:17.688Z"
   },
   {
    "duration": 8,
    "start_time": "2022-12-29T03:58:17.699Z"
   },
   {
    "duration": 10,
    "start_time": "2022-12-29T03:58:17.709Z"
   },
   {
    "duration": 31,
    "start_time": "2022-12-29T03:58:17.721Z"
   },
   {
    "duration": 13,
    "start_time": "2022-12-29T03:58:17.754Z"
   },
   {
    "duration": 9,
    "start_time": "2022-12-29T03:58:17.770Z"
   },
   {
    "duration": 11,
    "start_time": "2022-12-29T03:58:17.782Z"
   },
   {
    "duration": 9,
    "start_time": "2022-12-29T03:58:17.795Z"
   },
   {
    "duration": 219,
    "start_time": "2022-12-29T03:58:17.806Z"
   },
   {
    "duration": 10,
    "start_time": "2022-12-29T03:58:18.027Z"
   },
   {
    "duration": 13,
    "start_time": "2022-12-29T03:58:18.052Z"
   },
   {
    "duration": 474,
    "start_time": "2022-12-29T03:58:18.067Z"
   },
   {
    "duration": 22,
    "start_time": "2022-12-29T03:58:18.542Z"
   },
   {
    "duration": 16,
    "start_time": "2022-12-29T03:58:18.567Z"
   },
   {
    "duration": 13,
    "start_time": "2022-12-29T03:58:18.585Z"
   },
   {
    "duration": 8,
    "start_time": "2022-12-29T03:58:18.600Z"
   },
   {
    "duration": 192,
    "start_time": "2022-12-29T03:58:18.610Z"
   },
   {
    "duration": 148,
    "start_time": "2022-12-29T03:58:18.804Z"
   },
   {
    "duration": 9,
    "start_time": "2022-12-29T03:58:18.955Z"
   },
   {
    "duration": 21,
    "start_time": "2022-12-29T03:58:18.966Z"
   },
   {
    "duration": 300,
    "start_time": "2022-12-29T03:58:18.992Z"
   },
   {
    "duration": 268,
    "start_time": "2022-12-29T03:58:19.294Z"
   },
   {
    "duration": 13,
    "start_time": "2022-12-29T03:58:19.565Z"
   },
   {
    "duration": 337,
    "start_time": "2022-12-29T03:58:19.580Z"
   },
   {
    "duration": 4,
    "start_time": "2022-12-29T03:58:19.919Z"
   },
   {
    "duration": 16,
    "start_time": "2022-12-29T03:58:19.925Z"
   },
   {
    "duration": 263,
    "start_time": "2022-12-29T03:58:19.943Z"
   },
   {
    "duration": 8,
    "start_time": "2022-12-29T03:58:20.208Z"
   },
   {
    "duration": 361,
    "start_time": "2022-12-29T03:58:20.218Z"
   },
   {
    "duration": 7,
    "start_time": "2022-12-29T03:58:20.581Z"
   },
   {
    "duration": 245,
    "start_time": "2022-12-29T03:58:20.590Z"
   },
   {
    "duration": 149,
    "start_time": "2022-12-29T03:58:20.836Z"
   },
   {
    "duration": 4,
    "start_time": "2022-12-29T03:58:20.987Z"
   },
   {
    "duration": 208,
    "start_time": "2022-12-29T03:58:20.993Z"
   },
   {
    "duration": 168,
    "start_time": "2022-12-29T03:58:21.206Z"
   },
   {
    "duration": 175,
    "start_time": "2022-12-29T03:58:21.376Z"
   },
   {
    "duration": 5,
    "start_time": "2022-12-29T03:58:21.553Z"
   },
   {
    "duration": 119,
    "start_time": "2022-12-29T03:58:21.564Z"
   },
   {
    "duration": 0,
    "start_time": "2022-12-29T03:58:21.685Z"
   },
   {
    "duration": 0,
    "start_time": "2022-12-29T03:58:21.686Z"
   },
   {
    "duration": 0,
    "start_time": "2022-12-29T03:58:21.688Z"
   },
   {
    "duration": 1,
    "start_time": "2022-12-29T03:58:21.688Z"
   },
   {
    "duration": 0,
    "start_time": "2022-12-29T03:58:21.690Z"
   },
   {
    "duration": 0,
    "start_time": "2022-12-29T03:58:21.691Z"
   },
   {
    "duration": 0,
    "start_time": "2022-12-29T03:58:21.692Z"
   },
   {
    "duration": 1,
    "start_time": "2022-12-29T03:58:21.693Z"
   },
   {
    "duration": 0,
    "start_time": "2022-12-29T03:58:21.695Z"
   },
   {
    "duration": 21,
    "start_time": "2022-12-29T03:58:54.484Z"
   },
   {
    "duration": 154,
    "start_time": "2022-12-29T03:58:55.425Z"
   },
   {
    "duration": 7,
    "start_time": "2022-12-29T03:59:00.006Z"
   },
   {
    "duration": 39,
    "start_time": "2022-12-29T03:59:02.841Z"
   },
   {
    "duration": 18,
    "start_time": "2022-12-29T03:59:05.344Z"
   },
   {
    "duration": 3,
    "start_time": "2022-12-29T03:59:09.065Z"
   },
   {
    "duration": 13,
    "start_time": "2022-12-29T03:59:10.388Z"
   },
   {
    "duration": 8,
    "start_time": "2022-12-29T03:59:13.001Z"
   },
   {
    "duration": 24,
    "start_time": "2022-12-29T03:59:14.524Z"
   },
   {
    "duration": 20,
    "start_time": "2022-12-29T03:59:18.997Z"
   },
   {
    "duration": 23,
    "start_time": "2022-12-29T04:10:51.234Z"
   },
   {
    "duration": 24,
    "start_time": "2022-12-29T04:11:08.896Z"
   },
   {
    "duration": 26,
    "start_time": "2022-12-29T04:15:50.000Z"
   },
   {
    "duration": 31,
    "start_time": "2022-12-29T04:17:06.283Z"
   },
   {
    "duration": 12,
    "start_time": "2022-12-29T04:17:37.767Z"
   },
   {
    "duration": 29,
    "start_time": "2022-12-29T04:18:00.580Z"
   },
   {
    "duration": 84,
    "start_time": "2022-12-29T04:22:53.984Z"
   },
   {
    "duration": 20,
    "start_time": "2022-12-29T04:23:33.038Z"
   },
   {
    "duration": 92,
    "start_time": "2022-12-29T04:24:00.401Z"
   },
   {
    "duration": 16,
    "start_time": "2022-12-29T04:24:31.899Z"
   },
   {
    "duration": 5,
    "start_time": "2022-12-29T04:25:15.207Z"
   },
   {
    "duration": 4,
    "start_time": "2022-12-29T04:25:47.856Z"
   },
   {
    "duration": 3,
    "start_time": "2022-12-29T04:28:25.624Z"
   },
   {
    "duration": 5,
    "start_time": "2022-12-29T04:28:30.688Z"
   },
   {
    "duration": 3,
    "start_time": "2022-12-29T04:29:52.328Z"
   },
   {
    "duration": 11,
    "start_time": "2022-12-29T04:33:39.288Z"
   },
   {
    "duration": 14,
    "start_time": "2022-12-29T04:34:01.088Z"
   },
   {
    "duration": 11,
    "start_time": "2022-12-29T04:34:29.971Z"
   },
   {
    "duration": 5,
    "start_time": "2022-12-29T04:37:02.875Z"
   },
   {
    "duration": 14,
    "start_time": "2022-12-29T04:37:16.250Z"
   },
   {
    "duration": 5,
    "start_time": "2022-12-29T04:37:54.376Z"
   },
   {
    "duration": 8,
    "start_time": "2022-12-29T04:38:08.785Z"
   },
   {
    "duration": 8,
    "start_time": "2022-12-29T04:39:59.600Z"
   },
   {
    "duration": 7,
    "start_time": "2022-12-29T04:40:12.024Z"
   },
   {
    "duration": 9,
    "start_time": "2022-12-29T04:40:16.275Z"
   },
   {
    "duration": 6,
    "start_time": "2022-12-29T04:40:33.500Z"
   },
   {
    "duration": 4,
    "start_time": "2022-12-29T04:40:38.713Z"
   },
   {
    "duration": 5,
    "start_time": "2022-12-29T04:40:56.665Z"
   },
   {
    "duration": 8,
    "start_time": "2022-12-29T04:41:13.966Z"
   },
   {
    "duration": 9,
    "start_time": "2022-12-29T04:42:02.617Z"
   },
   {
    "duration": 9,
    "start_time": "2022-12-29T04:42:48.875Z"
   },
   {
    "duration": 10,
    "start_time": "2022-12-29T04:44:27.058Z"
   },
   {
    "duration": 9,
    "start_time": "2022-12-29T04:47:19.672Z"
   },
   {
    "duration": 1330,
    "start_time": "2022-12-29T04:50:28.929Z"
   },
   {
    "duration": 4,
    "start_time": "2022-12-29T04:50:30.261Z"
   },
   {
    "duration": 14,
    "start_time": "2022-12-29T04:50:30.270Z"
   },
   {
    "duration": 48,
    "start_time": "2022-12-29T04:50:30.285Z"
   },
   {
    "duration": 38,
    "start_time": "2022-12-29T04:50:30.335Z"
   },
   {
    "duration": 16,
    "start_time": "2022-12-29T04:50:30.375Z"
   },
   {
    "duration": 28,
    "start_time": "2022-12-29T04:50:30.393Z"
   },
   {
    "duration": 24,
    "start_time": "2022-12-29T04:50:30.423Z"
   },
   {
    "duration": 19,
    "start_time": "2022-12-29T04:50:30.449Z"
   },
   {
    "duration": 20,
    "start_time": "2022-12-29T04:50:30.470Z"
   },
   {
    "duration": 40,
    "start_time": "2022-12-29T04:50:30.492Z"
   },
   {
    "duration": 28,
    "start_time": "2022-12-29T04:50:30.534Z"
   },
   {
    "duration": 29,
    "start_time": "2022-12-29T04:50:30.564Z"
   },
   {
    "duration": 34,
    "start_time": "2022-12-29T04:50:30.596Z"
   },
   {
    "duration": 15,
    "start_time": "2022-12-29T04:50:30.632Z"
   },
   {
    "duration": 18,
    "start_time": "2022-12-29T04:50:30.649Z"
   },
   {
    "duration": 27,
    "start_time": "2022-12-29T04:50:30.670Z"
   },
   {
    "duration": 57,
    "start_time": "2022-12-29T04:50:30.700Z"
   },
   {
    "duration": 26,
    "start_time": "2022-12-29T04:50:30.758Z"
   },
   {
    "duration": 30,
    "start_time": "2022-12-29T04:50:30.786Z"
   },
   {
    "duration": 26,
    "start_time": "2022-12-29T04:50:30.818Z"
   },
   {
    "duration": 29,
    "start_time": "2022-12-29T04:50:30.846Z"
   },
   {
    "duration": 27,
    "start_time": "2022-12-29T04:50:30.876Z"
   },
   {
    "duration": 28,
    "start_time": "2022-12-29T04:50:30.905Z"
   },
   {
    "duration": 50,
    "start_time": "2022-12-29T04:50:30.935Z"
   },
   {
    "duration": 48,
    "start_time": "2022-12-29T04:50:30.987Z"
   },
   {
    "duration": 51,
    "start_time": "2022-12-29T04:50:31.041Z"
   },
   {
    "duration": 77,
    "start_time": "2022-12-29T04:50:31.094Z"
   },
   {
    "duration": 203,
    "start_time": "2022-12-29T04:50:31.173Z"
   },
   {
    "duration": 10,
    "start_time": "2022-12-29T04:50:31.378Z"
   },
   {
    "duration": 29,
    "start_time": "2022-12-29T04:50:31.390Z"
   },
   {
    "duration": 407,
    "start_time": "2022-12-29T04:50:31.421Z"
   },
   {
    "duration": 23,
    "start_time": "2022-12-29T04:50:31.830Z"
   },
   {
    "duration": 4,
    "start_time": "2022-12-29T04:50:31.855Z"
   },
   {
    "duration": 32,
    "start_time": "2022-12-29T04:50:31.860Z"
   },
   {
    "duration": 30,
    "start_time": "2022-12-29T04:50:31.895Z"
   },
   {
    "duration": 38,
    "start_time": "2022-12-29T04:50:31.927Z"
   },
   {
    "duration": 35,
    "start_time": "2022-12-29T04:50:31.967Z"
   },
   {
    "duration": 36,
    "start_time": "2022-12-29T04:50:32.005Z"
   },
   {
    "duration": 201,
    "start_time": "2022-12-29T04:50:32.043Z"
   },
   {
    "duration": 141,
    "start_time": "2022-12-29T04:50:32.246Z"
   },
   {
    "duration": 7,
    "start_time": "2022-12-29T04:50:32.390Z"
   },
   {
    "duration": 29,
    "start_time": "2022-12-29T04:50:32.399Z"
   },
   {
    "duration": 241,
    "start_time": "2022-12-29T04:50:32.430Z"
   },
   {
    "duration": 265,
    "start_time": "2022-12-29T04:50:32.672Z"
   },
   {
    "duration": 12,
    "start_time": "2022-12-29T04:50:32.939Z"
   },
   {
    "duration": 337,
    "start_time": "2022-12-29T04:50:32.953Z"
   },
   {
    "duration": 6,
    "start_time": "2022-12-29T04:50:33.292Z"
   },
   {
    "duration": 30,
    "start_time": "2022-12-29T04:50:33.299Z"
   },
   {
    "duration": 232,
    "start_time": "2022-12-29T04:50:33.331Z"
   },
   {
    "duration": 8,
    "start_time": "2022-12-29T04:50:33.565Z"
   },
   {
    "duration": 305,
    "start_time": "2022-12-29T04:50:33.575Z"
   },
   {
    "duration": 6,
    "start_time": "2022-12-29T04:50:33.882Z"
   },
   {
    "duration": 232,
    "start_time": "2022-12-29T04:50:33.890Z"
   },
   {
    "duration": 186,
    "start_time": "2022-12-29T04:50:34.124Z"
   },
   {
    "duration": 5,
    "start_time": "2022-12-29T04:50:34.312Z"
   },
   {
    "duration": 238,
    "start_time": "2022-12-29T04:50:34.319Z"
   },
   {
    "duration": 213,
    "start_time": "2022-12-29T04:50:34.559Z"
   },
   {
    "duration": 188,
    "start_time": "2022-12-29T04:50:34.774Z"
   },
   {
    "duration": 5,
    "start_time": "2022-12-29T04:50:34.964Z"
   },
   {
    "duration": 30,
    "start_time": "2022-12-29T04:50:34.970Z"
   },
   {
    "duration": 211,
    "start_time": "2022-12-29T04:50:35.002Z"
   },
   {
    "duration": 7,
    "start_time": "2022-12-29T04:50:35.215Z"
   },
   {
    "duration": 63,
    "start_time": "2022-12-29T04:50:35.224Z"
   },
   {
    "duration": 15,
    "start_time": "2022-12-29T04:50:35.289Z"
   },
   {
    "duration": 34,
    "start_time": "2022-12-29T04:50:35.306Z"
   },
   {
    "duration": 38,
    "start_time": "2022-12-29T04:50:35.342Z"
   },
   {
    "duration": 43,
    "start_time": "2022-12-29T04:50:35.382Z"
   },
   {
    "duration": 55,
    "start_time": "2022-12-29T04:50:35.428Z"
   },
   {
    "duration": 4,
    "start_time": "2022-12-29T04:50:35.485Z"
   },
   {
    "duration": 37,
    "start_time": "2022-12-29T04:50:35.492Z"
   },
   {
    "duration": 51,
    "start_time": "2022-12-29T04:50:35.531Z"
   },
   {
    "duration": 1216,
    "start_time": "2022-12-29T21:50:33.043Z"
   },
   {
    "duration": 3,
    "start_time": "2022-12-29T21:50:34.261Z"
   },
   {
    "duration": 7,
    "start_time": "2022-12-29T21:50:34.266Z"
   },
   {
    "duration": 33,
    "start_time": "2022-12-29T21:50:34.275Z"
   },
   {
    "duration": 38,
    "start_time": "2022-12-29T21:50:34.310Z"
   },
   {
    "duration": 18,
    "start_time": "2022-12-29T21:50:34.350Z"
   },
   {
    "duration": 17,
    "start_time": "2022-12-29T21:50:34.371Z"
   },
   {
    "duration": 14,
    "start_time": "2022-12-29T21:50:34.390Z"
   },
   {
    "duration": 8,
    "start_time": "2022-12-29T21:50:34.406Z"
   },
   {
    "duration": 35,
    "start_time": "2022-12-29T21:50:34.416Z"
   },
   {
    "duration": 9,
    "start_time": "2022-12-29T21:50:34.453Z"
   },
   {
    "duration": 15,
    "start_time": "2022-12-29T21:50:34.464Z"
   },
   {
    "duration": 8,
    "start_time": "2022-12-29T21:50:34.481Z"
   },
   {
    "duration": 11,
    "start_time": "2022-12-29T21:50:34.491Z"
   },
   {
    "duration": 7,
    "start_time": "2022-12-29T21:50:34.504Z"
   },
   {
    "duration": 42,
    "start_time": "2022-12-29T21:50:34.512Z"
   },
   {
    "duration": 7,
    "start_time": "2022-12-29T21:50:34.556Z"
   },
   {
    "duration": 10,
    "start_time": "2022-12-29T21:50:34.564Z"
   },
   {
    "duration": 10,
    "start_time": "2022-12-29T21:50:34.576Z"
   },
   {
    "duration": 14,
    "start_time": "2022-12-29T21:50:34.588Z"
   },
   {
    "duration": 10,
    "start_time": "2022-12-29T21:50:34.604Z"
   },
   {
    "duration": 7,
    "start_time": "2022-12-29T21:50:34.616Z"
   },
   {
    "duration": 29,
    "start_time": "2022-12-29T21:50:34.624Z"
   },
   {
    "duration": 20,
    "start_time": "2022-12-29T21:50:34.655Z"
   },
   {
    "duration": 17,
    "start_time": "2022-12-29T21:50:34.677Z"
   },
   {
    "duration": 16,
    "start_time": "2022-12-29T21:50:34.696Z"
   },
   {
    "duration": 27,
    "start_time": "2022-12-29T21:50:34.714Z"
   },
   {
    "duration": 11,
    "start_time": "2022-12-29T21:50:34.745Z"
   },
   {
    "duration": 176,
    "start_time": "2022-12-29T21:50:34.757Z"
   },
   {
    "duration": 15,
    "start_time": "2022-12-29T21:50:34.935Z"
   },
   {
    "duration": 12,
    "start_time": "2022-12-29T21:50:34.953Z"
   },
   {
    "duration": 431,
    "start_time": "2022-12-29T21:50:34.968Z"
   },
   {
    "duration": 8,
    "start_time": "2022-12-29T21:50:35.401Z"
   },
   {
    "duration": 11,
    "start_time": "2022-12-29T21:50:35.411Z"
   },
   {
    "duration": 15,
    "start_time": "2022-12-29T21:50:35.424Z"
   },
   {
    "duration": 4,
    "start_time": "2022-12-29T21:50:35.452Z"
   },
   {
    "duration": 26,
    "start_time": "2022-12-29T21:50:35.457Z"
   },
   {
    "duration": 24,
    "start_time": "2022-12-29T21:50:35.485Z"
   },
   {
    "duration": 19,
    "start_time": "2022-12-29T21:50:35.510Z"
   },
   {
    "duration": 175,
    "start_time": "2022-12-29T21:50:35.531Z"
   },
   {
    "duration": 132,
    "start_time": "2022-12-29T21:50:35.708Z"
   },
   {
    "duration": 14,
    "start_time": "2022-12-29T21:50:35.842Z"
   },
   {
    "duration": 15,
    "start_time": "2022-12-29T21:50:35.858Z"
   },
   {
    "duration": 276,
    "start_time": "2022-12-29T21:50:35.875Z"
   },
   {
    "duration": 239,
    "start_time": "2022-12-29T21:50:36.153Z"
   },
   {
    "duration": 7,
    "start_time": "2022-12-29T21:50:36.394Z"
   },
   {
    "duration": 316,
    "start_time": "2022-12-29T21:50:36.402Z"
   },
   {
    "duration": 4,
    "start_time": "2022-12-29T21:50:36.720Z"
   },
   {
    "duration": 10,
    "start_time": "2022-12-29T21:50:36.725Z"
   },
   {
    "duration": 247,
    "start_time": "2022-12-29T21:50:36.737Z"
   },
   {
    "duration": 9,
    "start_time": "2022-12-29T21:50:36.986Z"
   },
   {
    "duration": 366,
    "start_time": "2022-12-29T21:50:36.996Z"
   },
   {
    "duration": 10,
    "start_time": "2022-12-29T21:50:37.364Z"
   },
   {
    "duration": 243,
    "start_time": "2022-12-29T21:50:37.376Z"
   },
   {
    "duration": 140,
    "start_time": "2022-12-29T21:50:37.621Z"
   },
   {
    "duration": 5,
    "start_time": "2022-12-29T21:50:37.764Z"
   },
   {
    "duration": 213,
    "start_time": "2022-12-29T21:50:37.772Z"
   },
   {
    "duration": 175,
    "start_time": "2022-12-29T21:50:37.987Z"
   },
   {
    "duration": 190,
    "start_time": "2022-12-29T21:50:38.165Z"
   },
   {
    "duration": 5,
    "start_time": "2022-12-29T21:50:38.357Z"
   },
   {
    "duration": 18,
    "start_time": "2022-12-29T21:50:38.363Z"
   },
   {
    "duration": 151,
    "start_time": "2022-12-29T21:50:38.384Z"
   },
   {
    "duration": 15,
    "start_time": "2022-12-29T21:50:38.537Z"
   },
   {
    "duration": 28,
    "start_time": "2022-12-29T21:50:38.554Z"
   },
   {
    "duration": 12,
    "start_time": "2022-12-29T21:50:38.584Z"
   },
   {
    "duration": 13,
    "start_time": "2022-12-29T21:50:38.598Z"
   },
   {
    "duration": 40,
    "start_time": "2022-12-29T21:50:38.613Z"
   },
   {
    "duration": 11,
    "start_time": "2022-12-29T21:50:38.655Z"
   },
   {
    "duration": 28,
    "start_time": "2022-12-29T21:50:38.668Z"
   },
   {
    "duration": 4,
    "start_time": "2022-12-29T21:50:38.698Z"
   },
   {
    "duration": 18,
    "start_time": "2022-12-29T21:50:38.704Z"
   },
   {
    "duration": 28,
    "start_time": "2022-12-29T21:50:38.724Z"
   },
   {
    "duration": 4,
    "start_time": "2022-12-29T21:53:27.464Z"
   },
   {
    "duration": 4,
    "start_time": "2022-12-29T21:53:32.745Z"
   },
   {
    "duration": 48,
    "start_time": "2022-12-30T07:13:46.116Z"
   },
   {
    "duration": 1347,
    "start_time": "2022-12-30T07:13:51.515Z"
   },
   {
    "duration": 4,
    "start_time": "2022-12-30T07:13:52.864Z"
   },
   {
    "duration": 7,
    "start_time": "2022-12-30T07:13:52.869Z"
   },
   {
    "duration": 68,
    "start_time": "2022-12-30T07:13:52.878Z"
   },
   {
    "duration": 88,
    "start_time": "2022-12-30T07:13:52.947Z"
   },
   {
    "duration": 59,
    "start_time": "2022-12-30T07:13:53.037Z"
   },
   {
    "duration": 13,
    "start_time": "2022-12-30T07:13:53.098Z"
   },
   {
    "duration": 14,
    "start_time": "2022-12-30T07:13:53.113Z"
   },
   {
    "duration": 23,
    "start_time": "2022-12-30T07:13:53.129Z"
   },
   {
    "duration": 29,
    "start_time": "2022-12-30T07:13:53.156Z"
   },
   {
    "duration": 17,
    "start_time": "2022-12-30T07:13:53.187Z"
   },
   {
    "duration": 21,
    "start_time": "2022-12-30T07:13:53.206Z"
   },
   {
    "duration": 13,
    "start_time": "2022-12-30T07:13:53.229Z"
   },
   {
    "duration": 19,
    "start_time": "2022-12-30T07:13:53.244Z"
   },
   {
    "duration": 19,
    "start_time": "2022-12-30T07:13:53.264Z"
   },
   {
    "duration": 27,
    "start_time": "2022-12-30T07:13:53.285Z"
   },
   {
    "duration": 20,
    "start_time": "2022-12-30T07:13:53.314Z"
   },
   {
    "duration": 45,
    "start_time": "2022-12-30T07:13:53.343Z"
   },
   {
    "duration": 23,
    "start_time": "2022-12-30T07:13:53.390Z"
   },
   {
    "duration": 15,
    "start_time": "2022-12-30T07:13:53.415Z"
   },
   {
    "duration": 27,
    "start_time": "2022-12-30T07:13:53.431Z"
   },
   {
    "duration": 14,
    "start_time": "2022-12-30T07:13:53.460Z"
   },
   {
    "duration": 16,
    "start_time": "2022-12-30T07:13:53.476Z"
   },
   {
    "duration": 10,
    "start_time": "2022-12-30T07:13:53.494Z"
   },
   {
    "duration": 25,
    "start_time": "2022-12-30T07:13:53.506Z"
   },
   {
    "duration": 11,
    "start_time": "2022-12-30T07:13:53.533Z"
   },
   {
    "duration": 11,
    "start_time": "2022-12-30T07:13:53.545Z"
   },
   {
    "duration": 12,
    "start_time": "2022-12-30T07:13:53.560Z"
   },
   {
    "duration": 169,
    "start_time": "2022-12-30T07:13:53.574Z"
   },
   {
    "duration": 8,
    "start_time": "2022-12-30T07:13:53.745Z"
   },
   {
    "duration": 7,
    "start_time": "2022-12-30T07:13:53.755Z"
   },
   {
    "duration": 455,
    "start_time": "2022-12-30T07:13:53.764Z"
   },
   {
    "duration": 7,
    "start_time": "2022-12-30T07:13:54.220Z"
   },
   {
    "duration": 8,
    "start_time": "2022-12-30T07:13:54.229Z"
   },
   {
    "duration": 8,
    "start_time": "2022-12-30T07:13:54.238Z"
   },
   {
    "duration": 3,
    "start_time": "2022-12-30T07:13:54.248Z"
   },
   {
    "duration": 13,
    "start_time": "2022-12-30T07:13:54.252Z"
   },
   {
    "duration": 14,
    "start_time": "2022-12-30T07:13:54.267Z"
   },
   {
    "duration": 31,
    "start_time": "2022-12-30T07:13:54.283Z"
   },
   {
    "duration": 166,
    "start_time": "2022-12-30T07:13:54.316Z"
   },
   {
    "duration": 138,
    "start_time": "2022-12-30T07:13:54.484Z"
   },
   {
    "duration": 7,
    "start_time": "2022-12-30T07:13:54.623Z"
   },
   {
    "duration": 15,
    "start_time": "2022-12-30T07:13:54.632Z"
   },
   {
    "duration": 238,
    "start_time": "2022-12-30T07:13:54.648Z"
   },
   {
    "duration": 217,
    "start_time": "2022-12-30T07:13:54.887Z"
   },
   {
    "duration": 10,
    "start_time": "2022-12-30T07:13:55.106Z"
   },
   {
    "duration": 363,
    "start_time": "2022-12-30T07:13:55.118Z"
   },
   {
    "duration": 4,
    "start_time": "2022-12-30T07:13:55.483Z"
   },
   {
    "duration": 42,
    "start_time": "2022-12-30T07:13:55.488Z"
   },
   {
    "duration": 242,
    "start_time": "2022-12-30T07:13:55.532Z"
   },
   {
    "duration": 8,
    "start_time": "2022-12-30T07:13:55.775Z"
   },
   {
    "duration": 322,
    "start_time": "2022-12-30T07:13:55.784Z"
   },
   {
    "duration": 7,
    "start_time": "2022-12-30T07:13:56.111Z"
   },
   {
    "duration": 256,
    "start_time": "2022-12-30T07:13:56.120Z"
   },
   {
    "duration": 164,
    "start_time": "2022-12-30T07:13:56.379Z"
   },
   {
    "duration": 5,
    "start_time": "2022-12-30T07:13:56.545Z"
   },
   {
    "duration": 198,
    "start_time": "2022-12-30T07:13:56.552Z"
   },
   {
    "duration": 149,
    "start_time": "2022-12-30T07:13:56.752Z"
   },
   {
    "duration": 166,
    "start_time": "2022-12-30T07:13:56.903Z"
   },
   {
    "duration": 5,
    "start_time": "2022-12-30T07:13:57.070Z"
   },
   {
    "duration": 33,
    "start_time": "2022-12-30T07:13:57.076Z"
   },
   {
    "duration": 161,
    "start_time": "2022-12-30T07:13:57.111Z"
   },
   {
    "duration": 7,
    "start_time": "2022-12-30T07:13:57.274Z"
   },
   {
    "duration": 50,
    "start_time": "2022-12-30T07:13:57.283Z"
   },
   {
    "duration": 12,
    "start_time": "2022-12-30T07:13:57.335Z"
   },
   {
    "duration": 37,
    "start_time": "2022-12-30T07:13:57.348Z"
   },
   {
    "duration": 27,
    "start_time": "2022-12-30T07:13:57.387Z"
   },
   {
    "duration": 29,
    "start_time": "2022-12-30T07:13:57.416Z"
   },
   {
    "duration": 54,
    "start_time": "2022-12-30T07:13:57.446Z"
   },
   {
    "duration": 11,
    "start_time": "2022-12-30T07:13:57.502Z"
   },
   {
    "duration": 54,
    "start_time": "2022-12-30T07:13:57.514Z"
   },
   {
    "duration": 23,
    "start_time": "2022-12-30T07:13:57.570Z"
   }
  ],
  "kernelspec": {
   "display_name": "Python 3 (ipykernel)",
   "language": "python",
   "name": "python3"
  },
  "language_info": {
   "codemirror_mode": {
    "name": "ipython",
    "version": 3
   },
   "file_extension": ".py",
   "mimetype": "text/x-python",
   "name": "python",
   "nbconvert_exporter": "python",
   "pygments_lexer": "ipython3",
   "version": "3.9.13"
  },
  "toc": {
   "base_numbering": 1,
   "nav_menu": {},
   "number_sections": false,
   "sideBar": true,
   "skip_h1_title": false,
   "title_cell": "Содержание",
   "title_sidebar": "Contents",
   "toc_cell": true,
   "toc_position": {
    "height": "calc(100% - 180px)",
    "left": "10px",
    "top": "150px",
    "width": "326.984px"
   },
   "toc_section_display": true,
   "toc_window_display": true
  }
 },
 "nbformat": 4,
 "nbformat_minor": 2
}
