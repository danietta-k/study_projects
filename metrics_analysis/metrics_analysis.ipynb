{
 "cells": [
  {
   "cell_type": "markdown",
   "metadata": {
    "toc": true
   },
   "source": [
    "<h1>Содержание<span class=\"tocSkip\"></span></h1>\n",
    "<div class=\"toc\"><ul class=\"toc-item\"><li><span><a href=\"#Открытие-файла-и-изучение-общей-информации\" data-toc-modified-id=\"Открытие-файла-и-изучение-общей-информации-1\"><span class=\"toc-item-num\">1&nbsp;&nbsp;</span>Открытие файла и изучение общей информации</a></span><ul class=\"toc-item\"><li><span><a href=\"#Загрузка-файла\" data-toc-modified-id=\"Загрузка-файла-1.1\"><span class=\"toc-item-num\">1.1&nbsp;&nbsp;</span>Загрузка файла</a></span></li><li><span><a href=\"#Общая-информация\" data-toc-modified-id=\"Общая-информация-1.2\"><span class=\"toc-item-num\">1.2&nbsp;&nbsp;</span>Общая информация</a></span></li><li><span><a href=\"#Проверка-дубликатов\" data-toc-modified-id=\"Проверка-дубликатов-1.3\"><span class=\"toc-item-num\">1.3&nbsp;&nbsp;</span>Проверка дубликатов</a></span></li><li><span><a href=\"#Проверка-пропусков\" data-toc-modified-id=\"Проверка-пропусков-1.4\"><span class=\"toc-item-num\">1.4&nbsp;&nbsp;</span>Проверка пропусков</a></span></li><li><span><a href=\"#Типы-данных\" data-toc-modified-id=\"Типы-данных-1.5\"><span class=\"toc-item-num\">1.5&nbsp;&nbsp;</span>Типы данных</a></span></li><li><span><a href=\"#Неявные-дубликаты\" data-toc-modified-id=\"Неявные-дубликаты-1.6\"><span class=\"toc-item-num\">1.6&nbsp;&nbsp;</span>Неявные дубликаты</a></span></li><li><span><a href=\"#Проверка-значений-и-гистограммы\" data-toc-modified-id=\"Проверка-значений-и-гистограммы-1.7\"><span class=\"toc-item-num\">1.7&nbsp;&nbsp;</span>Проверка значений и гистограммы</a></span><ul class=\"toc-item\"><li><span><a href=\"#Посещения-сайта\" data-toc-modified-id=\"Посещения-сайта-1.7.1\"><span class=\"toc-item-num\">1.7.1&nbsp;&nbsp;</span>Посещения сайта</a></span></li><li><span><a href=\"#Информация-о-заказах\" data-toc-modified-id=\"Информация-о-заказах-1.7.2\"><span class=\"toc-item-num\">1.7.2&nbsp;&nbsp;</span>Информация о заказах</a></span></li><li><span><a href=\"#Расходы-на-рекламу\" data-toc-modified-id=\"Расходы-на-рекламу-1.7.3\"><span class=\"toc-item-num\">1.7.3&nbsp;&nbsp;</span>Расходы на рекламу</a></span></li></ul></li><li><span><a href=\"#Вывод\" data-toc-modified-id=\"Вывод-1.8\"><span class=\"toc-item-num\">1.8&nbsp;&nbsp;</span>Вывод</a></span></li></ul></li><li><span><a href=\"#Функции-для-расчёта-и-анализа-LTV,-ROI,-удержания-и-конверсии.\" data-toc-modified-id=\"Функции-для-расчёта-и-анализа-LTV,-ROI,-удержания-и-конверсии.-2\"><span class=\"toc-item-num\">2&nbsp;&nbsp;</span>Функции для расчёта и анализа LTV, ROI, удержания и конверсии.</a></span></li><li><span><a href=\"#Исследовательский-анализ-данных\" data-toc-modified-id=\"Исследовательский-анализ-данных-3\"><span class=\"toc-item-num\">3&nbsp;&nbsp;</span>Исследовательский анализ данных</a></span><ul class=\"toc-item\"><li><span><a href=\"#Профили-пользователей\" data-toc-modified-id=\"Профили-пользователей-3.1\"><span class=\"toc-item-num\">3.1&nbsp;&nbsp;</span>Профили пользователей</a></span></li><li><span><a href=\"#Анализ-стран\" data-toc-modified-id=\"Анализ-стран-3.2\"><span class=\"toc-item-num\">3.2&nbsp;&nbsp;</span>Анализ стран</a></span></li><li><span><a href=\"#Анализ-устройств\" data-toc-modified-id=\"Анализ-устройств-3.3\"><span class=\"toc-item-num\">3.3&nbsp;&nbsp;</span>Анализ устройств</a></span></li><li><span><a href=\"#Анализ-рекламных-источников\" data-toc-modified-id=\"Анализ-рекламных-источников-3.4\"><span class=\"toc-item-num\">3.4&nbsp;&nbsp;</span>Анализ рекламных источников</a></span></li><li><span><a href=\"#Вывод\" data-toc-modified-id=\"Вывод-3.5\"><span class=\"toc-item-num\">3.5&nbsp;&nbsp;</span>Вывод</a></span></li></ul></li><li><span><a href=\"#Маркетинг\" data-toc-modified-id=\"Маркетинг-4\"><span class=\"toc-item-num\">4&nbsp;&nbsp;</span>Маркетинг</a></span><ul class=\"toc-item\"><li><span><a href=\"#Общая-сумма-расходов-на-маркетинг\" data-toc-modified-id=\"Общая-сумма-расходов-на-маркетинг-4.1\"><span class=\"toc-item-num\">4.1&nbsp;&nbsp;</span>Общая сумма расходов на маркетинг</a></span></li><li><span><a href=\"#Распределение-трат-по-рекламным-источникам\" data-toc-modified-id=\"Распределение-трат-по-рекламным-источникам-4.2\"><span class=\"toc-item-num\">4.2&nbsp;&nbsp;</span>Распределение трат по рекламным источникам</a></span></li><li><span><a href=\"#Динамика-изменения-расходов-во-времени-(по-неделям-и-месяцам)\" data-toc-modified-id=\"Динамика-изменения-расходов-во-времени-(по-неделям-и-месяцам)-4.3\"><span class=\"toc-item-num\">4.3&nbsp;&nbsp;</span>Динамика изменения расходов во времени (по неделям и месяцам)</a></span></li><li><span><a href=\"#Средняя-стоимость-привлечения-одного-пользователя-из-каждого-источника\" data-toc-modified-id=\"Средняя-стоимость-привлечения-одного-пользователя-из-каждого-источника-4.4\"><span class=\"toc-item-num\">4.4&nbsp;&nbsp;</span>Средняя стоимость привлечения одного пользователя из каждого источника</a></span></li><li><span><a href=\"#Вывод\" data-toc-modified-id=\"Вывод-4.5\"><span class=\"toc-item-num\">4.5&nbsp;&nbsp;</span>Вывод</a></span></li></ul></li><li><span><a href=\"#Окупаемость-рекламы\" data-toc-modified-id=\"Окупаемость-рекламы-5\"><span class=\"toc-item-num\">5&nbsp;&nbsp;</span>Окупаемость рекламы</a></span><ul class=\"toc-item\"><li><span><a href=\"#Окупаемость-рекламы-(графики-LTV-и-ROI)\" data-toc-modified-id=\"Окупаемость-рекламы-(графики-LTV-и-ROI)-5.1\"><span class=\"toc-item-num\">5.1&nbsp;&nbsp;</span>Окупаемость рекламы (графики LTV и ROI)</a></span></li><li><span><a href=\"#Конверсия-и-удержание-пользователей\" data-toc-modified-id=\"Конверсия-и-удержание-пользователей-5.2\"><span class=\"toc-item-num\">5.2&nbsp;&nbsp;</span>Конверсия и удержание пользователей</a></span></li><li><span><a href=\"#Окупаемость-рекламы-с-разбивкой-по-устройствам\" data-toc-modified-id=\"Окупаемость-рекламы-с-разбивкой-по-устройствам-5.3\"><span class=\"toc-item-num\">5.3&nbsp;&nbsp;</span>Окупаемость рекламы с разбивкой по устройствам</a></span></li><li><span><a href=\"#Окупаемость-рекламы-с-разбивкой-по-странам\" data-toc-modified-id=\"Окупаемость-рекламы-с-разбивкой-по-странам-5.4\"><span class=\"toc-item-num\">5.4&nbsp;&nbsp;</span>Окупаемость рекламы с разбивкой по странам</a></span></li><li><span><a href=\"#Окупаемость-рекламы-с-разбивкой-по-рекламным-каналам\" data-toc-modified-id=\"Окупаемость-рекламы-с-разбивкой-по-рекламным-каналам-5.5\"><span class=\"toc-item-num\">5.5&nbsp;&nbsp;</span>Окупаемость рекламы с разбивкой по рекламным каналам</a></span></li><li><span><a href=\"#Вывод\" data-toc-modified-id=\"Вывод-5.6\"><span class=\"toc-item-num\">5.6&nbsp;&nbsp;</span>Вывод</a></span></li></ul></li><li><span><a href=\"#Выводы\" data-toc-modified-id=\"Выводы-6\"><span class=\"toc-item-num\">6&nbsp;&nbsp;</span>Выводы</a></span></li></ul></div>"
   ]
  },
  {
   "cell_type": "markdown",
   "metadata": {},
   "source": [
    "# Анализ бизнес-показателей приложения Procrastinate Pro+"
   ]
  },
  {
   "cell_type": "markdown",
   "metadata": {},
   "source": [
    "Существует развлекательное приложение Procrastinate Pro+. Несмотря на огромные вложения в рекламу, последние несколько месяцев компания терпит убытки. Задача — разобраться в причинах и помочь компании выйти в плюс.\n",
    "Есть данные о пользователях, привлечённых с **1 мая** по **27 октября 2019 года**:\n",
    "- лог сервера с данными об их посещениях,\n",
    "- выгрузка их покупок за этот период,\n",
    "- рекламные расходы.<br>\n",
    "\n",
    "\n",
    "Необходимо изучить:\n",
    "- откуда приходят пользователи и какими устройствами они пользуются\n",
    "- сколько стоит привлечение пользователей из различных рекламных каналов\n",
    "- сколько денег приносит каждый клиент\n",
    "- когда расходы на привлечение клиента окупаются\n",
    "- какие факторы мешают привлечению клиентов"
   ]
  },
  {
   "cell_type": "markdown",
   "metadata": {
    "id": "r-BO88CnWVwe"
   },
   "source": [
    "## Открытие файла и изучение общей информации"
   ]
  },
  {
   "cell_type": "markdown",
   "metadata": {},
   "source": [
    "### Загрузка файла"
   ]
  },
  {
   "cell_type": "markdown",
   "metadata": {
    "id": "LCZi0P80WVwj"
   },
   "source": [
    "Загрузим данные о визитах, заказах и рекламных расходах из CSV-файлов в переменные."
   ]
  },
  {
   "cell_type": "code",
   "execution_count": 1,
   "metadata": {
    "id": "_vsKinGUWVwk"
   },
   "outputs": [],
   "source": [
    "import pandas as pd\n",
    "import numpy as np\n",
    "import matplotlib.pyplot as plt\n",
    "import plotly.express as px\n",
    "from datetime import datetime, timedelta\n",
    "\n",
    "import warnings\n",
    "warnings.filterwarnings('ignore')"
   ]
  },
  {
   "cell_type": "code",
   "execution_count": 2,
   "metadata": {},
   "outputs": [],
   "source": [
    "try:\n",
    "    visits = pd.read_csv('/datasets/visits_info_short.csv')\n",
    "    orders = pd.read_csv('/datasets/orders_info_short.csv')\n",
    "    costs = pd.read_csv('/datasets/costs_info_short.csv')\n",
    "except:\n",
    "    visits = pd.read_csv('visits_info_short.csv')\n",
    "    orders = pd.read_csv('orders_info_short.csv')\n",
    "    costs = pd.read_csv('costs_info_short.csv')"
   ]
  },
  {
   "cell_type": "markdown",
   "metadata": {},
   "source": [
    "### Общая информация"
   ]
  },
  {
   "cell_type": "code",
   "execution_count": 3,
   "metadata": {},
   "outputs": [
    {
     "data": {
      "text/html": [
       "<div>\n",
       "<style scoped>\n",
       "    .dataframe tbody tr th:only-of-type {\n",
       "        vertical-align: middle;\n",
       "    }\n",
       "\n",
       "    .dataframe tbody tr th {\n",
       "        vertical-align: top;\n",
       "    }\n",
       "\n",
       "    .dataframe thead th {\n",
       "        text-align: right;\n",
       "    }\n",
       "</style>\n",
       "<table border=\"1\" class=\"dataframe\">\n",
       "  <thead>\n",
       "    <tr style=\"text-align: right;\">\n",
       "      <th></th>\n",
       "      <th>User Id</th>\n",
       "      <th>Region</th>\n",
       "      <th>Device</th>\n",
       "      <th>Channel</th>\n",
       "      <th>Session Start</th>\n",
       "      <th>Session End</th>\n",
       "    </tr>\n",
       "  </thead>\n",
       "  <tbody>\n",
       "    <tr>\n",
       "      <th>0</th>\n",
       "      <td>981449118918</td>\n",
       "      <td>United States</td>\n",
       "      <td>iPhone</td>\n",
       "      <td>organic</td>\n",
       "      <td>2019-05-01 02:36:01</td>\n",
       "      <td>2019-05-01 02:45:01</td>\n",
       "    </tr>\n",
       "    <tr>\n",
       "      <th>1</th>\n",
       "      <td>278965908054</td>\n",
       "      <td>United States</td>\n",
       "      <td>iPhone</td>\n",
       "      <td>organic</td>\n",
       "      <td>2019-05-01 04:46:31</td>\n",
       "      <td>2019-05-01 04:47:35</td>\n",
       "    </tr>\n",
       "    <tr>\n",
       "      <th>2</th>\n",
       "      <td>590706206550</td>\n",
       "      <td>United States</td>\n",
       "      <td>Mac</td>\n",
       "      <td>organic</td>\n",
       "      <td>2019-05-01 14:09:25</td>\n",
       "      <td>2019-05-01 15:32:08</td>\n",
       "    </tr>\n",
       "    <tr>\n",
       "      <th>3</th>\n",
       "      <td>326433527971</td>\n",
       "      <td>United States</td>\n",
       "      <td>Android</td>\n",
       "      <td>TipTop</td>\n",
       "      <td>2019-05-01 00:29:59</td>\n",
       "      <td>2019-05-01 00:54:25</td>\n",
       "    </tr>\n",
       "    <tr>\n",
       "      <th>4</th>\n",
       "      <td>349773784594</td>\n",
       "      <td>United States</td>\n",
       "      <td>Mac</td>\n",
       "      <td>organic</td>\n",
       "      <td>2019-05-01 03:33:35</td>\n",
       "      <td>2019-05-01 03:57:40</td>\n",
       "    </tr>\n",
       "  </tbody>\n",
       "</table>\n",
       "</div>"
      ],
      "text/plain": [
       "        User Id         Region   Device  Channel        Session Start  \\\n",
       "0  981449118918  United States   iPhone  organic  2019-05-01 02:36:01   \n",
       "1  278965908054  United States   iPhone  organic  2019-05-01 04:46:31   \n",
       "2  590706206550  United States      Mac  organic  2019-05-01 14:09:25   \n",
       "3  326433527971  United States  Android   TipTop  2019-05-01 00:29:59   \n",
       "4  349773784594  United States      Mac  organic  2019-05-01 03:33:35   \n",
       "\n",
       "           Session End  \n",
       "0  2019-05-01 02:45:01  \n",
       "1  2019-05-01 04:47:35  \n",
       "2  2019-05-01 15:32:08  \n",
       "3  2019-05-01 00:54:25  \n",
       "4  2019-05-01 03:57:40  "
      ]
     },
     "execution_count": 3,
     "metadata": {},
     "output_type": "execute_result"
    }
   ],
   "source": [
    "visits.head()"
   ]
  },
  {
   "cell_type": "code",
   "execution_count": 4,
   "metadata": {},
   "outputs": [
    {
     "name": "stdout",
     "output_type": "stream",
     "text": [
      "<class 'pandas.core.frame.DataFrame'>\n",
      "RangeIndex: 309901 entries, 0 to 309900\n",
      "Data columns (total 6 columns):\n",
      " #   Column         Non-Null Count   Dtype \n",
      "---  ------         --------------   ----- \n",
      " 0   User Id        309901 non-null  int64 \n",
      " 1   Region         309901 non-null  object\n",
      " 2   Device         309901 non-null  object\n",
      " 3   Channel        309901 non-null  object\n",
      " 4   Session Start  309901 non-null  object\n",
      " 5   Session End    309901 non-null  object\n",
      "dtypes: int64(1), object(5)\n",
      "memory usage: 14.2+ MB\n"
     ]
    }
   ],
   "source": [
    "visits.info()"
   ]
  },
  {
   "cell_type": "markdown",
   "metadata": {},
   "source": [
    "Описание колонок:\n",
    "- `User Id` - уникальный идентификатор пользователя\n",
    "- `Region` - страна пользователя\n",
    "- `Device` - тип устройства пользователя\n",
    "- `Channel` - идентификатор источника перехода\n",
    "- `Session Start` - дата и время начала сессии\n",
    "- `Session End` - дата и время окончания сессии"
   ]
  },
  {
   "cell_type": "code",
   "execution_count": 5,
   "metadata": {},
   "outputs": [
    {
     "data": {
      "text/html": [
       "<div>\n",
       "<style scoped>\n",
       "    .dataframe tbody tr th:only-of-type {\n",
       "        vertical-align: middle;\n",
       "    }\n",
       "\n",
       "    .dataframe tbody tr th {\n",
       "        vertical-align: top;\n",
       "    }\n",
       "\n",
       "    .dataframe thead th {\n",
       "        text-align: right;\n",
       "    }\n",
       "</style>\n",
       "<table border=\"1\" class=\"dataframe\">\n",
       "  <thead>\n",
       "    <tr style=\"text-align: right;\">\n",
       "      <th></th>\n",
       "      <th>User Id</th>\n",
       "      <th>Event Dt</th>\n",
       "      <th>Revenue</th>\n",
       "    </tr>\n",
       "  </thead>\n",
       "  <tbody>\n",
       "    <tr>\n",
       "      <th>0</th>\n",
       "      <td>188246423999</td>\n",
       "      <td>2019-05-01 23:09:52</td>\n",
       "      <td>4.99</td>\n",
       "    </tr>\n",
       "    <tr>\n",
       "      <th>1</th>\n",
       "      <td>174361394180</td>\n",
       "      <td>2019-05-01 12:24:04</td>\n",
       "      <td>4.99</td>\n",
       "    </tr>\n",
       "    <tr>\n",
       "      <th>2</th>\n",
       "      <td>529610067795</td>\n",
       "      <td>2019-05-01 11:34:04</td>\n",
       "      <td>4.99</td>\n",
       "    </tr>\n",
       "    <tr>\n",
       "      <th>3</th>\n",
       "      <td>319939546352</td>\n",
       "      <td>2019-05-01 15:34:40</td>\n",
       "      <td>4.99</td>\n",
       "    </tr>\n",
       "    <tr>\n",
       "      <th>4</th>\n",
       "      <td>366000285810</td>\n",
       "      <td>2019-05-01 13:59:51</td>\n",
       "      <td>4.99</td>\n",
       "    </tr>\n",
       "  </tbody>\n",
       "</table>\n",
       "</div>"
      ],
      "text/plain": [
       "        User Id             Event Dt  Revenue\n",
       "0  188246423999  2019-05-01 23:09:52     4.99\n",
       "1  174361394180  2019-05-01 12:24:04     4.99\n",
       "2  529610067795  2019-05-01 11:34:04     4.99\n",
       "3  319939546352  2019-05-01 15:34:40     4.99\n",
       "4  366000285810  2019-05-01 13:59:51     4.99"
      ]
     },
     "execution_count": 5,
     "metadata": {},
     "output_type": "execute_result"
    }
   ],
   "source": [
    "orders.head()"
   ]
  },
  {
   "cell_type": "code",
   "execution_count": 6,
   "metadata": {},
   "outputs": [
    {
     "name": "stdout",
     "output_type": "stream",
     "text": [
      "<class 'pandas.core.frame.DataFrame'>\n",
      "RangeIndex: 40212 entries, 0 to 40211\n",
      "Data columns (total 3 columns):\n",
      " #   Column    Non-Null Count  Dtype  \n",
      "---  ------    --------------  -----  \n",
      " 0   User Id   40212 non-null  int64  \n",
      " 1   Event Dt  40212 non-null  object \n",
      " 2   Revenue   40212 non-null  float64\n",
      "dtypes: float64(1), int64(1), object(1)\n",
      "memory usage: 942.6+ KB\n"
     ]
    }
   ],
   "source": [
    "orders.info()"
   ]
  },
  {
   "cell_type": "markdown",
   "metadata": {},
   "source": [
    "Описание колонок:\n",
    "- `User Id` - уникальный идентификатор пользователя\n",
    "- `Event Dt` - дата и время покупки\n",
    "- `Revenue` - сумма заказа"
   ]
  },
  {
   "cell_type": "code",
   "execution_count": 7,
   "metadata": {},
   "outputs": [
    {
     "data": {
      "text/html": [
       "<div>\n",
       "<style scoped>\n",
       "    .dataframe tbody tr th:only-of-type {\n",
       "        vertical-align: middle;\n",
       "    }\n",
       "\n",
       "    .dataframe tbody tr th {\n",
       "        vertical-align: top;\n",
       "    }\n",
       "\n",
       "    .dataframe thead th {\n",
       "        text-align: right;\n",
       "    }\n",
       "</style>\n",
       "<table border=\"1\" class=\"dataframe\">\n",
       "  <thead>\n",
       "    <tr style=\"text-align: right;\">\n",
       "      <th></th>\n",
       "      <th>dt</th>\n",
       "      <th>Channel</th>\n",
       "      <th>costs</th>\n",
       "    </tr>\n",
       "  </thead>\n",
       "  <tbody>\n",
       "    <tr>\n",
       "      <th>0</th>\n",
       "      <td>2019-05-01</td>\n",
       "      <td>FaceBoom</td>\n",
       "      <td>113.3</td>\n",
       "    </tr>\n",
       "    <tr>\n",
       "      <th>1</th>\n",
       "      <td>2019-05-02</td>\n",
       "      <td>FaceBoom</td>\n",
       "      <td>78.1</td>\n",
       "    </tr>\n",
       "    <tr>\n",
       "      <th>2</th>\n",
       "      <td>2019-05-03</td>\n",
       "      <td>FaceBoom</td>\n",
       "      <td>85.8</td>\n",
       "    </tr>\n",
       "    <tr>\n",
       "      <th>3</th>\n",
       "      <td>2019-05-04</td>\n",
       "      <td>FaceBoom</td>\n",
       "      <td>136.4</td>\n",
       "    </tr>\n",
       "    <tr>\n",
       "      <th>4</th>\n",
       "      <td>2019-05-05</td>\n",
       "      <td>FaceBoom</td>\n",
       "      <td>122.1</td>\n",
       "    </tr>\n",
       "  </tbody>\n",
       "</table>\n",
       "</div>"
      ],
      "text/plain": [
       "           dt   Channel  costs\n",
       "0  2019-05-01  FaceBoom  113.3\n",
       "1  2019-05-02  FaceBoom   78.1\n",
       "2  2019-05-03  FaceBoom   85.8\n",
       "3  2019-05-04  FaceBoom  136.4\n",
       "4  2019-05-05  FaceBoom  122.1"
      ]
     },
     "execution_count": 7,
     "metadata": {},
     "output_type": "execute_result"
    }
   ],
   "source": [
    "costs.head()"
   ]
  },
  {
   "cell_type": "code",
   "execution_count": 8,
   "metadata": {},
   "outputs": [
    {
     "name": "stdout",
     "output_type": "stream",
     "text": [
      "<class 'pandas.core.frame.DataFrame'>\n",
      "RangeIndex: 1800 entries, 0 to 1799\n",
      "Data columns (total 3 columns):\n",
      " #   Column   Non-Null Count  Dtype  \n",
      "---  ------   --------------  -----  \n",
      " 0   dt       1800 non-null   object \n",
      " 1   Channel  1800 non-null   object \n",
      " 2   costs    1800 non-null   float64\n",
      "dtypes: float64(1), object(2)\n",
      "memory usage: 42.3+ KB\n"
     ]
    }
   ],
   "source": [
    "costs.info()"
   ]
  },
  {
   "cell_type": "markdown",
   "metadata": {},
   "source": [
    "Описание колонок:\n",
    "- `dt` - дата проведения рекламной кампании\n",
    "- `Channel` - идентификатор рекламного источника\n",
    "- `costs` - расходы на эту кампанию"
   ]
  },
  {
   "cell_type": "markdown",
   "metadata": {},
   "source": [
    "### Проверка дубликатов"
   ]
  },
  {
   "cell_type": "markdown",
   "metadata": {},
   "source": [
    "Проверим количество явных дубликатов:"
   ]
  },
  {
   "cell_type": "code",
   "execution_count": 9,
   "metadata": {},
   "outputs": [
    {
     "data": {
      "text/plain": [
       "0"
      ]
     },
     "execution_count": 9,
     "metadata": {},
     "output_type": "execute_result"
    }
   ],
   "source": [
    "visits.duplicated().sum()"
   ]
  },
  {
   "cell_type": "code",
   "execution_count": 10,
   "metadata": {},
   "outputs": [
    {
     "data": {
      "text/plain": [
       "0"
      ]
     },
     "execution_count": 10,
     "metadata": {},
     "output_type": "execute_result"
    }
   ],
   "source": [
    "orders.duplicated().sum()"
   ]
  },
  {
   "cell_type": "code",
   "execution_count": 11,
   "metadata": {},
   "outputs": [
    {
     "data": {
      "text/plain": [
       "0"
      ]
     },
     "execution_count": 11,
     "metadata": {},
     "output_type": "execute_result"
    }
   ],
   "source": [
    "costs.duplicated().sum()"
   ]
  },
  {
   "cell_type": "markdown",
   "metadata": {},
   "source": [
    "Явные дубликаты отсутствуют"
   ]
  },
  {
   "cell_type": "markdown",
   "metadata": {},
   "source": [
    "### Проверка пропусков"
   ]
  },
  {
   "cell_type": "markdown",
   "metadata": {},
   "source": [
    "Проверим количество пропусков:"
   ]
  },
  {
   "cell_type": "code",
   "execution_count": 12,
   "metadata": {},
   "outputs": [
    {
     "data": {
      "text/plain": [
       "User Id          0\n",
       "Region           0\n",
       "Device           0\n",
       "Channel          0\n",
       "Session Start    0\n",
       "Session End      0\n",
       "dtype: int64"
      ]
     },
     "execution_count": 12,
     "metadata": {},
     "output_type": "execute_result"
    }
   ],
   "source": [
    "visits.isna().sum()"
   ]
  },
  {
   "cell_type": "code",
   "execution_count": 13,
   "metadata": {},
   "outputs": [
    {
     "data": {
      "text/plain": [
       "User Id     0\n",
       "Event Dt    0\n",
       "Revenue     0\n",
       "dtype: int64"
      ]
     },
     "execution_count": 13,
     "metadata": {},
     "output_type": "execute_result"
    }
   ],
   "source": [
    "orders.isna().sum()"
   ]
  },
  {
   "cell_type": "code",
   "execution_count": 14,
   "metadata": {},
   "outputs": [
    {
     "data": {
      "text/plain": [
       "dt         0\n",
       "Channel    0\n",
       "costs      0\n",
       "dtype: int64"
      ]
     },
     "execution_count": 14,
     "metadata": {},
     "output_type": "execute_result"
    }
   ],
   "source": [
    "costs.isna().sum()"
   ]
  },
  {
   "cell_type": "markdown",
   "metadata": {},
   "source": [
    "Пропуски отсутствуют"
   ]
  },
  {
   "cell_type": "markdown",
   "metadata": {},
   "source": [
    "Приведем названия колонок к нижнему регистру:"
   ]
  },
  {
   "cell_type": "code",
   "execution_count": 15,
   "metadata": {},
   "outputs": [],
   "source": [
    "visits.columns = [col.lower().replace(' ', '_') for col in visits.columns]\n",
    "orders.columns = [col.lower().replace(' ', '_') for col in orders.columns]\n",
    "costs.columns = [col.lower().replace(' ', '_') for col in costs.columns]"
   ]
  },
  {
   "cell_type": "markdown",
   "metadata": {},
   "source": [
    "### Типы данных"
   ]
  },
  {
   "cell_type": "markdown",
   "metadata": {},
   "source": [
    "Рассмотрим типы данных в колонках и поменяем их при необходимости:"
   ]
  },
  {
   "cell_type": "code",
   "execution_count": 16,
   "metadata": {},
   "outputs": [
    {
     "data": {
      "text/plain": [
       "user_id           int64\n",
       "region           object\n",
       "device           object\n",
       "channel          object\n",
       "session_start    object\n",
       "session_end      object\n",
       "dtype: object"
      ]
     },
     "execution_count": 16,
     "metadata": {},
     "output_type": "execute_result"
    }
   ],
   "source": [
    "visits.dtypes"
   ]
  },
  {
   "cell_type": "code",
   "execution_count": 17,
   "metadata": {},
   "outputs": [],
   "source": [
    "visits.session_start = pd.to_datetime(visits.session_start)\n",
    "visits.session_end = pd.to_datetime(visits.session_end)"
   ]
  },
  {
   "cell_type": "code",
   "execution_count": 18,
   "metadata": {},
   "outputs": [
    {
     "data": {
      "text/plain": [
       "user_id       int64\n",
       "event_dt     object\n",
       "revenue     float64\n",
       "dtype: object"
      ]
     },
     "execution_count": 18,
     "metadata": {},
     "output_type": "execute_result"
    }
   ],
   "source": [
    "orders.dtypes"
   ]
  },
  {
   "cell_type": "code",
   "execution_count": 19,
   "metadata": {},
   "outputs": [],
   "source": [
    "orders.event_dt = pd.to_datetime(orders.event_dt)"
   ]
  },
  {
   "cell_type": "code",
   "execution_count": 20,
   "metadata": {},
   "outputs": [
    {
     "data": {
      "text/plain": [
       "dt          object\n",
       "channel     object\n",
       "costs      float64\n",
       "dtype: object"
      ]
     },
     "execution_count": 20,
     "metadata": {},
     "output_type": "execute_result"
    }
   ],
   "source": [
    "costs.dtypes"
   ]
  },
  {
   "cell_type": "code",
   "execution_count": 21,
   "metadata": {},
   "outputs": [],
   "source": [
    "costs.dt = pd.to_datetime(costs.dt)"
   ]
  },
  {
   "cell_type": "markdown",
   "metadata": {},
   "source": [
    "### Неявные дубликаты"
   ]
  },
  {
   "cell_type": "markdown",
   "metadata": {},
   "source": [
    "Посмотрим неявные дубликаты:"
   ]
  },
  {
   "cell_type": "code",
   "execution_count": 22,
   "metadata": {},
   "outputs": [
    {
     "data": {
      "text/plain": [
       "0"
      ]
     },
     "execution_count": 22,
     "metadata": {},
     "output_type": "execute_result"
    }
   ],
   "source": [
    "orders.duplicated(subset=['user_id', 'event_dt']).sum()"
   ]
  },
  {
   "cell_type": "code",
   "execution_count": 23,
   "metadata": {},
   "outputs": [
    {
     "data": {
      "text/plain": [
       "0"
      ]
     },
     "execution_count": 23,
     "metadata": {},
     "output_type": "execute_result"
    }
   ],
   "source": [
    "visits.duplicated(subset=['user_id', 'region', 'device', 'session_start']).sum()"
   ]
  },
  {
   "cell_type": "code",
   "execution_count": 24,
   "metadata": {},
   "outputs": [
    {
     "data": {
      "text/plain": [
       "0"
      ]
     },
     "execution_count": 24,
     "metadata": {},
     "output_type": "execute_result"
    }
   ],
   "source": [
    "costs.duplicated(subset=['dt', 'channel']).sum()"
   ]
  },
  {
   "cell_type": "markdown",
   "metadata": {},
   "source": [
    "Неявные дубликаты отсутствуют"
   ]
  },
  {
   "cell_type": "markdown",
   "metadata": {},
   "source": [
    "### Проверка значений и гистограммы"
   ]
  },
  {
   "cell_type": "markdown",
   "metadata": {},
   "source": [
    "#### Посещения сайта"
   ]
  },
  {
   "cell_type": "code",
   "execution_count": 25,
   "metadata": {},
   "outputs": [
    {
     "data": {
      "text/plain": [
       "count                  309901\n",
       "unique                    184\n",
       "top       2019-09-29 00:00:00\n",
       "freq                     2493\n",
       "first     2019-05-01 00:00:00\n",
       "last      2019-10-31 00:00:00\n",
       "Name: session_start, dtype: object"
      ]
     },
     "execution_count": 25,
     "metadata": {},
     "output_type": "execute_result"
    }
   ],
   "source": [
    "visits.session_start.dt.normalize().describe()"
   ]
  },
  {
   "cell_type": "code",
   "execution_count": 26,
   "metadata": {},
   "outputs": [
    {
     "data": {
      "text/plain": [
       "count                  309901\n",
       "unique                    185\n",
       "top       2019-09-29 00:00:00\n",
       "freq                     2512\n",
       "first     2019-05-01 00:00:00\n",
       "last      2019-11-01 00:00:00\n",
       "Name: session_end, dtype: object"
      ]
     },
     "execution_count": 26,
     "metadata": {},
     "output_type": "execute_result"
    }
   ],
   "source": [
    "visits.session_end.dt.normalize().describe()"
   ]
  },
  {
   "cell_type": "code",
   "execution_count": 27,
   "metadata": {},
   "outputs": [
    {
     "data": {
      "text/plain": [
       "array([[<AxesSubplot:title={'center':'session_start'}>,\n",
       "        <AxesSubplot:title={'center':'session_end'}>]], dtype=object)"
      ]
     },
     "execution_count": 27,
     "metadata": {},
     "output_type": "execute_result"
    },
    {
     "data": {
      "image/png": "[encoded data removed]",
      "text/plain": [
       "<Figure size 1000x400 with 2 Axes>"
      ]
     },
     "metadata": {},
     "output_type": "display_data"
    }
   ],
   "source": [
    "visits[['session_start', 'session_end']].hist(figsize=(10, 4), xlabelsize=8, ylabelsize=10)"
   ]
  },
  {
   "cell_type": "markdown",
   "metadata": {},
   "source": [
    "- Пик начала пользовательских сессий пришелся на **29 сентября 2019**\n",
    "- Первая зарегистрированная пользовательская сессия началась 1 мая 2019\n",
    "- Последняя зарегистрированная пользовательская сессия началась 31 октября 2019\n",
    "- Большинство пользовательских сессий завершились **29 сентября 2019**\n",
    "- Первая зарегистрированная сессия завершилась 1 мая 2019\n",
    "- Последняя зарегистрированная сессия завершилась 1 ноября 2019"
   ]
  },
  {
   "cell_type": "markdown",
   "metadata": {},
   "source": [
    "#### Информация о заказах"
   ]
  },
  {
   "cell_type": "code",
   "execution_count": 28,
   "metadata": {},
   "outputs": [
    {
     "data": {
      "text/plain": [
       "count                   40212\n",
       "unique                    184\n",
       "top       2019-10-26 00:00:00\n",
       "freq                      364\n",
       "first     2019-05-01 00:00:00\n",
       "last      2019-10-31 00:00:00\n",
       "Name: event_dt, dtype: object"
      ]
     },
     "execution_count": 28,
     "metadata": {},
     "output_type": "execute_result"
    }
   ],
   "source": [
    "orders.event_dt.dt.normalize().describe()"
   ]
  },
  {
   "cell_type": "code",
   "execution_count": 29,
   "metadata": {},
   "outputs": [
    {
     "data": {
      "text/plain": [
       "count    40212.000000\n",
       "mean         5.370608\n",
       "std          3.454208\n",
       "min          4.990000\n",
       "25%          4.990000\n",
       "50%          4.990000\n",
       "75%          4.990000\n",
       "max         49.990000\n",
       "Name: revenue, dtype: float64"
      ]
     },
     "execution_count": 29,
     "metadata": {},
     "output_type": "execute_result"
    }
   ],
   "source": [
    "orders.revenue.describe()"
   ]
  },
  {
   "cell_type": "code",
   "execution_count": 30,
   "metadata": {
    "scrolled": false
   },
   "outputs": [
    {
     "data": {
      "text/plain": [
       "array([[<AxesSubplot:title={'center':'event_dt'}>,\n",
       "        <AxesSubplot:title={'center':'revenue'}>]], dtype=object)"
      ]
     },
     "execution_count": 30,
     "metadata": {},
     "output_type": "execute_result"
    },
    {
     "data": {
      "image/png": "[encoded data removed]",
      "text/plain": [
       "<Figure size 1000x400 with 2 Axes>"
      ]
     },
     "metadata": {},
     "output_type": "display_data"
    }
   ],
   "source": [
    "orders[['event_dt', 'revenue']].hist(figsize=(10, 4), xlabelsize=8, ylabelsize=10)"
   ]
  },
  {
   "cell_type": "markdown",
   "metadata": {},
   "source": [
    "- Больше всего заказов было совершено **26 октября 2019** (364 заказа)\n",
    "- Первый зарегистрированный заказ был совершен 1 мая 2019\n",
    "- Последний зарегистрированный заказ был совершен 31 октября 2019\n",
    "- В последнее время выросло число заказов.\n",
    "- Также сумма заказа чаще всего не превышает 4.99 у.е.\n",
    "- Минимальная сумма заказа: 4.99 у.е.\n",
    "- Максимальная сумма заказа: 49.99 у.е."
   ]
  },
  {
   "cell_type": "markdown",
   "metadata": {},
   "source": [
    "#### Расходы на рекламу"
   ]
  },
  {
   "cell_type": "code",
   "execution_count": 31,
   "metadata": {},
   "outputs": [
    {
     "data": {
      "text/plain": [
       "count    1800.000000\n",
       "mean       58.609611\n",
       "std       107.740223\n",
       "min         0.800000\n",
       "25%         6.495000\n",
       "50%        12.285000\n",
       "75%        33.600000\n",
       "max       630.000000\n",
       "Name: costs, dtype: float64"
      ]
     },
     "execution_count": 31,
     "metadata": {},
     "output_type": "execute_result"
    }
   ],
   "source": [
    "costs.costs.describe()"
   ]
  },
  {
   "cell_type": "code",
   "execution_count": 32,
   "metadata": {},
   "outputs": [
    {
     "data": {
      "text/plain": [
       "array([[<AxesSubplot:title={'center':'dt'}>,\n",
       "        <AxesSubplot:title={'center':'costs'}>]], dtype=object)"
      ]
     },
     "execution_count": 32,
     "metadata": {},
     "output_type": "execute_result"
    },
    {
     "data": {
      "image/png": "[encoded data removed]",
      "text/plain": [
       "<Figure size 1000x400 with 2 Axes>"
      ]
     },
     "metadata": {},
     "output_type": "display_data"
    }
   ],
   "source": [
    "costs.hist(figsize=(10, 4), xlabelsize=8, ylabelsize=10)"
   ]
  },
  {
   "cell_type": "markdown",
   "metadata": {},
   "source": [
    "- Рекламные кампании во времени распределены равномерно.\n",
    "- Стоимость рекламных кампаний чаще всего не превышала ~33 у.е.\n",
    "- Минимальные затраты: 0.8 у.е.\n",
    "- Максимальные затраты: 630 у.е."
   ]
  },
  {
   "cell_type": "markdown",
   "metadata": {},
   "source": [
    "### Вывод"
   ]
  },
  {
   "cell_type": "markdown",
   "metadata": {},
   "source": [
    "В данной части был прочитан файл с данными и просмотрены основные сведения о датесете. Далее необходимо написать функции для расчета метрик и перейти к исследовательскому анализу."
   ]
  },
  {
   "cell_type": "markdown",
   "metadata": {
    "id": "AS1eCqCpWVwk"
   },
   "source": [
    "## Функции для расчёта и анализа LTV, ROI, удержания и конверсии.\n",
    "\n",
    "Зададим функции для расчёта и анализа LTV, ROI, удержания и конверсии, а также функции для построения графиков:"
   ]
  },
  {
   "cell_type": "markdown",
   "metadata": {},
   "source": [
    "`get_profiles()` — для создания профилей пользователей"
   ]
  },
  {
   "cell_type": "code",
   "execution_count": 33,
   "metadata": {
    "id": "igOfMgBpWVwl"
   },
   "outputs": [],
   "source": [
    "def get_profiles(sessions, orders, ad_costs):\n",
    "\n",
    "    # находим параметры первых посещений\n",
    "    profiles = (\n",
    "        sessions.sort_values(by=['user_id', 'session_start'])\n",
    "        .groupby('user_id')\n",
    "        .agg(\n",
    "            {\n",
    "                'session_start': 'first',\n",
    "                'channel': 'first',\n",
    "                'device': 'first',\n",
    "                'region': 'first',\n",
    "            }\n",
    "        )\n",
    "        .rename(columns={'session_start': 'first_ts'})\n",
    "        .reset_index()\n",
    "    )\n",
    "\n",
    "    # для когортного анализа определяем дату первого посещения\n",
    "    # и первый день месяца, в который это посещение произошло\n",
    "    profiles['dt'] = profiles['first_ts'].dt.date\n",
    "    profiles['month'] = profiles['first_ts'].astype('datetime64[M]')\n",
    "\n",
    "    # добавляем признак платящих пользователей\n",
    "    profiles['payer'] = profiles['user_id'].isin(orders['user_id'].unique())\n",
    "\n",
    "    # добавляем флаги для всех событий из event_names\n",
    "    #for event in event_names:\n",
    "    #    if event in events['event_name'].unique():\n",
    "    #        profiles[event] = profiles['user_id'].isin(\n",
    "    #            events.query('event_name == @event')['user_id'].unique()\n",
    "    #        )\n",
    "\n",
    "    # считаем количество уникальных пользователей\n",
    "    # с одинаковыми источником и датой привлечения\n",
    "    new_users = (\n",
    "        profiles.groupby(['dt', 'channel'])\n",
    "        .agg({'user_id': 'nunique'})\n",
    "        .rename(columns={'user_id': 'unique_users'})\n",
    "        .reset_index()\n",
    "    )\n",
    "    ad_costs.dt = ad_costs.dt.dt.date\n",
    "    # объединяем траты на рекламу и число привлечённых пользователей\n",
    "    ad_costs = ad_costs.merge(new_users, on=['dt', 'channel'], how='left')\n",
    "\n",
    "    # делим рекламные расходы на число привлечённых пользователей\n",
    "    ad_costs['acquisition_cost'] = ad_costs['costs'] / ad_costs['unique_users']\n",
    "\n",
    "    # добавляем стоимость привлечения в профили\n",
    "    profiles = profiles.merge(\n",
    "        ad_costs[['dt', 'channel', 'acquisition_cost']],\n",
    "        on=['dt', 'channel'],\n",
    "        how='left',\n",
    "    )\n",
    "\n",
    "    # стоимость привлечения органических пользователей равна нулю\n",
    "    profiles['acquisition_cost'] = profiles['acquisition_cost'].fillna(0)\n",
    "\n",
    "    return profiles"
   ]
  },
  {
   "cell_type": "markdown",
   "metadata": {},
   "source": [
    "`get_retention()` — для подсчёта Retention Rate"
   ]
  },
  {
   "cell_type": "code",
   "execution_count": 34,
   "metadata": {},
   "outputs": [],
   "source": [
    "def get_retention(\n",
    "    profiles,\n",
    "    sessions,\n",
    "    observation_date,\n",
    "    horizon_days,\n",
    "    dimensions=[],\n",
    "    ignore_horizon=False,\n",
    "):\n",
    "\n",
    "    # добавляем столбец payer в передаваемый dimensions список\n",
    "    dimensions = ['payer'] + dimensions\n",
    "\n",
    "    # исключаем пользователей, не «доживших» до горизонта анализа\n",
    "    last_suitable_acquisition_date = observation_date\n",
    "    if not ignore_horizon:\n",
    "        last_suitable_acquisition_date = observation_date - timedelta(\n",
    "            days=horizon_days - 1\n",
    "        )\n",
    "    result_raw = profiles.query('dt <= @last_suitable_acquisition_date')\n",
    "\n",
    "    # собираем «сырые» данные для расчёта удержания\n",
    "    result_raw = result_raw.merge(\n",
    "        sessions[['user_id', 'session_start']], on='user_id', how='left'\n",
    "    )\n",
    "    result_raw['lifetime'] = (\n",
    "        result_raw['session_start'] - result_raw['first_ts']\n",
    "    ).dt.days\n",
    "\n",
    "    # функция для группировки таблицы по желаемым признакам\n",
    "    def group_by_dimensions(df, dims, horizon_days):\n",
    "        result = df.pivot_table(\n",
    "            index=dims, columns='lifetime', values='user_id', aggfunc='nunique'\n",
    "        )\n",
    "        cohort_sizes = (\n",
    "            df.groupby(dims)\n",
    "            .agg({'user_id': 'nunique'})\n",
    "            .rename(columns={'user_id': 'cohort_size'})\n",
    "        )\n",
    "        result = cohort_sizes.merge(result, on=dims, how='left').fillna(0)\n",
    "        result = result.div(result['cohort_size'], axis=0)\n",
    "        result = result[['cohort_size'] + list(range(horizon_days))]\n",
    "        result['cohort_size'] = cohort_sizes\n",
    "        return result\n",
    "\n",
    "    # получаем таблицу удержания\n",
    "    result_grouped = group_by_dimensions(result_raw, dimensions, horizon_days)\n",
    "\n",
    "    # получаем таблицу динамики удержания\n",
    "    result_in_time = group_by_dimensions(\n",
    "        result_raw, dimensions + ['dt'], horizon_days\n",
    "    )\n",
    "\n",
    "    # возвращаем обе таблицы и сырые данные\n",
    "    return result_raw, result_grouped, result_in_time"
   ]
  },
  {
   "cell_type": "markdown",
   "metadata": {},
   "source": [
    "`get_conversion()` — для подсчёта конверсии"
   ]
  },
  {
   "cell_type": "code",
   "execution_count": 35,
   "metadata": {},
   "outputs": [],
   "source": [
    "def get_conversion(\n",
    "    profiles,\n",
    "    purchases,\n",
    "    observation_date,\n",
    "    horizon_days,\n",
    "    dimensions=[],\n",
    "    ignore_horizon=False,\n",
    "):\n",
    "\n",
    "    # исключаем пользователей, не «доживших» до горизонта анализа\n",
    "    last_suitable_acquisition_date = observation_date\n",
    "    if not ignore_horizon:\n",
    "        last_suitable_acquisition_date = observation_date - timedelta(\n",
    "            days=horizon_days - 1\n",
    "        )\n",
    "    result_raw = profiles.query('dt <= @last_suitable_acquisition_date')\n",
    "\n",
    "    # определяем дату и время первой покупки для каждого пользователя\n",
    "    first_purchases = (\n",
    "        purchases.sort_values(by=['user_id', 'event_dt'])\n",
    "        .groupby('user_id')\n",
    "        .agg({'event_dt': 'first'})\n",
    "        .reset_index()\n",
    "    )\n",
    "\n",
    "    # добавляем данные о покупках в профили\n",
    "    result_raw = result_raw.merge(\n",
    "        first_purchases[['user_id', 'event_dt']], on='user_id', how='left'\n",
    "    )\n",
    "\n",
    "    # рассчитываем лайфтайм для каждой покупки\n",
    "    result_raw['lifetime'] = (\n",
    "        result_raw['event_dt'] - result_raw['first_ts']\n",
    "    ).dt.days\n",
    "\n",
    "    # группируем по cohort, если в dimensions ничего нет\n",
    "    if len(dimensions) == 0:\n",
    "        result_raw['cohort'] = 'All users' \n",
    "        dimensions = dimensions + ['cohort']\n",
    "\n",
    "    # функция для группировки таблицы по желаемым признакам\n",
    "    def group_by_dimensions(df, dims, horizon_days):\n",
    "        result = df.pivot_table(\n",
    "            index=dims, columns='lifetime', values='user_id', aggfunc='nunique'\n",
    "        )\n",
    "        result = result.fillna(0).cumsum(axis = 1)\n",
    "        cohort_sizes = (\n",
    "            df.groupby(dims)\n",
    "            .agg({'user_id': 'nunique'})\n",
    "            .rename(columns={'user_id': 'cohort_size'})\n",
    "        )\n",
    "        result = cohort_sizes.merge(result, on=dims, how='left').fillna(0)\n",
    "        # делим каждую «ячейку» в строке на размер когорты\n",
    "        # и получаем conversion rate\n",
    "        result = result.div(result['cohort_size'], axis=0)\n",
    "        result = result[['cohort_size'] + list(range(horizon_days))]\n",
    "        result['cohort_size'] = cohort_sizes\n",
    "        return result\n",
    "\n",
    "    # получаем таблицу конверсии\n",
    "    result_grouped = group_by_dimensions(result_raw, dimensions, horizon_days)\n",
    "\n",
    "    # для таблицы динамики конверсии убираем 'cohort' из dimensions\n",
    "    if 'cohort' in dimensions: \n",
    "        dimensions = []\n",
    "\n",
    "    # получаем таблицу динамики конверсии\n",
    "    result_in_time = group_by_dimensions(\n",
    "        result_raw, dimensions + ['dt'], horizon_days\n",
    "    )\n",
    "\n",
    "    # возвращаем обе таблицы и сырые данные\n",
    "    return result_raw, result_grouped, result_in_time"
   ]
  },
  {
   "cell_type": "markdown",
   "metadata": {},
   "source": [
    "`get_ltv()` — для подсчёта LTV"
   ]
  },
  {
   "cell_type": "code",
   "execution_count": 36,
   "metadata": {},
   "outputs": [],
   "source": [
    "def get_ltv(\n",
    "    profiles,\n",
    "    purchases,\n",
    "    observation_date,\n",
    "    horizon_days,\n",
    "    dimensions=[],\n",
    "    ignore_horizon=False,\n",
    "):\n",
    "\n",
    "    # исключаем пользователей, не «доживших» до горизонта анализа\n",
    "    last_suitable_acquisition_date = observation_date\n",
    "    if not ignore_horizon:\n",
    "        last_suitable_acquisition_date = observation_date - timedelta(\n",
    "            days=horizon_days - 1\n",
    "        )\n",
    "    result_raw = profiles.query('dt <= @last_suitable_acquisition_date')\n",
    "    # добавляем данные о покупках в профили\n",
    "    result_raw = result_raw.merge(\n",
    "        purchases[['user_id', 'event_dt', 'revenue']], on='user_id', how='left'\n",
    "    )\n",
    "    # рассчитываем лайфтайм пользователя для каждой покупки\n",
    "    result_raw['lifetime'] = (\n",
    "        result_raw['event_dt'] - result_raw['first_ts']\n",
    "    ).dt.days\n",
    "    # группируем по cohort, если в dimensions ничего нет\n",
    "    if len(dimensions) == 0:\n",
    "        result_raw['cohort'] = 'All users'\n",
    "        dimensions = dimensions + ['cohort']\n",
    "\n",
    "    # функция группировки по желаемым признакам\n",
    "    def group_by_dimensions(df, dims, horizon_days):\n",
    "        # строим «треугольную» таблицу выручки\n",
    "        result = df.pivot_table(\n",
    "            index=dims, columns='lifetime', values='revenue', aggfunc='sum'\n",
    "        )\n",
    "        # находим сумму выручки с накоплением\n",
    "        result = result.fillna(0).cumsum(axis=1)\n",
    "        # вычисляем размеры когорт\n",
    "        cohort_sizes = (\n",
    "            df.groupby(dims)\n",
    "            .agg({'user_id': 'nunique'})\n",
    "            .rename(columns={'user_id': 'cohort_size'})\n",
    "        )\n",
    "        # объединяем размеры когорт и таблицу выручки\n",
    "        result = cohort_sizes.merge(result, on=dims, how='left').fillna(0)\n",
    "        # считаем LTV: делим каждую «ячейку» в строке на размер когорты\n",
    "        result = result.div(result['cohort_size'], axis=0)\n",
    "        # исключаем все лайфтаймы, превышающие горизонт анализа\n",
    "        result = result[['cohort_size'] + list(range(horizon_days))]\n",
    "        # восстанавливаем размеры когорт\n",
    "        result['cohort_size'] = cohort_sizes\n",
    "\n",
    "        # сохраняем в датафрейм данные пользователей и значения CAC, \n",
    "        # добавив параметры из dimensions\n",
    "        cac = df[['user_id', 'acquisition_cost'] + dims].drop_duplicates()\n",
    "\n",
    "        # считаем средний CAC по параметрам из dimensions\n",
    "        cac = (\n",
    "            cac.groupby(dims)\n",
    "            .agg({'acquisition_cost': 'mean'})\n",
    "            .rename(columns={'acquisition_cost': 'cac'})\n",
    "        )\n",
    "\n",
    "        # считаем ROI: делим LTV на CAC\n",
    "        roi = result.div(cac['cac'], axis=0)\n",
    "\n",
    "        # удаляем строки с бесконечным ROI\n",
    "        roi = roi[~roi['cohort_size'].isin([np.inf])]\n",
    "\n",
    "        # восстанавливаем размеры когорт в таблице ROI\n",
    "        roi['cohort_size'] = cohort_sizes\n",
    "\n",
    "        # добавляем CAC в таблицу ROI\n",
    "        roi['cac'] = cac['cac']\n",
    "\n",
    "        # в финальной таблице оставляем размеры когорт, CAC\n",
    "        # и ROI в лайфтаймы, не превышающие горизонт анализа\n",
    "        roi = roi[['cohort_size', 'cac'] + list(range(horizon_days))]\n",
    "\n",
    "        # возвращаем таблицы LTV и ROI\n",
    "        return result, roi\n",
    "\n",
    "    # получаем таблицы LTV и ROI\n",
    "    result_grouped, roi_grouped = group_by_dimensions(\n",
    "        result_raw, dimensions, horizon_days\n",
    "    )\n",
    "\n",
    "    # для таблиц динамики убираем 'cohort' из dimensions\n",
    "    if 'cohort' in dimensions:\n",
    "        dimensions = []\n",
    "\n",
    "    # получаем таблицы динамики LTV и ROI\n",
    "    result_in_time, roi_in_time = group_by_dimensions(\n",
    "        result_raw, dimensions + ['dt'], horizon_days\n",
    "    )\n",
    "\n",
    "    return (\n",
    "        result_raw,  # сырые данные\n",
    "        result_grouped,  # таблица LTV\n",
    "        result_in_time,  # таблица динамики LTV\n",
    "        roi_grouped,  # таблица ROI\n",
    "        roi_in_time,  # таблица динамики ROI\n",
    "    )"
   ]
  },
  {
   "cell_type": "markdown",
   "metadata": {},
   "source": [
    "`filter_data()` — для сглаживания данных"
   ]
  },
  {
   "cell_type": "code",
   "execution_count": 37,
   "metadata": {},
   "outputs": [],
   "source": [
    "def filter_data(df, window):\n",
    "    for column in df.columns.values:\n",
    "        df[column] = df[column].rolling(window).mean() \n",
    "    return df"
   ]
  },
  {
   "cell_type": "markdown",
   "metadata": {},
   "source": [
    "`plot_retention()` — для построения графика Retention Rate"
   ]
  },
  {
   "cell_type": "code",
   "execution_count": 38,
   "metadata": {},
   "outputs": [],
   "source": [
    "def plot_retention(retention, retention_history, horizon, window=7):\n",
    "\n",
    "    # задаём размер сетки для графиков\n",
    "    plt.figure(figsize=(15, 10))\n",
    "\n",
    "    # исключаем размеры когорт и удержание первого дня\n",
    "    retention = retention.drop(columns=['cohort_size', 0])\n",
    "    # в таблице динамики оставляем только нужный лайфтайм\n",
    "    retention_history = retention_history.drop(columns=['cohort_size'])[\n",
    "        [horizon - 1]\n",
    "    ]\n",
    "\n",
    "    # если в индексах таблицы удержания только payer,\n",
    "    # добавляем второй признак — cohort\n",
    "    if retention.index.nlevels == 1:\n",
    "        retention['cohort'] = 'All users'\n",
    "        retention = retention.reset_index().set_index(['cohort', 'payer'])\n",
    "\n",
    "    # в таблице графиков — два столбца и две строки, четыре ячейки\n",
    "    # в первой строим кривые удержания платящих пользователей\n",
    "    ax1 = plt.subplot(2, 2, 1)\n",
    "    retention.query('payer == True').droplevel('payer').T.plot(\n",
    "        grid=True, ax=ax1\n",
    "    )\n",
    "    plt.legend()\n",
    "    plt.xlabel('Лайфтайм')\n",
    "    plt.title('Удержание платящих пользователей')\n",
    "\n",
    "    # во второй ячейке строим кривые удержания неплатящих\n",
    "    # вертикальная ось — от графика из первой ячейки\n",
    "    ax2 = plt.subplot(2, 2, 2, sharey=ax1)\n",
    "    retention.query('payer == False').droplevel('payer').T.plot(\n",
    "        grid=True, ax=ax2\n",
    "    )\n",
    "    plt.legend()\n",
    "    plt.xlabel('Лайфтайм')\n",
    "    plt.title('Удержание неплатящих пользователей')\n",
    "\n",
    "    # в третьей ячейке — динамика удержания платящих\n",
    "    ax3 = plt.subplot(2, 2, 3)\n",
    "    # получаем названия столбцов для сводной таблицы\n",
    "    columns = [\n",
    "        name\n",
    "        for name in retention_history.index.names\n",
    "        if name not in ['dt', 'payer']\n",
    "    ]\n",
    "    # фильтруем данные и строим график\n",
    "    filtered_data = retention_history.query('payer == True').pivot_table(\n",
    "        index='dt', columns=columns, values=horizon - 1, aggfunc='mean'\n",
    "    )\n",
    "    filter_data(filtered_data, window).plot(grid=True, ax=ax3)\n",
    "    plt.xlabel('Дата привлечения')\n",
    "    plt.title(\n",
    "        'Динамика удержания платящих пользователей на {}-й день'.format(\n",
    "            horizon\n",
    "        )\n",
    "    )\n",
    "\n",
    "    # в чётвертой ячейке — динамика удержания неплатящих\n",
    "    ax4 = plt.subplot(2, 2, 4, sharey=ax3)\n",
    "    # фильтруем данные и строим график\n",
    "    filtered_data = retention_history.query('payer == False').pivot_table(\n",
    "        index='dt', columns=columns, values=horizon - 1, aggfunc='mean'\n",
    "    )\n",
    "    filter_data(filtered_data, window).plot(grid=True, ax=ax4)\n",
    "    plt.xlabel('Дата привлечения')\n",
    "    plt.title(\n",
    "        'Динамика удержания неплатящих пользователей на {}-й день'.format(\n",
    "            horizon\n",
    "        )\n",
    "    )\n",
    "    \n",
    "    plt.tight_layout()\n",
    "    plt.show()"
   ]
  },
  {
   "cell_type": "markdown",
   "metadata": {},
   "source": [
    "`plot_conversion()` — для построения графика конверсии"
   ]
  },
  {
   "cell_type": "code",
   "execution_count": 39,
   "metadata": {},
   "outputs": [],
   "source": [
    "def plot_conversion(conversion, conversion_history, horizon, window=7):\n",
    "\n",
    "    # задаём размер сетки для графиков\n",
    "    plt.figure(figsize=(15, 5))\n",
    "\n",
    "    # исключаем размеры когорт\n",
    "    conversion = conversion.drop(columns=['cohort_size'])\n",
    "    # в таблице динамики оставляем только нужный лайфтайм\n",
    "    conversion_history = conversion_history.drop(columns=['cohort_size'])[\n",
    "        [horizon - 1]\n",
    "    ]\n",
    "\n",
    "    # первый график — кривые конверсии\n",
    "    ax1 = plt.subplot(1, 2, 1)\n",
    "    conversion.T.plot(grid=True, ax=ax1)\n",
    "    plt.legend()\n",
    "    plt.xlabel('Лайфтайм')\n",
    "    plt.title('Конверсия пользователей')\n",
    "\n",
    "    # второй график — динамика конверсии\n",
    "    ax2 = plt.subplot(1, 2, 2, sharey=ax1)\n",
    "    columns = [\n",
    "        # столбцами сводной таблицы станут все столбцы индекса, кроме даты\n",
    "        name for name in conversion_history.index.names if name not in ['dt']\n",
    "    ]\n",
    "    filtered_data = conversion_history.pivot_table(\n",
    "        index='dt', columns=columns, values=horizon - 1, aggfunc='mean'\n",
    "    )\n",
    "    filter_data(filtered_data, window).plot(grid=True, ax=ax2)\n",
    "    plt.xlabel('Дата привлечения')\n",
    "    plt.title('Динамика конверсии пользователей на {}-й день'.format(horizon))\n",
    "\n",
    "    plt.tight_layout()\n",
    "    plt.show()"
   ]
  },
  {
   "cell_type": "markdown",
   "metadata": {},
   "source": [
    "`plot_ltv_roi` — для визуализации LTV и ROI"
   ]
  },
  {
   "cell_type": "code",
   "execution_count": 40,
   "metadata": {},
   "outputs": [],
   "source": [
    "def plot_ltv_roi(ltv, ltv_history, roi, roi_history, horizon, window=7):\n",
    "\n",
    "    plt.figure(figsize=(20, 10))\n",
    "\n",
    "    ltv = ltv.drop(columns=['cohort_size'])\n",
    "    ltv_history = ltv_history.drop(columns=['cohort_size'])[[horizon - 1]]\n",
    "    cac_history = roi_history[['cac']]\n",
    "    roi = roi.drop(columns=['cohort_size', 'cac'])\n",
    "    roi_history = roi_history.drop(columns=['cohort_size', 'cac'])[\n",
    "        [horizon - 1]\n",
    "    ]\n",
    "\n",
    "    # первый график — кривые ltv\n",
    "    ax1 = plt.subplot(2, 3, 1)\n",
    "    ltv.T.plot(grid=True, ax=ax1)\n",
    "    plt.legend()\n",
    "    plt.xlabel('Лайфтайм')\n",
    "    plt.title('LTV')\n",
    "\n",
    "    # второй график — динамика ltv\n",
    "    ax2 = plt.subplot(2, 3, 2, sharey=ax1)\n",
    "    columns = [name for name in ltv_history.index.names if name not in ['dt']]\n",
    "    filtered_data = ltv_history.pivot_table(\n",
    "        index='dt', columns=columns, values=horizon - 1, aggfunc='mean'\n",
    "    )\n",
    "    filter_data(filtered_data, window).plot(grid=True, ax=ax2)\n",
    "    plt.xlabel('Дата привлечения')\n",
    "    plt.title('Динамика LTV пользователей на {}-й день'.format(horizon))\n",
    "\n",
    "    # третий график — динамика cac\n",
    "    ax3 = plt.subplot(2, 3, 3, sharey=ax1)\n",
    "    columns = [name for name in cac_history.index.names if name not in ['dt']]\n",
    "    filtered_data = cac_history.pivot_table(\n",
    "        index='dt', columns=columns, values='cac', aggfunc='mean'\n",
    "    )\n",
    "    filter_data(filtered_data, window).plot(grid=True, ax=ax3)\n",
    "    plt.xlabel('Дата привлечения')\n",
    "    plt.title('Динамика стоимости привлечения пользователей')\n",
    "\n",
    "    # четвёртый график — кривые roi\n",
    "    ax4 = plt.subplot(2, 3, 4)\n",
    "    roi.T.plot(grid=True, ax=ax4)\n",
    "    plt.axhline(y=1, color='red', linestyle='--', label='Уровень окупаемости')\n",
    "    plt.legend()\n",
    "    plt.xlabel('Лайфтайм')\n",
    "    plt.title('ROI')\n",
    "\n",
    "    # пятый график — динамика roi\n",
    "    ax5 = plt.subplot(2, 3, 5, sharey=ax4)\n",
    "    columns = [name for name in roi_history.index.names if name not in ['dt']]\n",
    "    filtered_data = roi_history.pivot_table(\n",
    "        index='dt', columns=columns, values=horizon - 1, aggfunc='mean'\n",
    "    )\n",
    "    filter_data(filtered_data, window).plot(grid=True, ax=ax5)\n",
    "    plt.axhline(y=1, color='red', linestyle='--', label='Уровень окупаемости')\n",
    "    plt.xlabel('Дата привлечения')\n",
    "    plt.title('Динамика ROI пользователей на {}-й день'.format(horizon))\n",
    "\n",
    "    plt.tight_layout()\n",
    "    plt.show()"
   ]
  },
  {
   "cell_type": "markdown",
   "metadata": {
    "id": "V-KBT-KMWVwl"
   },
   "source": [
    "## Исследовательский анализ данных\n",
    "\n",
    "- Составьте профили пользователей. Определите минимальную и максимальную даты привлечения пользователей.\n",
    "- Выясните, из каких стран пользователи приходят в приложение и на какую страну приходится больше всего платящих пользователей. Постройте таблицу, отражающую количество пользователей и долю платящих из каждой страны.\n",
    "- Узнайте, какими устройствами пользуются клиенты и какие устройства предпочитают платящие пользователи. Постройте таблицу, отражающую количество пользователей и долю платящих для каждого устройства.\n",
    "- Изучите рекламные источники привлечения и определите каналы, из которых пришло больше всего платящих пользователей. Постройте таблицу, отражающую количество пользователей и долю платящих для каждого канала привлечения.\n",
    "\n",
    "После каждого пункта сформулируйте выводы."
   ]
  },
  {
   "cell_type": "markdown",
   "metadata": {},
   "source": [
    "### Профили пользователей"
   ]
  },
  {
   "cell_type": "markdown",
   "metadata": {},
   "source": [
    "Создадим профили пользователей:"
   ]
  },
  {
   "cell_type": "code",
   "execution_count": 41,
   "metadata": {
    "id": "oOLsbJpNWVwm"
   },
   "outputs": [
    {
     "data": {
      "text/html": [
       "<div>\n",
       "<style scoped>\n",
       "    .dataframe tbody tr th:only-of-type {\n",
       "        vertical-align: middle;\n",
       "    }\n",
       "\n",
       "    .dataframe tbody tr th {\n",
       "        vertical-align: top;\n",
       "    }\n",
       "\n",
       "    .dataframe thead th {\n",
       "        text-align: right;\n",
       "    }\n",
       "</style>\n",
       "<table border=\"1\" class=\"dataframe\">\n",
       "  <thead>\n",
       "    <tr style=\"text-align: right;\">\n",
       "      <th></th>\n",
       "      <th>user_id</th>\n",
       "      <th>first_ts</th>\n",
       "      <th>channel</th>\n",
       "      <th>device</th>\n",
       "      <th>region</th>\n",
       "      <th>dt</th>\n",
       "      <th>month</th>\n",
       "      <th>payer</th>\n",
       "      <th>acquisition_cost</th>\n",
       "    </tr>\n",
       "  </thead>\n",
       "  <tbody>\n",
       "    <tr>\n",
       "      <th>0</th>\n",
       "      <td>599326</td>\n",
       "      <td>2019-05-07 20:58:57</td>\n",
       "      <td>FaceBoom</td>\n",
       "      <td>Mac</td>\n",
       "      <td>United States</td>\n",
       "      <td>2019-05-07</td>\n",
       "      <td>2019-05-01</td>\n",
       "      <td>True</td>\n",
       "      <td>1.088172</td>\n",
       "    </tr>\n",
       "    <tr>\n",
       "      <th>1</th>\n",
       "      <td>4919697</td>\n",
       "      <td>2019-07-09 12:46:07</td>\n",
       "      <td>FaceBoom</td>\n",
       "      <td>iPhone</td>\n",
       "      <td>United States</td>\n",
       "      <td>2019-07-09</td>\n",
       "      <td>2019-07-01</td>\n",
       "      <td>False</td>\n",
       "      <td>1.107237</td>\n",
       "    </tr>\n",
       "    <tr>\n",
       "      <th>2</th>\n",
       "      <td>6085896</td>\n",
       "      <td>2019-10-01 09:58:33</td>\n",
       "      <td>organic</td>\n",
       "      <td>iPhone</td>\n",
       "      <td>France</td>\n",
       "      <td>2019-10-01</td>\n",
       "      <td>2019-10-01</td>\n",
       "      <td>False</td>\n",
       "      <td>0.000000</td>\n",
       "    </tr>\n",
       "    <tr>\n",
       "      <th>3</th>\n",
       "      <td>22593348</td>\n",
       "      <td>2019-08-22 21:35:48</td>\n",
       "      <td>AdNonSense</td>\n",
       "      <td>PC</td>\n",
       "      <td>Germany</td>\n",
       "      <td>2019-08-22</td>\n",
       "      <td>2019-08-01</td>\n",
       "      <td>False</td>\n",
       "      <td>0.988235</td>\n",
       "    </tr>\n",
       "    <tr>\n",
       "      <th>4</th>\n",
       "      <td>31989216</td>\n",
       "      <td>2019-10-02 00:07:44</td>\n",
       "      <td>YRabbit</td>\n",
       "      <td>iPhone</td>\n",
       "      <td>United States</td>\n",
       "      <td>2019-10-02</td>\n",
       "      <td>2019-10-01</td>\n",
       "      <td>False</td>\n",
       "      <td>0.230769</td>\n",
       "    </tr>\n",
       "  </tbody>\n",
       "</table>\n",
       "</div>"
      ],
      "text/plain": [
       "    user_id            first_ts     channel  device         region  \\\n",
       "0    599326 2019-05-07 20:58:57    FaceBoom     Mac  United States   \n",
       "1   4919697 2019-07-09 12:46:07    FaceBoom  iPhone  United States   \n",
       "2   6085896 2019-10-01 09:58:33     organic  iPhone         France   \n",
       "3  22593348 2019-08-22 21:35:48  AdNonSense      PC        Germany   \n",
       "4  31989216 2019-10-02 00:07:44     YRabbit  iPhone  United States   \n",
       "\n",
       "           dt      month  payer  acquisition_cost  \n",
       "0  2019-05-07 2019-05-01   True          1.088172  \n",
       "1  2019-07-09 2019-07-01  False          1.107237  \n",
       "2  2019-10-01 2019-10-01  False          0.000000  \n",
       "3  2019-08-22 2019-08-01  False          0.988235  \n",
       "4  2019-10-02 2019-10-01  False          0.230769  "
      ]
     },
     "execution_count": 41,
     "metadata": {},
     "output_type": "execute_result"
    }
   ],
   "source": [
    "profiles = get_profiles(visits, orders, costs)\n",
    "profiles.head()"
   ]
  },
  {
   "cell_type": "code",
   "execution_count": 42,
   "metadata": {},
   "outputs": [
    {
     "name": "stdout",
     "output_type": "stream",
     "text": [
      "Минимальная дата привлечения: 2019-05-01\n",
      "Максимальная дата привлечения: 2019-10-27\n"
     ]
    }
   ],
   "source": [
    "print('Минимальная дата привлечения:', profiles.dt.min())\n",
    "print('Максимальная дата привлечения:', profiles.dt.max())"
   ]
  },
  {
   "cell_type": "markdown",
   "metadata": {},
   "source": [
    "Минимальная и максимальная даты привлечения пользователей соответствуют заявленным"
   ]
  },
  {
   "cell_type": "markdown",
   "metadata": {},
   "source": [
    "### Анализ стран"
   ]
  },
  {
   "cell_type": "markdown",
   "metadata": {},
   "source": [
    "Выясним, из каких стран пользователи приходят в приложение и на какую страну приходится больше всего платящих пользователей. Построим таблицу с разбивкой по странам:"
   ]
  },
  {
   "cell_type": "code",
   "execution_count": 43,
   "metadata": {},
   "outputs": [
    {
     "data": {
      "text/html": [
       "<style  type=\"text/css\" >\n",
       "#T_eb052_row0_col1,#T_eb052_row0_col2,#T_eb052_row0_col3{\n",
       "            background-color:  lightgreen;\n",
       "        }#T_eb052_row1_col1,#T_eb052_row1_col3,#T_eb052_row3_col2{\n",
       "            background-color:  #cd4f39;\n",
       "        }</style><table id=\"T_eb052_\" ><thead>    <tr>        <th class=\"col_heading level0 col0\" >Регион</th>        <th class=\"col_heading level0 col1\" >Всего пользователей</th>        <th class=\"col_heading level0 col2\" >Доля платящих пользователей</th>        <th class=\"col_heading level0 col3\" >Количество платящих пользователей</th>    </tr></thead><tbody>\n",
       "                <tr>\n",
       "                                <td id=\"T_eb052_row0_col0\" class=\"data row0 col0\" >United States</td>\n",
       "                        <td id=\"T_eb052_row0_col1\" class=\"data row0 col1\" >100002</td>\n",
       "                        <td id=\"T_eb052_row0_col2\" class=\"data row0 col2\" >6.90%</td>\n",
       "                        <td id=\"T_eb052_row0_col3\" class=\"data row0 col3\" >6902</td>\n",
       "            </tr>\n",
       "            <tr>\n",
       "                                <td id=\"T_eb052_row1_col0\" class=\"data row1 col0\" >Germany</td>\n",
       "                        <td id=\"T_eb052_row1_col1\" class=\"data row1 col1\" >14981</td>\n",
       "                        <td id=\"T_eb052_row1_col2\" class=\"data row1 col2\" >4.11%</td>\n",
       "                        <td id=\"T_eb052_row1_col3\" class=\"data row1 col3\" >616</td>\n",
       "            </tr>\n",
       "            <tr>\n",
       "                                <td id=\"T_eb052_row2_col0\" class=\"data row2 col0\" >UK</td>\n",
       "                        <td id=\"T_eb052_row2_col1\" class=\"data row2 col1\" >17575</td>\n",
       "                        <td id=\"T_eb052_row2_col2\" class=\"data row2 col2\" >3.98%</td>\n",
       "                        <td id=\"T_eb052_row2_col3\" class=\"data row2 col3\" >700</td>\n",
       "            </tr>\n",
       "            <tr>\n",
       "                                <td id=\"T_eb052_row3_col0\" class=\"data row3 col0\" >France</td>\n",
       "                        <td id=\"T_eb052_row3_col1\" class=\"data row3 col1\" >17450</td>\n",
       "                        <td id=\"T_eb052_row3_col2\" class=\"data row3 col2\" >3.80%</td>\n",
       "                        <td id=\"T_eb052_row3_col3\" class=\"data row3 col3\" >663</td>\n",
       "            </tr>\n",
       "    </tbody></table>"
      ],
      "text/plain": [
       "<pandas.io.formats.style.Styler at 0x204431e6fd0>"
      ]
     },
     "execution_count": 43,
     "metadata": {},
     "output_type": "execute_result"
    }
   ],
   "source": [
    "region_total = profiles.pivot_table(index='region', values='payer', aggfunc=['count', 'mean', 'sum']).reset_index()\n",
    "region_total.columns = ['Регион', 'Всего пользователей', 'Доля платящих пользователей',\n",
    "                        'Количество платящих пользователей']\n",
    "region_total = region_total.sort_values('Доля платящих пользователей', ascending=False)\n",
    "\n",
    "(region_total\n",
    " .style\n",
    " .format({'Доля платящих пользователей': '{:.2%}'})\n",
    " .hide_index()\n",
    " .highlight_max(color='lightgreen')\n",
    " .highlight_min(color='#cd4f39'))"
   ]
  },
  {
   "cell_type": "markdown",
   "metadata": {},
   "source": [
    "Больше всего платящих пользователей приходится на **США**. Также на **США** приходится больше всего пользователей. Меньше всего пользователей приходится на **Германию**, но она занимает второе место по доля платящих пользователей."
   ]
  },
  {
   "cell_type": "markdown",
   "metadata": {},
   "source": [
    "### Анализ устройств"
   ]
  },
  {
   "cell_type": "markdown",
   "metadata": {},
   "source": [
    "Узнаем, какими устройствами пользуются клиенты и какие устройства предпочитают платящие пользователи. Постройте сводную таблицу:"
   ]
  },
  {
   "cell_type": "code",
   "execution_count": 44,
   "metadata": {},
   "outputs": [
    {
     "data": {
      "text/html": [
       "<style  type=\"text/css\" >\n",
       "#T_1a5ec_row0_col1,#T_1a5ec_row3_col2,#T_1a5ec_row3_col3{\n",
       "            background-color:  #cd4f39;\n",
       "        }#T_1a5ec_row0_col2,#T_1a5ec_row1_col1,#T_1a5ec_row1_col3{\n",
       "            background-color:  lightgreen;\n",
       "        }</style><table id=\"T_1a5ec_\" ><thead>    <tr>        <th class=\"col_heading level0 col0\" >Устройство</th>        <th class=\"col_heading level0 col1\" >Всего пользователей</th>        <th class=\"col_heading level0 col2\" >Доля платящих пользователей</th>        <th class=\"col_heading level0 col3\" >Количество платящих пользователей</th>    </tr></thead><tbody>\n",
       "                <tr>\n",
       "                                <td id=\"T_1a5ec_row0_col0\" class=\"data row0 col0\" >Mac</td>\n",
       "                        <td id=\"T_1a5ec_row0_col1\" class=\"data row0 col1\" >30042</td>\n",
       "                        <td id=\"T_1a5ec_row0_col2\" class=\"data row0 col2\" >6.36%</td>\n",
       "                        <td id=\"T_1a5ec_row0_col3\" class=\"data row0 col3\" >1912</td>\n",
       "            </tr>\n",
       "            <tr>\n",
       "                                <td id=\"T_1a5ec_row1_col0\" class=\"data row1 col0\" >iPhone</td>\n",
       "                        <td id=\"T_1a5ec_row1_col1\" class=\"data row1 col1\" >54479</td>\n",
       "                        <td id=\"T_1a5ec_row1_col2\" class=\"data row1 col2\" >6.21%</td>\n",
       "                        <td id=\"T_1a5ec_row1_col3\" class=\"data row1 col3\" >3382</td>\n",
       "            </tr>\n",
       "            <tr>\n",
       "                                <td id=\"T_1a5ec_row2_col0\" class=\"data row2 col0\" >Android</td>\n",
       "                        <td id=\"T_1a5ec_row2_col1\" class=\"data row2 col1\" >35032</td>\n",
       "                        <td id=\"T_1a5ec_row2_col2\" class=\"data row2 col2\" >5.85%</td>\n",
       "                        <td id=\"T_1a5ec_row2_col3\" class=\"data row2 col3\" >2050</td>\n",
       "            </tr>\n",
       "            <tr>\n",
       "                                <td id=\"T_1a5ec_row3_col0\" class=\"data row3 col0\" >PC</td>\n",
       "                        <td id=\"T_1a5ec_row3_col1\" class=\"data row3 col1\" >30455</td>\n",
       "                        <td id=\"T_1a5ec_row3_col2\" class=\"data row3 col2\" >5.05%</td>\n",
       "                        <td id=\"T_1a5ec_row3_col3\" class=\"data row3 col3\" >1537</td>\n",
       "            </tr>\n",
       "    </tbody></table>"
      ],
      "text/plain": [
       "<pandas.io.formats.style.Styler at 0x20444163970>"
      ]
     },
     "execution_count": 44,
     "metadata": {},
     "output_type": "execute_result"
    }
   ],
   "source": [
    "device_total = profiles.pivot_table(index='device', values='payer', aggfunc=['count', 'mean', 'sum']).reset_index()\n",
    "device_total.columns = ['Устройство', 'Всего пользователей', 'Доля платящих пользователей',\n",
    "                        'Количество платящих пользователей']\n",
    "device_total = device_total.sort_values('Доля платящих пользователей', ascending=False)\n",
    "\n",
    "(device_total\n",
    " .style\n",
    " .format({'Доля платящих пользователей': '{:.2%}'})\n",
    " .hide_index()\n",
    " .highlight_max(color='lightgreen')\n",
    " .highlight_min(color='#cd4f39'))"
   ]
  },
  {
   "cell_type": "markdown",
   "metadata": {},
   "source": [
    "Больше всего пользователей пользуются платформой **iPhone**. Однако, доля платящих пользователей на платформе **Mac** находится на первом месте."
   ]
  },
  {
   "cell_type": "markdown",
   "metadata": {},
   "source": [
    "### Анализ рекламных источников"
   ]
  },
  {
   "cell_type": "markdown",
   "metadata": {},
   "source": [
    "Изучим рекламные источники привлечения и определите каналы, из которых пришло больше всего платящих пользователей. "
   ]
  },
  {
   "cell_type": "code",
   "execution_count": 45,
   "metadata": {},
   "outputs": [
    {
     "ename": "NameError",
     "evalue": "name 'highlight_max' is not defined",
     "output_type": "error",
     "traceback": [
      "\u001b[1;31m---------------------------------------------------------------------------\u001b[0m",
      "\u001b[1;31mNameError\u001b[0m                                 Traceback (most recent call last)",
      "Input \u001b[1;32mIn [45]\u001b[0m, in \u001b[0;36m<cell line: 5>\u001b[1;34m()\u001b[0m\n\u001b[0;32m      2\u001b[0m channel_total\u001b[38;5;241m.\u001b[39mcolumns \u001b[38;5;241m=\u001b[39m [\u001b[38;5;124m'\u001b[39m\u001b[38;5;124mКанал привлечения\u001b[39m\u001b[38;5;124m'\u001b[39m, \u001b[38;5;124m'\u001b[39m\u001b[38;5;124mВсего пользователей\u001b[39m\u001b[38;5;124m'\u001b[39m, \u001b[38;5;124m'\u001b[39m\u001b[38;5;124mДоля платящих пользователей\u001b[39m\u001b[38;5;124m'\u001b[39m,\n\u001b[0;32m      3\u001b[0m                          \u001b[38;5;124m'\u001b[39m\u001b[38;5;124mКоличество платящих пользователей\u001b[39m\u001b[38;5;124m'\u001b[39m]\n\u001b[0;32m      4\u001b[0m channel_total \u001b[38;5;241m=\u001b[39m channel_total\u001b[38;5;241m.\u001b[39msort_values(\u001b[38;5;124m'\u001b[39m\u001b[38;5;124mДоля платящих пользователей\u001b[39m\u001b[38;5;124m'\u001b[39m, ascending\u001b[38;5;241m=\u001b[39m\u001b[38;5;28;01mFalse\u001b[39;00m)\n\u001b[1;32m----> 5\u001b[0m channel_total\u001b[38;5;241m.\u001b[39mstyle\u001b[38;5;241m.\u001b[39mapply(\u001b[43mhighlight_max\u001b[49m)\n\u001b[0;32m      7\u001b[0m (channel_total\n\u001b[0;32m      8\u001b[0m  \u001b[38;5;241m.\u001b[39mstyle\n\u001b[0;32m      9\u001b[0m  \u001b[38;5;241m.\u001b[39mformat({\u001b[38;5;124m'\u001b[39m\u001b[38;5;124mДоля платящих пользователей\u001b[39m\u001b[38;5;124m'\u001b[39m: \u001b[38;5;124m'\u001b[39m\u001b[38;5;132;01m{:.2%}\u001b[39;00m\u001b[38;5;124m'\u001b[39m})\n\u001b[0;32m     10\u001b[0m  \u001b[38;5;241m.\u001b[39mhide_index()\n\u001b[0;32m     11\u001b[0m  \u001b[38;5;241m.\u001b[39mhighlight_max(color\u001b[38;5;241m=\u001b[39m\u001b[38;5;124m'\u001b[39m\u001b[38;5;124mlightgreen\u001b[39m\u001b[38;5;124m'\u001b[39m)\n\u001b[0;32m     12\u001b[0m  \u001b[38;5;241m.\u001b[39mhighlight_min(color\u001b[38;5;241m=\u001b[39m\u001b[38;5;124m'\u001b[39m\u001b[38;5;124m#cd4f39\u001b[39m\u001b[38;5;124m'\u001b[39m))\n",
      "\u001b[1;31mNameError\u001b[0m: name 'highlight_max' is not defined"
     ]
    }
   ],
   "source": [
    "channel_total = profiles.pivot_table(index='channel', values='payer', aggfunc=['count', 'mean', 'sum']).reset_index()\n",
    "channel_total.columns = ['Канал привлечения', 'Всего пользователей', 'Доля платящих пользователей',\n",
    "                         'Количество платящих пользователей']\n",
    "channel_total = channel_total.sort_values('Доля платящих пользователей', ascending=False)\n",
    "channel_total.style.apply(highlight_max)\n",
    "\n",
    "(channel_total\n",
    " .style\n",
    " .format({'Доля платящих пользователей': '{:.2%}'})\n",
    " .hide_index()\n",
    " .highlight_max(color='lightgreen')\n",
    " .highlight_min(color='#cd4f39'))"
   ]
  },
  {
   "cell_type": "markdown",
   "metadata": {},
   "source": [
    "Больше всего пользователей привлекаются по каналу **organic**. Однако доля платящих пользователей там минимальна. Доля платящих пользователей с канала **FaceBoom** находится на первом месте. "
   ]
  },
  {
   "cell_type": "markdown",
   "metadata": {},
   "source": [
    "### Вывод"
   ]
  },
  {
   "cell_type": "markdown",
   "metadata": {},
   "source": [
    "Минимальная и максимальная даты привлечения пользователей соответствуют заявленным (1.05.2019 и 27.10.2019 соответственно).\n",
    "\n",
    "Анализ стран:\n",
    " - больше всего пользователей приходят из **США**\n",
    " - в **США** доля платищих от всех пользователей максимальна\n",
    " - количество платящих пользователей в **США** также максимально\n",
    " \n",
    "Анализ устройств:\n",
    " - больше всего пользователей пользуются платформой **iPhone**\n",
    " - на платформе **Mac** доля платищих от всех пользователей максимальна\n",
    " - количество платящих пользователей на платформе **iPhone** максимально\n",
    " \n",
    "Анализ рекламных источников:\n",
    " - больше всего пользователей приходят по каналу **Organic**\n",
    " - на рекламном источнике **FaceBoom** доля платищих от всех пользователей максимальна\n",
    " - количество платящих пользователей на рекламном канале **FaceBoom** максимально"
   ]
  },
  {
   "cell_type": "markdown",
   "metadata": {},
   "source": [
    "Получается, что больше всего пользователей приходит из **США**, и они лучше других конвертируется. При этом большая часть пользователей заходит с мобильных устройств. Также, мы можем сказать, что наибольшую конверсию имеют пользователи, которые пользуются Mac, а затем следуют пользователи iPhone, т.е. мы можем сказать, что в целом пользователи Apple имеют лучшую конверсию в покупателей. Возможно, тут есть плюсы ApplePay."
   ]
  },
  {
   "cell_type": "markdown",
   "metadata": {
    "id": "80LRB5-eWVwm"
   },
   "source": [
    "## Маркетинг\n",
    "\n",
    "Необходимо: \n",
    "- Посчитать общую сумму расходов на маркетинг\n",
    "- Выяснить, как траты распределены по рекламным источникам\n",
    "- Построить визуализацию динамики изменения расходов во времени (по неделям и месяцам) по каждому источнику.\n",
    "- Узнать, сколько в среднем стоило привлечение одного пользователя из каждого источника."
   ]
  },
  {
   "cell_type": "markdown",
   "metadata": {},
   "source": [
    "### Общая сумма расходов на маркетинг"
   ]
  },
  {
   "cell_type": "markdown",
   "metadata": {
    "id": "DQE9emXqWVwm"
   },
   "source": [
    "Посчитаем общую сумму расходов на маркетинг:"
   ]
  },
  {
   "cell_type": "code",
   "execution_count": null,
   "metadata": {},
   "outputs": [],
   "source": [
    "print('Общая сумма расходов на маркетинг:', round(costs.costs.sum(), 4))"
   ]
  },
  {
   "cell_type": "markdown",
   "metadata": {},
   "source": [
    "### Распределение трат по рекламным источникам"
   ]
  },
  {
   "cell_type": "markdown",
   "metadata": {},
   "source": [
    "Выясним, как траты распределены по рекламным источникам, то есть сколько денег потратили на каждый источник:"
   ]
  },
  {
   "cell_type": "code",
   "execution_count": null,
   "metadata": {
    "scrolled": true
   },
   "outputs": [],
   "source": [
    "costs.groupby('channel').agg({'costs': 'sum'}).sort_values('costs', ascending=False)"
   ]
  },
  {
   "cell_type": "markdown",
   "metadata": {},
   "source": [
    "Больше всего средств было потрачено на канал **TipTop**"
   ]
  },
  {
   "cell_type": "markdown",
   "metadata": {},
   "source": [
    "### Динамика изменения расходов во времени (по неделям и месяцам)"
   ]
  },
  {
   "cell_type": "markdown",
   "metadata": {},
   "source": [
    "Построим визуализацию динамики изменения расходов во времени (по неделям и месяцам) по каждому источнику:"
   ]
  },
  {
   "cell_type": "code",
   "execution_count": null,
   "metadata": {},
   "outputs": [],
   "source": [
    "costs['month'] = pd.to_datetime(costs['dt']).dt.month\n",
    "costs['week'] = pd.to_datetime(costs['dt']).dt.isocalendar().week"
   ]
  },
  {
   "cell_type": "code",
   "execution_count": null,
   "metadata": {
    "scrolled": false
   },
   "outputs": [],
   "source": [
    "costs_week = costs.pivot_table(index='channel', columns='week', values='costs', aggfunc='sum')\n",
    "costs_month = costs.pivot_table(index='channel', columns='month', values='costs', aggfunc='sum')\n",
    "#строим график по неделям\n",
    "fig = px.line(costs_week.T, markers=True, labels={'channel': 'Канал привлечения', 'week': 'Неделя', 'value': 'Расходы'},\n",
    "              title=\"Динамика изменения расходов по неделям\")\n",
    "fig.show()\n",
    "#строим график по месяцам\n",
    "fig = px.line(costs_month.T, markers=True, labels={'channel': 'Канал привлечения', 'month': 'Месяц', 'value': 'Расходы'},\n",
    "              title=\"Динамика изменения расходов по месяцам\")\n",
    "fig.show()"
   ]
  },
  {
   "cell_type": "markdown",
   "metadata": {},
   "source": [
    "Сильнее всего выросли затраты на рекламные **TipTop** и **FaceBoom**"
   ]
  },
  {
   "cell_type": "markdown",
   "metadata": {},
   "source": [
    "### Средняя стоимость привлечения одного пользователя из каждого источника"
   ]
  },
  {
   "cell_type": "markdown",
   "metadata": {},
   "source": [
    "Узнаем, сколько в среднем стоило привлечение одного пользователя (CAC) из каждого источника:"
   ]
  },
  {
   "cell_type": "code",
   "execution_count": null,
   "metadata": {},
   "outputs": [],
   "source": [
    "profiles.pivot_table(index='channel',\n",
    "                     values='acquisition_cost',\n",
    "                     aggfunc='mean').reset_index().sort_values('acquisition_cost', ascending=False)"
   ]
  },
  {
   "cell_type": "markdown",
   "metadata": {},
   "source": [
    "### Вывод"
   ]
  },
  {
   "cell_type": "markdown",
   "metadata": {},
   "source": [
    "- Общая сумма расходов на маркетинг за указанный период составила ~105497.3 у.е.\n",
    "- Больше всего средств было потрачено на канал TipTop (~54751.30 у.е.)\n",
    "- Расходы на рекламные каналы **TipTop** и **FaceBoom** сильно выросли (примерно в 4 и 2 раза соответственно)\n",
    "- В среднем самая высокая стоимость привлечения оказалась у рекламного канала **TipTop** (2.799003 у.е., что примерно в 2.5 раза выше, чем у **FaceBoom**, который находится на втором месте по средней стоимости привлечения одного пользователя)"
   ]
  },
  {
   "cell_type": "markdown",
   "metadata": {
    "id": "poDjrQVHWVwn"
   },
   "source": [
    "## Окупаемость рекламы\n",
    "\n",
    "Необходимо проанализировать:\n",
    "- Окупаемость рекламы c помощью графиков LTV и ROI, а также графики динамики LTV, CAC и ROI\n",
    "- Конверсию пользователей и динамику её изменения. То же самое сделать для удержания пользователей\n",
    "- Окупаемость рекламы с разбивкой по устройствам\n",
    "- Окупаемость рекламы с разбивкой по странам\n",
    "- Окупаемость рекламы с разбивкой по рекламным каналам"
   ]
  },
  {
   "cell_type": "markdown",
   "metadata": {},
   "source": [
    "Из дальнейшего анализа следует убрать пользователей, привлеченных через канал **Organic**, так как на их привлечение компания не тратит денег. А нам нужно посмотреть на окупаемость рекламы"
   ]
  },
  {
   "cell_type": "code",
   "execution_count": null,
   "metadata": {
    "id": "hbNu9EXeWVwo"
   },
   "outputs": [],
   "source": [
    "profiles = profiles.query('channel != \"organic\"')"
   ]
  },
  {
   "cell_type": "code",
   "execution_count": null,
   "metadata": {},
   "outputs": [],
   "source": [
    "analysis_horizon = 14\n",
    "observation_date = profiles['dt'].max()"
   ]
  },
  {
   "cell_type": "markdown",
   "metadata": {},
   "source": [
    "### Окупаемость рекламы (графики LTV и ROI)"
   ]
  },
  {
   "cell_type": "markdown",
   "metadata": {},
   "source": [
    "Посмотрим на окупаемость рекламы. Рассчитаем и визуализируем **LTV** и **ROI**:"
   ]
  },
  {
   "cell_type": "code",
   "execution_count": null,
   "metadata": {},
   "outputs": [],
   "source": [
    "ltv_raw, ltv, ltv_history, roi, roi_history = get_ltv(profiles, orders,\n",
    "                                                      observation_date, analysis_horizon)\n",
    "plot_ltv_roi(ltv, ltv_history, roi, roi_history, analysis_horizon)"
   ]
  },
  {
   "cell_type": "markdown",
   "metadata": {},
   "source": [
    "По графикам можно сделать такие выводы:\n",
    "- Реклама не окупается. ROI в конце 2-х недель — чуть выше 80%\n",
    "- CAC растет\n",
    "- LTV достаточно стабилен\n",
    "- **при росте CAC наблюдается падение ROI**"
   ]
  },
  {
   "cell_type": "markdown",
   "metadata": {},
   "source": [
    "### Конверсия и удержание пользователей"
   ]
  },
  {
   "cell_type": "markdown",
   "metadata": {},
   "source": [
    "Построим и изучим графики конверсии пользователей и динамики её изменения:"
   ]
  },
  {
   "cell_type": "code",
   "execution_count": null,
   "metadata": {},
   "outputs": [],
   "source": [
    "conversion_raw, conversion_grouped, conversion_history = get_conversion(\n",
    "    profiles, orders, observation_date, analysis_horizon)\n",
    "\n",
    "plot_conversion(conversion_grouped, conversion_history, analysis_horizon) "
   ]
  },
  {
   "cell_type": "markdown",
   "metadata": {},
   "source": [
    "В целом пользователи конвертируются хорошо, хоть и волнообразно."
   ]
  },
  {
   "cell_type": "markdown",
   "metadata": {},
   "source": [
    "Построим и изучим графики удержания пользователей и динамики изменения удержания:"
   ]
  },
  {
   "cell_type": "code",
   "execution_count": null,
   "metadata": {},
   "outputs": [],
   "source": [
    "retention_raw, retention_grouped, retention_history = get_retention(\n",
    "    profiles, visits, observation_date, analysis_horizon)\n",
    "\n",
    "plot_retention(retention_grouped, retention_history, analysis_horizon) "
   ]
  },
  {
   "cell_type": "markdown",
   "metadata": {},
   "source": [
    "С удержанием пользователей в целом нет сильных проблем"
   ]
  },
  {
   "cell_type": "markdown",
   "metadata": {},
   "source": [
    "### Окупаемость рекламы с разбивкой по устройствам"
   ]
  },
  {
   "cell_type": "code",
   "execution_count": null,
   "metadata": {},
   "outputs": [],
   "source": [
    "dimensions = ['device']\n",
    "\n",
    "ltv_raw, ltv_grouped, ltv_history, roi_grouped, roi_history = get_ltv(\n",
    "    profiles, orders, observation_date, analysis_horizon, dimensions=dimensions\n",
    ")\n",
    "\n",
    "plot_ltv_roi(\n",
    "    ltv_grouped, ltv_history, roi_grouped, roi_history, analysis_horizon, window=14\n",
    ") "
   ]
  },
  {
   "cell_type": "markdown",
   "metadata": {},
   "source": [
    "По графикам можно сделать вывод, что окупаются только пользователи **PC**. При этом стоимость привлечения пользователей **Mac** и **iPhone** увеличивается сильнее остальных устройств, однако по окупаемости они очень проигрывают."
   ]
  },
  {
   "cell_type": "markdown",
   "metadata": {},
   "source": [
    "Посчитаем и визуализируем конверсию:"
   ]
  },
  {
   "cell_type": "code",
   "execution_count": null,
   "metadata": {},
   "outputs": [],
   "source": [
    "conversion_raw, conversion_grouped, conversion_history = get_conversion(\n",
    "    profiles, orders, observation_date, analysis_horizon, dimensions=dimensions\n",
    ")\n",
    "\n",
    "plot_conversion(conversion_grouped, conversion_history, analysis_horizon, window=14) "
   ]
  },
  {
   "cell_type": "markdown",
   "metadata": {},
   "source": [
    "Конверсия пользователей **PC** самая низкая. Стабильнее всего конвертируются пользователи **iPhone** и **Mac**."
   ]
  },
  {
   "cell_type": "markdown",
   "metadata": {},
   "source": [
    "Посчитаем и визуализируем удержание:"
   ]
  },
  {
   "cell_type": "code",
   "execution_count": null,
   "metadata": {},
   "outputs": [],
   "source": [
    "retention_raw, retention_grouped, retention_history = get_retention(\n",
    "    profiles, visits, observation_date, analysis_horizon, dimensions=dimensions\n",
    ")\n",
    "\n",
    "plot_retention(retention_grouped, retention_history, analysis_horizon, window=14)"
   ]
  },
  {
   "cell_type": "markdown",
   "metadata": {},
   "source": [
    "На 14-ый день «жизни» в лидеры по удержанию выходят пользователи **PC**. Согласно графику удержания неплатящих пользователей, удержание неплатящих примерно одинаково для всех платформ."
   ]
  },
  {
   "cell_type": "markdown",
   "metadata": {},
   "source": [
    "### Окупаемость рекламы с разбивкой по странам"
   ]
  },
  {
   "cell_type": "code",
   "execution_count": null,
   "metadata": {},
   "outputs": [],
   "source": [
    "dimensions = ['region']\n",
    "\n",
    "ltv_raw, ltv_grouped, ltv_history, roi_grouped, roi_history = get_ltv(\n",
    "    profiles, orders, observation_date, analysis_horizon, dimensions=dimensions\n",
    ")\n",
    "\n",
    "plot_ltv_roi(\n",
    "    ltv_grouped, ltv_history, roi_grouped, roi_history, analysis_horizon, window=14\n",
    ") "
   ]
  },
  {
   "cell_type": "markdown",
   "metadata": {},
   "source": [
    "- Реклама не окупается в **США**\n",
    "- Стоимость привлечения стабильна и одинакова для всех стран, кроме **США**. Там затраты растут постоянно\n",
    "- LTV всё так же подвержен сезонности, но стабилен\n",
    "- Все страны кроме **США** стабильно окупаются"
   ]
  },
  {
   "cell_type": "code",
   "execution_count": null,
   "metadata": {},
   "outputs": [],
   "source": [
    "conversion_raw, conversion_grouped, conversion_history = get_conversion(\n",
    "    profiles, orders, observation_date, analysis_horizon, dimensions=dimensions\n",
    ")\n",
    "\n",
    "plot_conversion(conversion_grouped, conversion_history, analysis_horizon, window=14) "
   ]
  },
  {
   "cell_type": "markdown",
   "metadata": {},
   "source": [
    "Пользователи из **США** конвертируются лучше всех"
   ]
  },
  {
   "cell_type": "code",
   "execution_count": null,
   "metadata": {},
   "outputs": [],
   "source": [
    "retention_raw, retention_grouped, retention_history = get_retention(\n",
    "    profiles, visits, observation_date, analysis_horizon, dimensions=dimensions\n",
    ")\n",
    "\n",
    "plot_retention(retention_grouped, retention_history, analysis_horizon, window=14)"
   ]
  },
  {
   "cell_type": "markdown",
   "metadata": {},
   "source": [
    "Пользователи из **США** стабильно удерживаются хуже всех. Согласно графику удержания неплатящих пользователей, удержание неплатящих примерно одинаково для всех стран."
   ]
  },
  {
   "cell_type": "markdown",
   "metadata": {},
   "source": [
    "### Окупаемость рекламы с разбивкой по рекламным каналам"
   ]
  },
  {
   "cell_type": "code",
   "execution_count": null,
   "metadata": {},
   "outputs": [],
   "source": [
    "dimensions = ['channel']\n",
    "\n",
    "ltv_raw, ltv_grouped, ltv_history, roi_grouped, roi_history = get_ltv(\n",
    "    profiles, orders, observation_date, analysis_horizon, dimensions=dimensions\n",
    ")\n",
    "\n",
    "plot_ltv_roi(\n",
    "    ltv_grouped, ltv_history, roi_grouped, roi_history, analysis_horizon, window=14\n",
    ") "
   ]
  },
  {
   "cell_type": "markdown",
   "metadata": {},
   "source": [
    "- Реклама не окупается в **TipTop**, **AdNonSense** и **FaceBoom**\n",
    "- Стоимость привлечения стабильна и одинакова для всех источников привлечения, кроме **TipTop**. Там затраты растут постоянно\n",
    "- Стоимость привлечения из источника **RocketSuperAds** со временем снизилась"
   ]
  },
  {
   "cell_type": "code",
   "execution_count": null,
   "metadata": {},
   "outputs": [],
   "source": [
    "conversion_raw, conversion_grouped, conversion_history = get_conversion(\n",
    "    profiles, orders, observation_date, analysis_horizon, dimensions=dimensions\n",
    ")\n",
    "\n",
    "plot_conversion(conversion_grouped, conversion_history, analysis_horizon, window=14) "
   ]
  },
  {
   "cell_type": "code",
   "execution_count": null,
   "metadata": {},
   "outputs": [],
   "source": [
    "retention_raw, retention_grouped, retention_history = get_retention(\n",
    "    profiles, visits, observation_date, analysis_horizon, dimensions=dimensions\n",
    ")\n",
    "\n",
    "plot_retention(retention_grouped, retention_history, analysis_horizon, window=14)"
   ]
  },
  {
   "cell_type": "markdown",
   "metadata": {},
   "source": [
    "Очевидно, что **TipTo** не окупается потому, что сильный рост стоимости привлечения происходил как раз для него. Стоимость привлечения выросла с 1 доллара в мае до 3.5 в октябре\n",
    "\n",
    "Анализ удержания и конверсии по каналаз рекламы показал, что удержание платящих пользователей **FaceBoom** в **3 раза ниже**, чем в остальных каналах, и приближается к удержанию неплатящих пользователей. Лучше больше не закупать у них трафик. Такое же плохое удержание и у **AdNonSence**"
   ]
  },
  {
   "cell_type": "markdown",
   "metadata": {},
   "source": [
    "### Вывод"
   ]
  },
  {
   "cell_type": "markdown",
   "metadata": {},
   "source": [
    "Исходя из анализа окупаемости рекламы можно сделать следующие выводы:\n",
    "- Реклама в целом не окупается\n",
    "- При этом в общем и с конверсией, и с ударжанием все хорошо\n",
    "- Какие устройства, страны и рекламные каналы могут оказывать негативное влияние на окупаемость рекламы?\n",
    "\n",
    "\n",
    "- Если говорить об устройствах:\n",
    " - Сильное негативное влияние на окупаемость оказывают **Mac** и **iPhone**. При этом траты на привлечение пользователей с **Mac** и **iPhone** **растут сильнее**, чем на других устройствах.\n",
    " - Самая низкая конверсия у пользователей **PC**\n",
    " - Лучше всего удерживаются пользователи **PC**, однако явных отстающих в удержании нет\n",
    " \n",
    " \n",
    "- Если говорить о странах, то негативное влияние на окупаемость оказывает:\n",
    " - Сильное негативное влияние на окупаемость оказывают пользователи из **США**. При этом траты на привлечение пользователей из **США** постоянно **растут**\n",
    " - Конверсия пользователей из **США** самая высокая\n",
    " - Хуже всего удерживаются пользователи из **США** \n",
    "\n",
    "\n",
    "- Если говорить о рекламных каналах, то негативное влияние на окупаемость оказывает:\n",
    " - Сильное негативное влияние на окупаемость оказывают пользователи, привлеченные с помощью **TipTop**, **AdNonSense** и **FaceBoom**. При этом траты в **TipTop** растут постоянно, в отличие от других рекламных источников.\n",
    " - Самая высокая конверсия у **FaceBoom** и **AdNonSense**\n",
    " - Есть проблемы с удержанием пользователей, пришедших с помощью **FaceBoom** и **AdNonSense**\n",
    " \n",
    " \n",
    " \n",
    "Проблемы окупаемости могут быть вызваны:\n",
    "- Возможными техническими ошибками на устройствах **Mac** и **iPhone** (также стоит рассмотреть **Android**. Он тоже в минусе, однако выглядит лучше на фоне **Mac** и **iPhone**)\n",
    "- Также возможно технические неполадки конкретно для пользователей из **США**. Либо же сам продукт не интересен пользователям из **США** в долгой перспективе (один раз попробовали и хватит)\n",
    "- **FaceBoom** и **AdNonSense** привлекают пользователей, которые совершают покупку на сайте, однако надолго они не остаются. Возможно стоит подробнее изучить аудиторию, которая привлекается по этим каналам."
   ]
  },
  {
   "cell_type": "markdown",
   "metadata": {
    "id": "Jn9XBfZCWVwo"
   },
   "source": [
    "## Выводы"
   ]
  },
  {
   "cell_type": "markdown",
   "metadata": {},
   "source": [
    "В ходе работы была проделана большая работа по исследованию данных. Было выяснено:\n",
    "- По странам:\n",
    " - больше всего пользователей приходят из **США**\n",
    " - в **США** доля платищих от всех пользователей максимальна\n",
    " - количество платящих пользователей в **США** также максимально\n",
    " \n",
    " \n",
    "- По устройствам:\n",
    " - больше всего пользователей пользуются платформой **iPhone**\n",
    " - на платформе **Mac** доля платищих от всех пользователей максимальна\n",
    " - количество платящих пользователей на платформе **iPhone** максимально\n",
    " \n",
    " \n",
    "- По рекламным источникам:\n",
    " - больше всего пользователей приходят по каналу **Organic**\n",
    " - на рекламном источнике **FaceBoom** доля платищих от всех пользователей максимальна\n",
    " - количество платящих пользователей на рекламном канале **FaceBoom** максимально\n",
    " \n",
    " \n",
    "- По затратам на маркетинг:\n",
    " - общая сумма расходов на маркетинг за указанный период составила ~105497.3 у.е.\n",
    " - больше всего средств было потрачено на канал TipTop (~54751.30 у.е.)\n",
    " - расходы на рекламные каналы **TipTop** и **FaceBoom** сильно выросли (примерно в 4 и 2 раза соответственно)\n",
    " - в среднем самая высокая стоимость привлечения оказалась у рекламного канала **TipTop** (2.799003 у.е., что примерно в 2.5 раза выше, чем у **FaceBoom**, который находится на втором месте по средней стоимости привлечения одного пользователя)\n",
    " \n",
    " \n",
    "Проблемы окупаемости могут быть вызваны:\n",
    " - возможными техническими ошибками на устройствах **Android**, **Mac** и **iPhone**\n",
    " - также возможно технические неполадки конкретно для пользователей из **США**. Либо же сам продукт не интересен пользователям из **США** в долгой перспективе (один раз попробовали и хватит)\n",
    " - **FaceBoom** и **AdNonSense** привлекают пользователей, которые совершают покупку на сайте, однако надолго они не остаются. Возможно стоит подробнее изучить аудиторию, которая привлекается по этим каналам.\n",
    "\n",
    "\n",
    "Стоит:\n",
    "- Посмотреть данные о событиях для устройств **Android**, **Mac** и **iPhone**. Если пользователи сталкиваются с ошибками, они уходят от сервиса\n",
    "- Подробнее изучить пользователей из **США**. Возможно продукт им просто не интересен. Можно обратить внимание на европейские страны и развивать продукт там\n",
    "- Отказаться от **FaceBoom**, **AdNonSense** и **TipTop**. Лучше обратить внимание на **lambdaMediaAds**, **RocketSuperAds** и **YRabbit**"
   ]
  }
 ],
 "metadata": {
  "colab": {
   "provenance": []
  },
  "kernelspec": {
   "display_name": "Python 3 (ipykernel)",
   "language": "python",
   "name": "python3"
  },
  "language_info": {
   "codemirror_mode": {
    "name": "ipython",
    "version": 3
   },
   "file_extension": ".py",
   "mimetype": "text/x-python",
   "name": "python",
   "nbconvert_exporter": "python",
   "pygments_lexer": "ipython3",
   "version": "3.9.13"
  },
  "toc": {
   "base_numbering": 1,
   "nav_menu": {
    "height": "138px",
    "width": "320px"
   },
   "number_sections": true,
   "sideBar": true,
   "skip_h1_title": true,
   "title_cell": "Содержание",
   "title_sidebar": "Contents",
   "toc_cell": true,
   "toc_position": {
    "height": "calc(100% - 180px)",
    "left": "10px",
    "top": "150px",
    "width": "384px"
   },
   "toc_section_display": true,
   "toc_window_display": true
  }
 },
 "nbformat": 4,
 "nbformat_minor": 1
}
